{
 "cells": [
  {
   "cell_type": "markdown",
   "id": "4435cf03",
   "metadata": {},
   "source": [
    "# PROJECT NAME : Movie Recommendation System ML PROJECT"
   ]
  },
  {
   "cell_type": "markdown",
   "id": "c9cd6b01",
   "metadata": {},
   "source": [
    "1]Develop a Collaborative Filtering Model: Implement a collaborative filtering model using machine learning techniques to recommend movies based on user ratings and similarities between users.\n",
    "\n",
    "2]Provide Explanation and Interpretability: Develop methods to explain and interpret the movie recommendations to users, such as providing explanations based on user-item similarities or popular movie features.\n",
    "\n",
    "3]Deploy the Recommendation System: Create a user-friendly interface or API to deploy the movie recommendation system, allowing users to interact with and receive personalized movie recommendations."
   ]
  },
  {
   "cell_type": "markdown",
   "id": "2a8d1bdb",
   "metadata": {},
   "source": [
    "# DATA SOURCE"
   ]
  },
  {
   "cell_type": "markdown",
   "id": "5f27fb8c",
   "metadata": {},
   "source": [
    "MovieLens 1M dataset:\n",
    "https://grouplens.org/datasets/movielens/1m/"
   ]
  },
  {
   "cell_type": "markdown",
   "id": "6466335f",
   "metadata": {},
   "source": [
    "# IMPORT LIBRARY"
   ]
  },
  {
   "cell_type": "code",
   "execution_count": 76,
   "id": "56df325e",
   "metadata": {},
   "outputs": [],
   "source": [
    "import pandas as pd"
   ]
  },
  {
   "cell_type": "code",
   "execution_count": 77,
   "id": "fa764e6b",
   "metadata": {},
   "outputs": [],
   "source": [
    "import numpy as np"
   ]
  },
  {
   "cell_type": "markdown",
   "id": "575e6273",
   "metadata": {},
   "source": [
    "# IMPORT DATASET"
   ]
  },
  {
   "cell_type": "code",
   "execution_count": 78,
   "id": "8a3a0e91",
   "metadata": {},
   "outputs": [],
   "source": [
    "df = pd.read_csv(r'C:\\Users\\Prana\\Downloads\\Movies Recommendation.csv')"
   ]
  },
  {
   "cell_type": "markdown",
   "id": "01e84500",
   "metadata": {},
   "source": [
    "# DESCRIBE DATA"
   ]
  },
  {
   "cell_type": "code",
   "execution_count": 79,
   "id": "cc98caf1",
   "metadata": {},
   "outputs": [
    {
     "data": {
      "text/html": [
       "<div>\n",
       "<style scoped>\n",
       "    .dataframe tbody tr th:only-of-type {\n",
       "        vertical-align: middle;\n",
       "    }\n",
       "\n",
       "    .dataframe tbody tr th {\n",
       "        vertical-align: top;\n",
       "    }\n",
       "\n",
       "    .dataframe thead th {\n",
       "        text-align: right;\n",
       "    }\n",
       "</style>\n",
       "<table border=\"1\" class=\"dataframe\">\n",
       "  <thead>\n",
       "    <tr style=\"text-align: right;\">\n",
       "      <th></th>\n",
       "      <th>Movie_ID</th>\n",
       "      <th>Movie_Title</th>\n",
       "      <th>Movie_Genre</th>\n",
       "      <th>Movie_Language</th>\n",
       "      <th>Movie_Budget</th>\n",
       "      <th>Movie_Popularity</th>\n",
       "      <th>Movie_Release_Date</th>\n",
       "      <th>Movie_Revenue</th>\n",
       "      <th>Movie_Runtime</th>\n",
       "      <th>Movie_Vote</th>\n",
       "      <th>...</th>\n",
       "      <th>Movie_Homepage</th>\n",
       "      <th>Movie_Keywords</th>\n",
       "      <th>Movie_Overview</th>\n",
       "      <th>Movie_Production_House</th>\n",
       "      <th>Movie_Production_Country</th>\n",
       "      <th>Movie_Spoken_Language</th>\n",
       "      <th>Movie_Tagline</th>\n",
       "      <th>Movie_Cast</th>\n",
       "      <th>Movie_Crew</th>\n",
       "      <th>Movie_Director</th>\n",
       "    </tr>\n",
       "  </thead>\n",
       "  <tbody>\n",
       "    <tr>\n",
       "      <th>0</th>\n",
       "      <td>1</td>\n",
       "      <td>Four Rooms</td>\n",
       "      <td>Crime Comedy</td>\n",
       "      <td>en</td>\n",
       "      <td>4000000</td>\n",
       "      <td>22.876230</td>\n",
       "      <td>09-12-1995</td>\n",
       "      <td>4300000</td>\n",
       "      <td>98.0</td>\n",
       "      <td>6.5</td>\n",
       "      <td>...</td>\n",
       "      <td>NaN</td>\n",
       "      <td>hotel new year's eve witch bet hotel room</td>\n",
       "      <td>It's Ted the Bellhop's first night on the job....</td>\n",
       "      <td>[{\"name\": \"Miramax Films\", \"id\": 14}, {\"name\":...</td>\n",
       "      <td>[{\"iso_3166_1\": \"US\", \"name\": \"United States o...</td>\n",
       "      <td>[{\"iso_639_1\": \"en\", \"name\": \"English\"}]</td>\n",
       "      <td>Twelve outrageous guests. Four scandalous requ...</td>\n",
       "      <td>Tim Roth Antonio Banderas Jennifer Beals Madon...</td>\n",
       "      <td>[{'name': 'Allison Anders', 'gender': 1, 'depa...</td>\n",
       "      <td>Allison Anders</td>\n",
       "    </tr>\n",
       "    <tr>\n",
       "      <th>1</th>\n",
       "      <td>2</td>\n",
       "      <td>Star Wars</td>\n",
       "      <td>Adventure Action Science Fiction</td>\n",
       "      <td>en</td>\n",
       "      <td>11000000</td>\n",
       "      <td>126.393695</td>\n",
       "      <td>25-05-1977</td>\n",
       "      <td>775398007</td>\n",
       "      <td>121.0</td>\n",
       "      <td>8.1</td>\n",
       "      <td>...</td>\n",
       "      <td>http://www.starwars.com/films/star-wars-episod...</td>\n",
       "      <td>android galaxy hermit death star lightsaber</td>\n",
       "      <td>Princess Leia is captured and held hostage by ...</td>\n",
       "      <td>[{\"name\": \"Lucasfilm\", \"id\": 1}, {\"name\": \"Twe...</td>\n",
       "      <td>[{\"iso_3166_1\": \"US\", \"name\": \"United States o...</td>\n",
       "      <td>[{\"iso_639_1\": \"en\", \"name\": \"English\"}]</td>\n",
       "      <td>A long time ago in a galaxy far, far away...</td>\n",
       "      <td>Mark Hamill Harrison Ford Carrie Fisher Peter ...</td>\n",
       "      <td>[{'name': 'George Lucas', 'gender': 2, 'depart...</td>\n",
       "      <td>George Lucas</td>\n",
       "    </tr>\n",
       "    <tr>\n",
       "      <th>2</th>\n",
       "      <td>3</td>\n",
       "      <td>Finding Nemo</td>\n",
       "      <td>Animation Family</td>\n",
       "      <td>en</td>\n",
       "      <td>94000000</td>\n",
       "      <td>85.688789</td>\n",
       "      <td>30-05-2003</td>\n",
       "      <td>940335536</td>\n",
       "      <td>100.0</td>\n",
       "      <td>7.6</td>\n",
       "      <td>...</td>\n",
       "      <td>http://movies.disney.com/finding-nemo</td>\n",
       "      <td>father son relationship harbor underwater fish...</td>\n",
       "      <td>Nemo, an adventurous young clownfish, is unexp...</td>\n",
       "      <td>[{\"name\": \"Pixar Animation Studios\", \"id\": 3}]</td>\n",
       "      <td>[{\"iso_3166_1\": \"US\", \"name\": \"United States o...</td>\n",
       "      <td>[{\"iso_639_1\": \"en\", \"name\": \"English\"}]</td>\n",
       "      <td>There are 3.7 trillion fish in the ocean, they...</td>\n",
       "      <td>Albert Brooks Ellen DeGeneres Alexander Gould ...</td>\n",
       "      <td>[{'name': 'Andrew Stanton', 'gender': 2, 'depa...</td>\n",
       "      <td>Andrew Stanton</td>\n",
       "    </tr>\n",
       "    <tr>\n",
       "      <th>3</th>\n",
       "      <td>4</td>\n",
       "      <td>Forrest Gump</td>\n",
       "      <td>Comedy Drama Romance</td>\n",
       "      <td>en</td>\n",
       "      <td>55000000</td>\n",
       "      <td>138.133331</td>\n",
       "      <td>06-07-1994</td>\n",
       "      <td>677945399</td>\n",
       "      <td>142.0</td>\n",
       "      <td>8.2</td>\n",
       "      <td>...</td>\n",
       "      <td>NaN</td>\n",
       "      <td>vietnam veteran hippie mentally disabled runni...</td>\n",
       "      <td>A man with a low IQ has accomplished great thi...</td>\n",
       "      <td>[{\"name\": \"Paramount Pictures\", \"id\": 4}]</td>\n",
       "      <td>[{\"iso_3166_1\": \"US\", \"name\": \"United States o...</td>\n",
       "      <td>[{\"iso_639_1\": \"en\", \"name\": \"English\"}]</td>\n",
       "      <td>The world will never be the same, once you've ...</td>\n",
       "      <td>Tom Hanks Robin Wright Gary Sinise Mykelti Wil...</td>\n",
       "      <td>[{'name': 'Alan Silvestri', 'gender': 2, 'depa...</td>\n",
       "      <td>Robert Zemeckis</td>\n",
       "    </tr>\n",
       "    <tr>\n",
       "      <th>4</th>\n",
       "      <td>5</td>\n",
       "      <td>American Beauty</td>\n",
       "      <td>Drama</td>\n",
       "      <td>en</td>\n",
       "      <td>15000000</td>\n",
       "      <td>80.878605</td>\n",
       "      <td>15-09-1999</td>\n",
       "      <td>356296601</td>\n",
       "      <td>122.0</td>\n",
       "      <td>7.9</td>\n",
       "      <td>...</td>\n",
       "      <td>http://www.dreamworks.com/ab/</td>\n",
       "      <td>male nudity female nudity adultery midlife cri...</td>\n",
       "      <td>Lester Burnham, a depressed suburban father in...</td>\n",
       "      <td>[{\"name\": \"DreamWorks SKG\", \"id\": 27}, {\"name\"...</td>\n",
       "      <td>[{\"iso_3166_1\": \"US\", \"name\": \"United States o...</td>\n",
       "      <td>[{\"iso_639_1\": \"en\", \"name\": \"English\"}]</td>\n",
       "      <td>Look closer.</td>\n",
       "      <td>Kevin Spacey Annette Bening Thora Birch Wes Be...</td>\n",
       "      <td>[{'name': 'Thomas Newman', 'gender': 2, 'depar...</td>\n",
       "      <td>Sam Mendes</td>\n",
       "    </tr>\n",
       "  </tbody>\n",
       "</table>\n",
       "<p>5 rows × 21 columns</p>\n",
       "</div>"
      ],
      "text/plain": [
       "   Movie_ID      Movie_Title                       Movie_Genre Movie_Language  \\\n",
       "0         1       Four Rooms                      Crime Comedy             en   \n",
       "1         2        Star Wars  Adventure Action Science Fiction             en   \n",
       "2         3     Finding Nemo                  Animation Family             en   \n",
       "3         4     Forrest Gump              Comedy Drama Romance             en   \n",
       "4         5  American Beauty                             Drama             en   \n",
       "\n",
       "   Movie_Budget  Movie_Popularity Movie_Release_Date  Movie_Revenue  \\\n",
       "0       4000000         22.876230         09-12-1995        4300000   \n",
       "1      11000000        126.393695         25-05-1977      775398007   \n",
       "2      94000000         85.688789         30-05-2003      940335536   \n",
       "3      55000000        138.133331         06-07-1994      677945399   \n",
       "4      15000000         80.878605         15-09-1999      356296601   \n",
       "\n",
       "   Movie_Runtime  Movie_Vote  ...  \\\n",
       "0           98.0         6.5  ...   \n",
       "1          121.0         8.1  ...   \n",
       "2          100.0         7.6  ...   \n",
       "3          142.0         8.2  ...   \n",
       "4          122.0         7.9  ...   \n",
       "\n",
       "                                      Movie_Homepage  \\\n",
       "0                                                NaN   \n",
       "1  http://www.starwars.com/films/star-wars-episod...   \n",
       "2              http://movies.disney.com/finding-nemo   \n",
       "3                                                NaN   \n",
       "4                      http://www.dreamworks.com/ab/   \n",
       "\n",
       "                                      Movie_Keywords  \\\n",
       "0          hotel new year's eve witch bet hotel room   \n",
       "1        android galaxy hermit death star lightsaber   \n",
       "2  father son relationship harbor underwater fish...   \n",
       "3  vietnam veteran hippie mentally disabled runni...   \n",
       "4  male nudity female nudity adultery midlife cri...   \n",
       "\n",
       "                                      Movie_Overview  \\\n",
       "0  It's Ted the Bellhop's first night on the job....   \n",
       "1  Princess Leia is captured and held hostage by ...   \n",
       "2  Nemo, an adventurous young clownfish, is unexp...   \n",
       "3  A man with a low IQ has accomplished great thi...   \n",
       "4  Lester Burnham, a depressed suburban father in...   \n",
       "\n",
       "                              Movie_Production_House  \\\n",
       "0  [{\"name\": \"Miramax Films\", \"id\": 14}, {\"name\":...   \n",
       "1  [{\"name\": \"Lucasfilm\", \"id\": 1}, {\"name\": \"Twe...   \n",
       "2     [{\"name\": \"Pixar Animation Studios\", \"id\": 3}]   \n",
       "3          [{\"name\": \"Paramount Pictures\", \"id\": 4}]   \n",
       "4  [{\"name\": \"DreamWorks SKG\", \"id\": 27}, {\"name\"...   \n",
       "\n",
       "                            Movie_Production_Country  \\\n",
       "0  [{\"iso_3166_1\": \"US\", \"name\": \"United States o...   \n",
       "1  [{\"iso_3166_1\": \"US\", \"name\": \"United States o...   \n",
       "2  [{\"iso_3166_1\": \"US\", \"name\": \"United States o...   \n",
       "3  [{\"iso_3166_1\": \"US\", \"name\": \"United States o...   \n",
       "4  [{\"iso_3166_1\": \"US\", \"name\": \"United States o...   \n",
       "\n",
       "                      Movie_Spoken_Language  \\\n",
       "0  [{\"iso_639_1\": \"en\", \"name\": \"English\"}]   \n",
       "1  [{\"iso_639_1\": \"en\", \"name\": \"English\"}]   \n",
       "2  [{\"iso_639_1\": \"en\", \"name\": \"English\"}]   \n",
       "3  [{\"iso_639_1\": \"en\", \"name\": \"English\"}]   \n",
       "4  [{\"iso_639_1\": \"en\", \"name\": \"English\"}]   \n",
       "\n",
       "                                       Movie_Tagline  \\\n",
       "0  Twelve outrageous guests. Four scandalous requ...   \n",
       "1       A long time ago in a galaxy far, far away...   \n",
       "2  There are 3.7 trillion fish in the ocean, they...   \n",
       "3  The world will never be the same, once you've ...   \n",
       "4                                       Look closer.   \n",
       "\n",
       "                                          Movie_Cast  \\\n",
       "0  Tim Roth Antonio Banderas Jennifer Beals Madon...   \n",
       "1  Mark Hamill Harrison Ford Carrie Fisher Peter ...   \n",
       "2  Albert Brooks Ellen DeGeneres Alexander Gould ...   \n",
       "3  Tom Hanks Robin Wright Gary Sinise Mykelti Wil...   \n",
       "4  Kevin Spacey Annette Bening Thora Birch Wes Be...   \n",
       "\n",
       "                                          Movie_Crew   Movie_Director  \n",
       "0  [{'name': 'Allison Anders', 'gender': 1, 'depa...   Allison Anders  \n",
       "1  [{'name': 'George Lucas', 'gender': 2, 'depart...     George Lucas  \n",
       "2  [{'name': 'Andrew Stanton', 'gender': 2, 'depa...   Andrew Stanton  \n",
       "3  [{'name': 'Alan Silvestri', 'gender': 2, 'depa...  Robert Zemeckis  \n",
       "4  [{'name': 'Thomas Newman', 'gender': 2, 'depar...       Sam Mendes  \n",
       "\n",
       "[5 rows x 21 columns]"
      ]
     },
     "execution_count": 79,
     "metadata": {},
     "output_type": "execute_result"
    }
   ],
   "source": [
    "df.head()"
   ]
  },
  {
   "cell_type": "code",
   "execution_count": 80,
   "id": "4955c8fb",
   "metadata": {},
   "outputs": [
    {
     "name": "stdout",
     "output_type": "stream",
     "text": [
      "<class 'pandas.core.frame.DataFrame'>\n",
      "RangeIndex: 4760 entries, 0 to 4759\n",
      "Data columns (total 21 columns):\n",
      " #   Column                    Non-Null Count  Dtype  \n",
      "---  ------                    --------------  -----  \n",
      " 0   Movie_ID                  4760 non-null   int64  \n",
      " 1   Movie_Title               4760 non-null   object \n",
      " 2   Movie_Genre               4760 non-null   object \n",
      " 3   Movie_Language            4760 non-null   object \n",
      " 4   Movie_Budget              4760 non-null   int64  \n",
      " 5   Movie_Popularity          4760 non-null   float64\n",
      " 6   Movie_Release_Date        4760 non-null   object \n",
      " 7   Movie_Revenue             4760 non-null   int64  \n",
      " 8   Movie_Runtime             4758 non-null   float64\n",
      " 9   Movie_Vote                4760 non-null   float64\n",
      " 10  Movie_Vote_Count          4760 non-null   int64  \n",
      " 11  Movie_Homepage            1699 non-null   object \n",
      " 12  Movie_Keywords            4373 non-null   object \n",
      " 13  Movie_Overview            4757 non-null   object \n",
      " 14  Movie_Production_House    4760 non-null   object \n",
      " 15  Movie_Production_Country  4760 non-null   object \n",
      " 16  Movie_Spoken_Language     4760 non-null   object \n",
      " 17  Movie_Tagline             3942 non-null   object \n",
      " 18  Movie_Cast                4733 non-null   object \n",
      " 19  Movie_Crew                4760 non-null   object \n",
      " 20  Movie_Director            4738 non-null   object \n",
      "dtypes: float64(3), int64(4), object(14)\n",
      "memory usage: 781.1+ KB\n"
     ]
    }
   ],
   "source": [
    "df.info()"
   ]
  },
  {
   "cell_type": "code",
   "execution_count": 81,
   "id": "218bbc0f",
   "metadata": {},
   "outputs": [
    {
     "data": {
      "text/plain": [
       "(4760, 21)"
      ]
     },
     "execution_count": 81,
     "metadata": {},
     "output_type": "execute_result"
    }
   ],
   "source": [
    "df.shape"
   ]
  },
  {
   "cell_type": "code",
   "execution_count": 82,
   "id": "3571b644",
   "metadata": {},
   "outputs": [
    {
     "data": {
      "text/plain": [
       "Index(['Movie_ID', 'Movie_Title', 'Movie_Genre', 'Movie_Language',\n",
       "       'Movie_Budget', 'Movie_Popularity', 'Movie_Release_Date',\n",
       "       'Movie_Revenue', 'Movie_Runtime', 'Movie_Vote', 'Movie_Vote_Count',\n",
       "       'Movie_Homepage', 'Movie_Keywords', 'Movie_Overview',\n",
       "       'Movie_Production_House', 'Movie_Production_Country',\n",
       "       'Movie_Spoken_Language', 'Movie_Tagline', 'Movie_Cast', 'Movie_Crew',\n",
       "       'Movie_Director'],\n",
       "      dtype='object')"
      ]
     },
     "execution_count": 82,
     "metadata": {},
     "output_type": "execute_result"
    }
   ],
   "source": [
    "df.columns"
   ]
  },
  {
   "cell_type": "markdown",
   "id": "70a4a2ea",
   "metadata": {},
   "source": [
    "# GET FEATURE SELECTION"
   ]
  },
  {
   "cell_type": "code",
   "execution_count": 83,
   "id": "1c8970b9",
   "metadata": {},
   "outputs": [],
   "source": [
    "df_features = df[['Movie_Genre','Movie_Tagline','Movie_Cast','Movie_Director']].fillna('')"
   ]
  },
  {
   "cell_type": "code",
   "execution_count": 84,
   "id": "f10f083e",
   "metadata": {},
   "outputs": [
    {
     "data": {
      "text/plain": [
       "(4760, 4)"
      ]
     },
     "execution_count": 84,
     "metadata": {},
     "output_type": "execute_result"
    }
   ],
   "source": [
    "df_features.shape"
   ]
  },
  {
   "cell_type": "code",
   "execution_count": 85,
   "id": "f3a592b1",
   "metadata": {
    "scrolled": false
   },
   "outputs": [
    {
     "data": {
      "text/html": [
       "<div>\n",
       "<style scoped>\n",
       "    .dataframe tbody tr th:only-of-type {\n",
       "        vertical-align: middle;\n",
       "    }\n",
       "\n",
       "    .dataframe tbody tr th {\n",
       "        vertical-align: top;\n",
       "    }\n",
       "\n",
       "    .dataframe thead th {\n",
       "        text-align: right;\n",
       "    }\n",
       "</style>\n",
       "<table border=\"1\" class=\"dataframe\">\n",
       "  <thead>\n",
       "    <tr style=\"text-align: right;\">\n",
       "      <th></th>\n",
       "      <th>Movie_Genre</th>\n",
       "      <th>Movie_Tagline</th>\n",
       "      <th>Movie_Cast</th>\n",
       "      <th>Movie_Director</th>\n",
       "    </tr>\n",
       "  </thead>\n",
       "  <tbody>\n",
       "    <tr>\n",
       "      <th>0</th>\n",
       "      <td>Crime Comedy</td>\n",
       "      <td>Twelve outrageous guests. Four scandalous requ...</td>\n",
       "      <td>Tim Roth Antonio Banderas Jennifer Beals Madon...</td>\n",
       "      <td>Allison Anders</td>\n",
       "    </tr>\n",
       "    <tr>\n",
       "      <th>1</th>\n",
       "      <td>Adventure Action Science Fiction</td>\n",
       "      <td>A long time ago in a galaxy far, far away...</td>\n",
       "      <td>Mark Hamill Harrison Ford Carrie Fisher Peter ...</td>\n",
       "      <td>George Lucas</td>\n",
       "    </tr>\n",
       "    <tr>\n",
       "      <th>2</th>\n",
       "      <td>Animation Family</td>\n",
       "      <td>There are 3.7 trillion fish in the ocean, they...</td>\n",
       "      <td>Albert Brooks Ellen DeGeneres Alexander Gould ...</td>\n",
       "      <td>Andrew Stanton</td>\n",
       "    </tr>\n",
       "    <tr>\n",
       "      <th>3</th>\n",
       "      <td>Comedy Drama Romance</td>\n",
       "      <td>The world will never be the same, once you've ...</td>\n",
       "      <td>Tom Hanks Robin Wright Gary Sinise Mykelti Wil...</td>\n",
       "      <td>Robert Zemeckis</td>\n",
       "    </tr>\n",
       "    <tr>\n",
       "      <th>4</th>\n",
       "      <td>Drama</td>\n",
       "      <td>Look closer.</td>\n",
       "      <td>Kevin Spacey Annette Bening Thora Birch Wes Be...</td>\n",
       "      <td>Sam Mendes</td>\n",
       "    </tr>\n",
       "    <tr>\n",
       "      <th>...</th>\n",
       "      <td>...</td>\n",
       "      <td>...</td>\n",
       "      <td>...</td>\n",
       "      <td>...</td>\n",
       "    </tr>\n",
       "    <tr>\n",
       "      <th>4755</th>\n",
       "      <td>Horror</td>\n",
       "      <td>The hot spot where Satan's waitin'.</td>\n",
       "      <td>Lisa Hart Carroll Michael Des Barres Paul Drak...</td>\n",
       "      <td>Pece Dingo</td>\n",
       "    </tr>\n",
       "    <tr>\n",
       "      <th>4756</th>\n",
       "      <td>Comedy Family Drama</td>\n",
       "      <td>It’s better to stand out than to fit in.</td>\n",
       "      <td>Roni Akurati Brighton Sharbino Jason Lee Anjul...</td>\n",
       "      <td>Frank Lotito</td>\n",
       "    </tr>\n",
       "    <tr>\n",
       "      <th>4757</th>\n",
       "      <td>Thriller Drama</td>\n",
       "      <td>She never knew it could happen to her...</td>\n",
       "      <td>Nicole Smolen Kim Baldwin Ariana Stephens Brys...</td>\n",
       "      <td>Jaco Booyens</td>\n",
       "    </tr>\n",
       "    <tr>\n",
       "      <th>4758</th>\n",
       "      <td>Family</td>\n",
       "      <td></td>\n",
       "      <td></td>\n",
       "      <td></td>\n",
       "    </tr>\n",
       "    <tr>\n",
       "      <th>4759</th>\n",
       "      <td>Documentary</td>\n",
       "      <td></td>\n",
       "      <td>Tony Oppedisano</td>\n",
       "      <td>Simon Napier-Bell</td>\n",
       "    </tr>\n",
       "  </tbody>\n",
       "</table>\n",
       "<p>4760 rows × 4 columns</p>\n",
       "</div>"
      ],
      "text/plain": [
       "                           Movie_Genre  \\\n",
       "0                         Crime Comedy   \n",
       "1     Adventure Action Science Fiction   \n",
       "2                     Animation Family   \n",
       "3                 Comedy Drama Romance   \n",
       "4                                Drama   \n",
       "...                                ...   \n",
       "4755                            Horror   \n",
       "4756               Comedy Family Drama   \n",
       "4757                    Thriller Drama   \n",
       "4758                            Family   \n",
       "4759                       Documentary   \n",
       "\n",
       "                                          Movie_Tagline  \\\n",
       "0     Twelve outrageous guests. Four scandalous requ...   \n",
       "1          A long time ago in a galaxy far, far away...   \n",
       "2     There are 3.7 trillion fish in the ocean, they...   \n",
       "3     The world will never be the same, once you've ...   \n",
       "4                                          Look closer.   \n",
       "...                                                 ...   \n",
       "4755                The hot spot where Satan's waitin'.   \n",
       "4756           It’s better to stand out than to fit in.   \n",
       "4757           She never knew it could happen to her...   \n",
       "4758                                                      \n",
       "4759                                                      \n",
       "\n",
       "                                             Movie_Cast     Movie_Director  \n",
       "0     Tim Roth Antonio Banderas Jennifer Beals Madon...     Allison Anders  \n",
       "1     Mark Hamill Harrison Ford Carrie Fisher Peter ...       George Lucas  \n",
       "2     Albert Brooks Ellen DeGeneres Alexander Gould ...     Andrew Stanton  \n",
       "3     Tom Hanks Robin Wright Gary Sinise Mykelti Wil...    Robert Zemeckis  \n",
       "4     Kevin Spacey Annette Bening Thora Birch Wes Be...         Sam Mendes  \n",
       "...                                                 ...                ...  \n",
       "4755  Lisa Hart Carroll Michael Des Barres Paul Drak...         Pece Dingo  \n",
       "4756  Roni Akurati Brighton Sharbino Jason Lee Anjul...       Frank Lotito  \n",
       "4757  Nicole Smolen Kim Baldwin Ariana Stephens Brys...       Jaco Booyens  \n",
       "4758                                                                        \n",
       "4759                                    Tony Oppedisano  Simon Napier-Bell  \n",
       "\n",
       "[4760 rows x 4 columns]"
      ]
     },
     "execution_count": 85,
     "metadata": {},
     "output_type": "execute_result"
    }
   ],
   "source": [
    "df_features"
   ]
  },
  {
   "cell_type": "code",
   "execution_count": 86,
   "id": "8162a436",
   "metadata": {},
   "outputs": [],
   "source": [
    "X = df_features['Movie_Genre']+' '+ df_features['Movie_Tagline']+' '+df_features['Movie_Cast']+' '+df_features['Movie_Director']"
   ]
  },
  {
   "cell_type": "code",
   "execution_count": 87,
   "id": "ef1b0776",
   "metadata": {},
   "outputs": [
    {
     "data": {
      "text/plain": [
       "0       Crime Comedy Twelve outrageous guests. Four sc...\n",
       "1       Adventure Action Science Fiction A long time a...\n",
       "2       Animation Family There are 3.7 trillion fish i...\n",
       "3       Comedy Drama Romance The world will never be t...\n",
       "4       Drama Look closer. Kevin Spacey Annette Bening...\n",
       "                              ...                        \n",
       "4755    Horror The hot spot where Satan's waitin'. Lis...\n",
       "4756    Comedy Family Drama It’s better to stand out t...\n",
       "4757    Thriller Drama She never knew it could happen ...\n",
       "4758                                            Family   \n",
       "4759       Documentary  Tony Oppedisano Simon Napier-Bell\n",
       "Length: 4760, dtype: object"
      ]
     },
     "execution_count": 87,
     "metadata": {},
     "output_type": "execute_result"
    }
   ],
   "source": [
    "X\n"
   ]
  },
  {
   "cell_type": "code",
   "execution_count": 88,
   "id": "836b9d04",
   "metadata": {},
   "outputs": [
    {
     "data": {
      "text/plain": [
       "(4760,)"
      ]
     },
     "execution_count": 88,
     "metadata": {},
     "output_type": "execute_result"
    }
   ],
   "source": [
    "X.shape"
   ]
  },
  {
   "cell_type": "markdown",
   "id": "14cf860e",
   "metadata": {},
   "source": [
    "# GET FEATURE TEXT CONVERSION TO TOKENS"
   ]
  },
  {
   "cell_type": "code",
   "execution_count": 89,
   "id": "3bd515ec",
   "metadata": {},
   "outputs": [],
   "source": [
    "from sklearn.feature_extraction.text import TfidfVectorizer"
   ]
  },
  {
   "cell_type": "code",
   "execution_count": 90,
   "id": "fef3269a",
   "metadata": {},
   "outputs": [],
   "source": [
    "tfidf = TfidfVectorizer()"
   ]
  },
  {
   "cell_type": "code",
   "execution_count": 91,
   "id": "b688818f",
   "metadata": {},
   "outputs": [],
   "source": [
    "X = tfidf.fit_transform(X)"
   ]
  },
  {
   "cell_type": "code",
   "execution_count": 92,
   "id": "5b78255b",
   "metadata": {},
   "outputs": [
    {
     "data": {
      "text/plain": [
       "(4760, 14522)"
      ]
     },
     "execution_count": 92,
     "metadata": {},
     "output_type": "execute_result"
    }
   ],
   "source": [
    "X.shape"
   ]
  },
  {
   "cell_type": "code",
   "execution_count": 93,
   "id": "a476fd2e",
   "metadata": {},
   "outputs": [
    {
     "name": "stdout",
     "output_type": "stream",
     "text": [
      "  (0, 536)\t0.18650035534391993\n",
      "  (0, 425)\t0.163573988034563\n",
      "  (0, 12942)\t0.1673343571078569\n",
      "  (0, 8260)\t0.16243380336877533\n",
      "  (0, 8073)\t0.1895214821424654\n",
      "  (0, 1162)\t0.19294655321876156\n",
      "  (0, 6582)\t0.11189186354263483\n",
      "  (0, 1012)\t0.15832102537496356\n",
      "  (0, 635)\t0.15317383577872903\n",
      "  (0, 11059)\t0.163573988034563\n",
      "  (0, 12888)\t0.11963620447432914\n",
      "  (0, 7696)\t0.11052960016040947\n",
      "  (0, 9522)\t0.0817193034473646\n",
      "  (0, 4238)\t0.1813531657476854\n",
      "  (0, 14325)\t0.15477747865376898\n",
      "  (0, 9299)\t0.13177600168161205\n",
      "  (0, 14080)\t0.20157704304573848\n",
      "  (0, 4683)\t0.098789221275497\n",
      "  (0, 14047)\t0.12205988813713547\n",
      "  (0, 6652)\t0.17174230442934296\n",
      "  (0, 12768)\t0.11431048024187192\n",
      "  (0, 9596)\t0.1084085633118925\n",
      "  (0, 3252)\t0.1387089301293658\n",
      "  (0, 4594)\t0.13827045908436408\n",
      "  (0, 5989)\t0.2263333132749165\n",
      "  :\t:\n",
      "  (4757, 1894)\t0.30757798308075385\n",
      "  (4757, 11986)\t0.30757798308075385\n",
      "  (4757, 699)\t0.29336587999264124\n",
      "  (4757, 4852)\t0.258986481674795\n",
      "  (4757, 12273)\t0.258986481674795\n",
      "  (4757, 990)\t0.2017079859012847\n",
      "  (4757, 2910)\t0.2126571431460345\n",
      "  (4757, 5624)\t0.23256575558502307\n",
      "  (4757, 11699)\t0.17574280735214792\n",
      "  (4757, 9341)\t0.19618287718072355\n",
      "  (4757, 7169)\t0.2511649969371266\n",
      "  (4757, 5877)\t0.1824610108818817\n",
      "  (4757, 7089)\t0.1866512308804554\n",
      "  (4757, 12845)\t0.08173029845757258\n",
      "  (4757, 12916)\t0.10610980394127228\n",
      "  (4757, 6421)\t0.12266242201117997\n",
      "  (4757, 9297)\t0.15532169957924374\n",
      "  (4757, 3766)\t0.060644484319855856\n",
      "  (4758, 4374)\t1.0\n",
      "  (4759, 9616)\t0.5572028145970158\n",
      "  (4759, 9188)\t0.5131890638764602\n",
      "  (4759, 3647)\t0.30216883908425024\n",
      "  (4759, 11875)\t0.329655024339566\n",
      "  (4759, 12960)\t0.32296479807592227\n",
      "  (4759, 1247)\t0.34910930228325543\n"
     ]
    }
   ],
   "source": [
    "print(X)"
   ]
  },
  {
   "cell_type": "markdown",
   "id": "080c1e0f",
   "metadata": {},
   "source": [
    "# GET SIMILARITY SCORE USING COSINE SIMILARITY"
   ]
  },
  {
   "cell_type": "code",
   "execution_count": 94,
   "id": "ccbee689",
   "metadata": {},
   "outputs": [],
   "source": [
    "from sklearn.metrics.pairwise import cosine_similarity"
   ]
  },
  {
   "cell_type": "code",
   "execution_count": 95,
   "id": "d9980cfe",
   "metadata": {},
   "outputs": [],
   "source": [
    "Similarity_Score = cosine_similarity(X)"
   ]
  },
  {
   "cell_type": "code",
   "execution_count": 96,
   "id": "eaae6854",
   "metadata": {},
   "outputs": [
    {
     "data": {
      "text/plain": [
       "array([[1.        , 0.02078195, 0.05449681, ..., 0.        , 0.        ,\n",
       "        0.        ],\n",
       "       [0.02078195, 1.        , 0.01356195, ..., 0.        , 0.        ,\n",
       "        0.        ],\n",
       "       [0.05449681, 0.01356195, 1.        , ..., 0.        , 0.10459462,\n",
       "        0.        ],\n",
       "       ...,\n",
       "       [0.        , 0.        , 0.        , ..., 1.        , 0.        ,\n",
       "        0.        ],\n",
       "       [0.        , 0.        , 0.10459462, ..., 0.        , 1.        ,\n",
       "        0.        ],\n",
       "       [0.        , 0.        , 0.        , ..., 0.        , 0.        ,\n",
       "        1.        ]])"
      ]
     },
     "execution_count": 96,
     "metadata": {},
     "output_type": "execute_result"
    }
   ],
   "source": [
    "Similarity_Score"
   ]
  },
  {
   "cell_type": "code",
   "execution_count": 97,
   "id": "15a9ce00",
   "metadata": {},
   "outputs": [
    {
     "data": {
      "text/plain": [
       "(4760, 4760)"
      ]
     },
     "execution_count": 97,
     "metadata": {},
     "output_type": "execute_result"
    }
   ],
   "source": [
    "Similarity_Score.shape"
   ]
  },
  {
   "cell_type": "markdown",
   "id": "73330ba8",
   "metadata": {},
   "source": [
    "# GET MOVIE NAME AS INPUT USER AND VALIDATE FOR CLOSEST SPELLING"
   ]
  },
  {
   "cell_type": "code",
   "execution_count": 98,
   "id": "b321cb9f",
   "metadata": {},
   "outputs": [
    {
     "name": "stdout",
     "output_type": "stream",
     "text": [
      "Enter Your Favorite Movie Name : avengers\n"
     ]
    }
   ],
   "source": [
    "Favorite_Movie_Name = input('Enter Your Favorite Movie Name : ')"
   ]
  },
  {
   "cell_type": "code",
   "execution_count": 99,
   "id": "da48560b",
   "metadata": {},
   "outputs": [],
   "source": [
    "All_Movies_Title_List = df['Movie_Title'].tolist()"
   ]
  },
  {
   "cell_type": "code",
   "execution_count": 100,
   "id": "0d9900fb",
   "metadata": {},
   "outputs": [],
   "source": [
    "import difflib"
   ]
  },
  {
   "cell_type": "code",
   "execution_count": 101,
   "id": "fd322b87",
   "metadata": {},
   "outputs": [],
   "source": [
    "Movie_Recommendation = difflib.get_close_matches(Favorite_Movie_Name, All_Movies_Title_List)"
   ]
  },
  {
   "cell_type": "code",
   "execution_count": 102,
   "id": "b3137b36",
   "metadata": {},
   "outputs": [
    {
     "name": "stdout",
     "output_type": "stream",
     "text": [
      "['The Avengers', 'Savages', 'Swingers']\n"
     ]
    }
   ],
   "source": [
    "print(Movie_Recommendation)"
   ]
  },
  {
   "cell_type": "code",
   "execution_count": 103,
   "id": "d78e4469",
   "metadata": {},
   "outputs": [
    {
     "name": "stdout",
     "output_type": "stream",
     "text": [
      "The Avengers\n"
     ]
    }
   ],
   "source": [
    "Close_Match = Movie_Recommendation[0]\n",
    "print(Close_Match)"
   ]
  },
  {
   "cell_type": "code",
   "execution_count": 104,
   "id": "339fffc6",
   "metadata": {},
   "outputs": [
    {
     "name": "stdout",
     "output_type": "stream",
     "text": [
      "2851\n"
     ]
    }
   ],
   "source": [
    "Index_of_Close_Match_Movie = df[df.Movie_Title == Close_Match]['Movie_ID'].values[0]\n",
    "print(Index_of_Close_Match_Movie)"
   ]
  },
  {
   "cell_type": "markdown",
   "id": "b5795acb",
   "metadata": {},
   "source": [
    "#### GETTING LIST OF SIMILAR MOVIES"
   ]
  },
  {
   "cell_type": "code",
   "execution_count": 105,
   "id": "54d9fc34",
   "metadata": {},
   "outputs": [
    {
     "name": "stdout",
     "output_type": "stream",
     "text": [
      "[(0, 0.0), (1, 0.0), (2, 0.03745130849553174), (3, 0.0), (4, 0.0), (5, 0.012514249696624269), (6, 0.0), (7, 0.0), (8, 0.0), (9, 0.012695590389206653), (10, 0.0), (11, 0.01547094898643058), (12, 0.0), (13, 0.0), (14, 0.05536603533501816), (15, 0.0), (16, 0.0), (17, 0.0), (18, 0.02689241698330939), (19, 0.05870184679328608), (20, 0.0), (21, 0.0), (22, 0.0), (23, 0.0), (24, 0.0), (25, 0.010605807537747711), (26, 0.0), (27, 0.0), (28, 0.0), (29, 0.0), (30, 0.027112012446756237), (31, 0.0), (32, 0.0), (33, 0.0), (34, 0.03542113998491071), (35, 0.0), (36, 0.0), (37, 0.0), (38, 0.0), (39, 0.0), (40, 0.0), (41, 0.0), (42, 0.013085534878028004), (43, 0.0), (44, 0.0), (45, 0.055353535919512045), (46, 0.0), (47, 0.0), (48, 0.0), (49, 0.012595232386805759), (50, 0.0), (51, 0.0), (52, 0.042817125301722526), (53, 0.01284906192446495), (54, 0.013858417776624762), (55, 0.0), (56, 0.0), (57, 0.0), (58, 0.020673625093060838), (59, 0.0), (60, 0.0), (61, 0.0), (62, 0.0), (63, 0.0), (64, 0.03678358639802387), (65, 0.029993015692571318), (66, 0.01347996145227838), (67, 0.02630997685986576), (68, 0.0), (69, 0.025753785583557703), (70, 0.03325319088326837), (71, 0.0), (72, 0.0), (73, 0.011857834870879755), (74, 0.0), (75, 0.034345657411046296), (76, 0.01053548798171939), (77, 0.0), (78, 0.0497523047985164), (79, 0.0), (80, 0.028885036796815686), (81, 0.0), (82, 0.026852295498894813), (83, 0.0), (84, 0.0), (85, 0.0), (86, 0.0), (87, 0.0), (88, 0.0), (89, 0.0), (90, 0.04608535233758712), (91, 0.012206971956368644), (92, 0.0), (93, 0.03935804186655323), (94, 0.03886127857479286), (95, 0.04268827075602795), (96, 0.0), (97, 0.0), (98, 0.0), (99, 0.0), (100, 0.0), (101, 0.0), (102, 0.0), (103, 0.0), (104, 0.0), (105, 0.041245660514190825), (106, 0.009617958910325432), (107, 0.0), (108, 0.01847331272143324), (109, 0.0), (110, 0.0), (111, 0.011917535701590374), (112, 0.0), (113, 0.0265706494204782), (114, 0.0), (115, 0.06545559578921349), (116, 0.129717892969705), (117, 0.014470644838909563), (118, 0.0), (119, 0.0), (120, 0.015407587362122053), (121, 0.0), (122, 0.0), (123, 0.0), (124, 0.011012145252034942), (125, 0.0), (126, 0.03322923819723702), (127, 0.0), (128, 0.0), (129, 0.0), (130, 0.0), (131, 0.013033080538894523), (132, 0.0), (133, 0.0), (134, 0.0), (135, 0.0), (136, 0.0), (137, 0.04115512425125828), (138, 0.0), (139, 0.0), (140, 0.0), (141, 0.0), (142, 0.0), (143, 0.0), (144, 0.0), (145, 0.0), (146, 0.07046915072413222), (147, 0.0), (148, 0.0), (149, 0.02175406836439339), (150, 0.0), (151, 0.0), (152, 0.08728388635119282), (153, 0.01444590084795406), (154, 0.13095140578548123), (155, 0.02709885570410946), (156, 0.025730448948594796), (157, 0.0), (158, 0.0), (159, 0.0), (160, 0.0), (161, 0.011481425152041438), (162, 0.0), (163, 0.0), (164, 0.0), (165, 0.0), (166, 0.0), (167, 0.0), (168, 0.0), (169, 0.0), (170, 0.0), (171, 0.0), (172, 0.0), (173, 0.030074392924570377), (174, 0.0), (175, 0.0), (176, 0.0), (177, 0.010960456226149287), (178, 0.028688940827254192), (179, 0.03939566528170285), (180, 0.0), (181, 0.0), (182, 0.0), (183, 0.03200417782144007), (184, 0.0), (185, 0.01300022273588048), (186, 0.0), (187, 0.0), (188, 0.013663006669489587), (189, 0.0), (190, 0.0), (191, 0.011103502795749483), (192, 0.030395112650014565), (193, 0.013451329979520912), (194, 0.0), (195, 0.021016632045168494), (196, 0.020809871031127813), (197, 0.0), (198, 0.0569159556226493), (199, 0.0), (200, 0.0), (201, 0.0), (202, 0.027118227122775458), (203, 0.0), (204, 0.013689198964402374), (205, 0.01300324937638022), (206, 0.04047131244313355), (207, 0.0), (208, 0.0), (209, 0.0), (210, 0.0), (211, 0.0), (212, 0.0), (213, 0.02633145777193682), (214, 0.0), (215, 0.012643582637809238), (216, 0.0), (217, 0.028993322313542392), (218, 0.0), (219, 0.013848012661049312), (220, 0.0), (221, 0.0), (222, 0.0), (223, 0.0), (224, 0.0), (225, 0.0), (226, 0.0), (227, 0.0), (228, 0.0), (229, 0.0), (230, 0.0), (231, 0.0), (232, 0.0), (233, 0.0), (234, 0.0), (235, 0.0), (236, 0.02778175315934741), (237, 0.030536787516936937), (238, 0.0), (239, 0.0), (240, 0.011723620970860013), (241, 0.0), (242, 0.010693279744160993), (243, 0.008955525262254885), (244, 0.0), (245, 0.014580157856163727), (246, 0.033249255509909044), (247, 0.0), (248, 0.0), (249, 0.03080404480853362), (250, 0.0), (251, 0.0), (252, 0.0), (253, 0.0), (254, 0.0), (255, 0.0), (256, 0.0), (257, 0.011563051215571295), (258, 0.0), (259, 0.013437712109096547), (260, 0.0), (261, 0.0), (262, 0.0), (263, 0.0), (264, 0.0), (265, 0.0), (266, 0.02327817540892056), (267, 0.0), (268, 0.0), (269, 0.023584923586168486), (270, 0.01372917487604409), (271, 0.0), (272, 0.0), (273, 0.03493570793388082), (274, 0.0), (275, 0.0), (276, 0.0), (277, 0.05025334113005284), (278, 0.0), (279, 0.0), (280, 0.0), (281, 0.0), (282, 0.0), (283, 0.0), (284, 0.0), (285, 0.0), (286, 0.0), (287, 0.0), (288, 0.009941669017740707), (289, 0.0), (290, 0.0), (291, 0.0), (292, 0.0), (293, 0.0), (294, 0.009448819732121099), (295, 0.0), (296, 0.0), (297, 0.05306778057188848), (298, 0.050632370384185055), (299, 0.04708530835484938), (300, 0.046953546737402325), (301, 0.05094752114472566), (302, 0.05051408922924404), (303, 0.0), (304, 0.02349339395689633), (305, 0.05729242630246658), (306, 0.011368882856920857), (307, 0.0), (308, 0.0), (309, 0.009650630015771947), (310, 0.0), (311, 0.0), (312, 0.015106799467468467), (313, 0.0), (314, 0.011396259009311524), (315, 0.012557857486319424), (316, 0.0), (317, 0.011527171632487192), (318, 0.0), (319, 0.0), (320, 0.0), (321, 0.012468728048997407), (322, 0.01260395622653621), (323, 0.0), (324, 0.011656911051256245), (325, 0.012963684328128092), (326, 0.0), (327, 0.0), (328, 0.0), (329, 0.0), (330, 0.008088940945082912), (331, 0.0), (332, 0.0), (333, 0.012127190415716997), (334, 0.011007579846121262), (335, 0.012384526686709033), (336, 0.0), (337, 0.0), (338, 0.011946210559454091), (339, 0.0), (340, 0.05201702489409054), (341, 0.0), (342, 0.0), (343, 0.0), (344, 0.08472904525715952), (345, 0.04521981635703486), (346, 0.014445465852875873), (347, 0.0), (348, 0.0), (349, 0.0), (350, 0.0), (351, 0.00969741960350266), (352, 0.0), (353, 0.0), (354, 0.0), (355, 0.0), (356, 0.0), (357, 0.022469855568002083), (358, 0.0), (359, 0.0), (360, 0.012258239442416656), (361, 0.014551445484005391), (362, 0.015043140570245053), (363, 0.015640168122245734), (364, 0.0), (365, 0.052316290020552506), (366, 0.009651504580194736), (367, 0.0), (368, 0.0), (369, 0.0), (370, 0.0), (371, 0.0), (372, 0.0), (373, 0.0), (374, 0.027344627839437717), (375, 0.0), (376, 0.0), (377, 0.0), (378, 0.027765807919317077), (379, 0.0), (380, 0.0317466873343467), (381, 0.0), (382, 0.0), (383, 0.012227302778495397), (384, 0.042295692351289826), (385, 0.014539631290436651), (386, 0.03181320501232951), (387, 0.0), (388, 0.0), (389, 0.0), (390, 0.0), (391, 0.017494698247716208), (392, 0.046406198892658145), (393, 0.02780179975412109), (394, 0.010831265892653838), (395, 0.0), (396, 0.0), (397, 0.0), (398, 0.0), (399, 0.19111285358475189), (400, 0.0), (401, 0.015083301896037184), (402, 0.0), (403, 0.02423989203350251), (404, 0.013504432380483385), (405, 0.06463651687017588), (406, 0.0), (407, 0.0), (408, 0.03262219102117075), (409, 0.013414571509551523), (410, 0.026579519579256406), (411, 0.0), (412, 0.0), (413, 0.014802695030540276), (414, 0.022709904653464643), (415, 0.0), (416, 0.0), (417, 0.0), (418, 0.0), (419, 0.0), (420, 0.0), (421, 0.041762159710291055), (422, 0.0), (423, 0.013852932226458853), (424, 0.03515440748278844), (425, 0.0), (426, 0.0), (427, 0.0), (428, 0.0), (429, 0.0), (430, 0.044910133384703635), (431, 0.0), (432, 0.0), (433, 0.009988121930006899), (434, 0.0), (435, 0.04313213627589381), (436, 0.0), (437, 0.013287677939078679), (438, 0.0), (439, 0.01302150628693565), (440, 0.0), (441, 0.0), (442, 0.0), (443, 0.030626141533579797), (444, 0.0), (445, 0.010635557775857195), (446, 0.0), (447, 0.012870212023069599), (448, 0.0), (449, 0.0), (450, 0.0), (451, 0.04865751692397618), (452, 0.0), (453, 0.01932883935609068), (454, 0.0), (455, 0.0), (456, 0.013070468436983599), (457, 0.011769985329847623), (458, 0.0), (459, 0.01315132841408803), (460, 0.0), (461, 0.07152498941637311), (462, 0.0), (463, 0.04256094276614374), (464, 0.012002975424577966), (465, 0.0), (466, 0.012423397316391874), (467, 0.0), (468, 0.0), (469, 0.010090021626228999), (470, 0.0), (471, 0.0), (472, 0.013263109733729414), (473, 0.0), (474, 0.0), (475, 0.0231549956534522), (476, 0.0), (477, 0.027051402750572502), (478, 0.0), (479, 0.0), (480, 0.0), (481, 0.0), (482, 0.0), (483, 0.0), (484, 0.0), (485, 0.013374086515328164), (486, 0.0), (487, 0.0), (488, 0.0), (489, 0.0), (490, 0.0), (491, 0.0), (492, 0.012118985899315763), (493, 0.0), (494, 0.02757652139540347), (495, 0.02213879076788991), (496, 0.0), (497, 0.012075318979731709), (498, 0.036353675314904674), (499, 0.0), (500, 0.0), (501, 0.010899629972074113), (502, 0.0), (503, 0.0), (504, 0.0), (505, 0.0), (506, 0.00992231859908576), (507, 0.0), (508, 0.015386081232202782), (509, 0.02984178517510545), (510, 0.009327323614299459), (511, 0.011584343402003407), (512, 0.0), (513, 0.0), (514, 0.029684623502634924), (515, 0.0), (516, 0.0), (517, 0.012919240824796932), (518, 0.045101192767347156), (519, 0.0), (520, 0.0333942725668968), (521, 0.0), (522, 0.08476496977200966), (523, 0.0), (524, 0.029883203282625545), (525, 0.0), (526, 0.0), (527, 0.01035615032590091), (528, 0.028818090509768773), (529, 0.0), (530, 0.0), (531, 0.0), (532, 0.0), (533, 0.0), (534, 0.0), (535, 0.0), (536, 0.0), (537, 0.0), (538, 0.0), (539, 0.033033048112611374), (540, 0.027252649264956564), (541, 0.02561773790903927), (542, 0.008269716299899319), (543, 0.0), (544, 0.0), (545, 0.04050745570393448), (546, 0.06590265215507606), (547, 0.0), (548, 0.0), (549, 0.012623082356370434), (550, 0.0), (551, 0.0), (552, 0.0), (553, 0.027682567895886516), (554, 0.0), (555, 0.0), (556, 0.012013277067463777), (557, 0.0), (558, 0.023335263401093872), (559, 0.023520787029116964), (560, 0.0), (561, 0.008383304439880222), (562, 0.04466859192939199), (563, 0.021374999007609054), (564, 0.0), (565, 0.02826158081002151), (566, 0.0), (567, 0.03197252314727167), (568, 0.0), (569, 0.03802306531476475), (570, 0.0), (571, 0.0), (572, 0.0), (573, 0.0), (574, 0.0), (575, 0.0), (576, 0.016747842869455916), (577, 0.010795216346188172), (578, 0.012185914595841918), (579, 0.0), (580, 0.0), (581, 0.0), (582, 0.0), (583, 0.011366428973078355), (584, 0.0), (585, 0.0), (586, 0.0), (587, 0.0), (588, 0.034406902776628744), (589, 0.0), (590, 0.0), (591, 0.0), (592, 0.0), (593, 0.0), (594, 0.0), (595, 0.0), (596, 0.0), (597, 0.024596343326843385), (598, 0.0), (599, 0.0), (600, 0.0), (601, 0.0), (602, 0.0), (603, 0.0), (604, 0.0), (605, 0.0), (606, 0.0), (607, 0.0), (608, 0.0), (609, 0.009504844730171642), (610, 0.032933993070362926), (611, 0.025524556315027536), (612, 0.012554005380307003), (613, 0.0), (614, 0.0), (615, 0.0), (616, 0.0), (617, 0.0), (618, 0.0), (619, 0.0), (620, 0.0), (621, 0.030752930546118218), (622, 0.026689829146757618), (623, 0.0), (624, 0.0), (625, 0.023668745366379137), (626, 0.0), (627, 0.0), (628, 0.0), (629, 0.0), (630, 0.0), (631, 0.0), (632, 0.0), (633, 0.02613332229461019), (634, 0.0), (635, 0.0), (636, 0.0), (637, 0.012469475699962908), (638, 0.01135407718337905), (639, 0.05851174817583296), (640, 0.010297186267179112), (641, 0.009462323066005177), (642, 0.13328459787948566), (643, 0.0), (644, 0.0), (645, 0.010175977582658447), (646, 0.0), (647, 0.0), (648, 0.0), (649, 0.0), (650, 0.0), (651, 0.07449227067004054), (652, 0.06090258593893549), (653, 0.0), (654, 0.0), (655, 0.01119226046529177), (656, 0.04265959159151937), (657, 0.08730707253182395), (658, 0.024492745721152898), (659, 0.011747054860857177), (660, 0.03225658321622611), (661, 0.06588051010528725), (662, 0.02578862705675278), (663, 0.0), (664, 0.0), (665, 0.05863815913135503), (666, 0.0), (667, 0.0), (668, 0.0), (669, 0.0), (670, 0.0), (671, 0.0), (672, 0.0), (673, 0.0), (674, 0.0), (675, 0.0), (676, 0.0), (677, 0.0), (678, 0.03425425619313578), (679, 0.014233537646125408), (680, 0.03396740967076655), (681, 0.0), (682, 0.0), (683, 0.0), (684, 0.0), (685, 0.0), (686, 0.04781471469935432), (687, 0.03106910622272959), (688, 0.014599773301458821), (689, 0.07748203494778871), (690, 0.01055900960173962), (691, 0.0678535071687833), (692, 0.0), (693, 0.0), (694, 0.0), (695, 0.0), (696, 0.012077728102123953), (697, 0.0), (698, 0.0), (699, 0.05592589006651384), (700, 0.014183954606194633), (701, 0.0), (702, 0.011854701643692154), (703, 0.01289405368722054), (704, 0.0), (705, 0.0), (706, 0.0), (707, 0.0), (708, 0.0), (709, 0.019850022270697848), (710, 0.0), (711, 0.0), (712, 0.05904933373053578), (713, 0.025129170016040245), (714, 0.0), (715, 0.0), (716, 0.0), (717, 0.0), (718, 0.0), (719, 0.009176087449477404), (720, 0.013229864925950983), (721, 0.0), (722, 0.0), (723, 0.027910650806701447), (724, 0.04209644028436598), (725, 0.011761902751049793), (726, 0.012664522199795516), (727, 0.0), (728, 0.0), (729, 0.0), (730, 0.01519428130628503), (731, 0.0), (732, 0.0), (733, 0.01083837488604541), (734, 0.0), (735, 0.0), (736, 0.0), (737, 0.0), (738, 0.01920458906513446), (739, 0.0), (740, 0.008086884656159707), (741, 0.03064558743631821), (742, 0.03227360803806472), (743, 0.012732184820264114), (744, 0.0), (745, 0.012327291015188117), (746, 0.028593006030663108), (747, 0.030356719289821088), (748, 0.034833871067323115), (749, 0.033513898478926316), (750, 0.0), (751, 0.0), (752, 0.07954262884218297), (753, 0.01450940578504487), (754, 0.0), (755, 0.0), (756, 0.028652900376618065), (757, 0.02398118748638702), (758, 0.06184380939615726), (759, 0.0), (760, 0.0), (761, 0.05571318114155605), (762, 0.0), (763, 0.0), (764, 0.0), (765, 0.0), (766, 0.0), (767, 0.011739207392254954), (768, 0.0), (769, 0.0), (770, 0.0), (771, 0.06621250095449545), (772, 0.03472752148802928), (773, 0.012750602712917778), (774, 0.0), (775, 0.0), (776, 0.0), (777, 0.0), (778, 0.0), (779, 0.0), (780, 0.0), (781, 0.02829963085939162), (782, 0.0), (783, 0.0), (784, 0.0), (785, 0.03593692812315235), (786, 0.010453210020223877), (787, 0.0070837803340148215), (788, 0.0671514215578434), (789, 0.0), (790, 0.0), (791, 0.06032007265178072), (792, 0.036301386454083005), (793, 0.0), (794, 0.014978027373116697), (795, 0.02839759250170899), (796, 0.02863518921322572), (797, 0.012431307912726171), (798, 0.0), (799, 0.0), (800, 0.0), (801, 0.06671048614670773), (802, 0.013428537196692876), (803, 0.0), (804, 0.09586214055153006), (805, 0.0), (806, 0.012291155172148748), (807, 0.1331104920808349), (808, 0.0), (809, 0.01414695302614289), (810, 0.011176707376782832), (811, 0.0), (812, 0.0), (813, 0.0), (814, 0.013264710046313563), (815, 0.0), (816, 0.02506060323015984), (817, 0.0), (818, 0.0), (819, 0.0), (820, 0.03592066547309974), (821, 0.0), (822, 0.013151828949925073), (823, 0.0), (824, 0.017963513689675293), (825, 0.0), (826, 0.0), (827, 0.03726435824533809), (828, 0.0), (829, 0.0), (830, 0.0), (831, 0.017366446332806502), (832, 0.0), (833, 0.0), (834, 0.0), (835, 0.0), (836, 0.042351260265600474), (837, 0.0), (838, 0.0), (839, 0.0), (840, 0.0), (841, 0.0), (842, 0.03879518298951964), (843, 0.0), (844, 0.0), (845, 0.012776935959018899), (846, 0.013542038067555932), (847, 0.0), (848, 0.03373138334689164), (849, 0.0), (850, 0.0), (851, 0.0), (852, 0.0), (853, 0.06009366355758772), (854, 0.0), (855, 0.0), (856, 0.0), (857, 0.0), (858, 0.0), (859, 0.05452024193584569), (860, 0.05173229754288259), (861, 0.0), (862, 0.0), (863, 0.0), (864, 0.0), (865, 0.013599817649563821), (866, 0.0), (867, 0.0), (868, 0.0), (869, 0.0), (870, 0.0), (871, 0.0), (872, 0.030461767275780677), (873, 0.0), (874, 0.0), (875, 0.0), (876, 0.043799111555808144), (877, 0.02620573948459683), (878, 0.0), (879, 0.08094962325338355), (880, 0.0), (881, 0.0), (882, 0.0), (883, 0.0), (884, 0.0), (885, 0.0), (886, 0.0), (887, 0.0), (888, 0.0), (889, 0.0), (890, 0.0), (891, 0.012010834357304746), (892, 0.010630631999811766), (893, 0.0), (894, 0.04046795836375247), (895, 0.0), (896, 0.013974526375492112), (897, 0.0), (898, 0.0), (899, 0.0), (900, 0.0), (901, 0.0), (902, 0.0), (903, 0.0), (904, 0.0), (905, 0.03133111455664605), (906, 0.0), (907, 0.0), (908, 0.012679078171360984), (909, 0.013893585437680893), (910, 0.0), (911, 0.0), (912, 0.022384213071716758), (913, 0.0), (914, 0.0), (915, 0.0), (916, 0.0), (917, 0.0), (918, 0.012769561565351034), (919, 0.0), (920, 0.026385218821765748), (921, 0.02543399028386418), (922, 0.0), (923, 0.0), (924, 0.0), (925, 0.0), (926, 0.0), (927, 0.0), (928, 0.0), (929, 0.008678980505382905), (930, 0.0), (931, 0.042917529433150726), (932, 0.029849859687892333), (933, 0.0), (934, 0.0), (935, 0.027168816639590018), (936, 0.0), (937, 0.0), (938, 0.07355668258735103), (939, 0.03699662647557472), (940, 0.0), (941, 0.0), (942, 0.0), (943, 0.0), (944, 0.0), (945, 0.0), (946, 0.011497560774407837), (947, 0.0), (948, 0.0), (949, 0.0), (950, 0.0), (951, 0.0), (952, 0.0), (953, 0.07647466228915734), (954, 0.0), (955, 0.0), (956, 0.015540578197968526), (957, 0.011458025249219171), (958, 0.0), (959, 0.0), (960, 0.0), (961, 0.0537820481723849), (962, 0.0), (963, 0.0), (964, 0.03040683351612796), (965, 0.028407379098279038), (966, 0.0), (967, 0.0), (968, 0.0), (969, 0.0), (970, 0.0), (971, 0.04703655433093294), (972, 0.0), (973, 0.0), (974, 0.028784179058600933), (975, 0.0), (976, 0.0), (977, 0.09772103266952402), (978, 0.012311265899950727), (979, 0.0), (980, 0.029677886871033413), (981, 0.03699885156196181), (982, 0.0), (983, 0.0), (984, 0.04054093059340063), (985, 0.029654049658424966), (986, 0.0), (987, 0.014120984197188597), (988, 0.0), (989, 0.02935395509782335), (990, 0.0), (991, 0.0), (992, 0.0), (993, 0.0), (994, 0.0), (995, 0.0), (996, 0.0), (997, 0.0), (998, 0.0), (999, 0.0), (1000, 0.0), (1001, 0.035160194059879885), (1002, 0.031193803268824583), (1003, 0.0), (1004, 0.03076881593959996), (1005, 0.0), (1006, 0.0), (1007, 0.08655799858448002), (1008, 0.012342892679468562), (1009, 0.055745226151996216), (1010, 0.0), (1011, 0.014916849177503988), (1012, 0.0), (1013, 0.014179745802626159), (1014, 0.016158496603972807), (1015, 0.029251738212404673), (1016, 0.011944969339972846), (1017, 0.06221317615385102), (1018, 0.0), (1019, 0.0), (1020, 0.0), (1021, 0.0), (1022, 0.0), (1023, 0.0), (1024, 0.0), (1025, 0.03868064986038278), (1026, 0.012453634496028512), (1027, 0.0), (1028, 0.0), (1029, 0.0), (1030, 0.0), (1031, 0.0), (1032, 0.0), (1033, 0.0), (1034, 0.013568521077629122), (1035, 0.01228392714911835), (1036, 0.011794747601475471), (1037, 0.0), (1038, 0.0), (1039, 0.0), (1040, 0.0), (1041, 0.012111015732384413), (1042, 0.011441894317437393), (1043, 0.0), (1044, 0.013436044510304637), (1045, 0.0), (1046, 0.0), (1047, 0.0), (1048, 0.0), (1049, 0.0), (1050, 0.0), (1051, 0.0), (1052, 0.0), (1053, 0.0), (1054, 0.0), (1055, 0.0), (1056, 0.0), (1057, 0.0), (1058, 0.0), (1059, 0.0), (1060, 0.0), (1061, 0.011503328396638927), (1062, 0.07326224813791737), (1063, 0.0), (1064, 0.0), (1065, 0.0), (1066, 0.0), (1067, 0.014165637921785601), (1068, 0.0), (1069, 0.0), (1070, 0.0), (1071, 0.0), (1072, 0.0), (1073, 0.02862851313248061), (1074, 0.03652061677222499), (1075, 0.0), (1076, 0.012463142443723894), (1077, 0.0), (1078, 0.0), (1079, 0.0854278960334633), (1080, 0.027894651487793142), (1081, 0.0), (1082, 0.027702657884585542), (1083, 0.0), (1084, 0.02662334495378244), (1085, 0.014544346374648878), (1086, 0.07015214752357157), (1087, 0.0), (1088, 0.010170754008767142), (1089, 0.0347141588440659), (1090, 0.010816750421205373), (1091, 0.0), (1092, 0.0), (1093, 0.0), (1094, 0.0), (1095, 0.0), (1096, 0.0), (1097, 0.0), (1098, 0.024738964043953385), (1099, 0.0), (1100, 0.0), (1101, 0.05504003670351279), (1102, 0.0), (1103, 0.03406733481321659), (1104, 0.0), (1105, 0.0), (1106, 0.0), (1107, 0.03186105259593897), (1108, 0.0), (1109, 0.0), (1110, 0.029647694739188615), (1111, 0.0), (1112, 0.0), (1113, 0.0), (1114, 0.01287495440395582), (1115, 0.0), (1116, 0.013917137325355036), (1117, 0.0), (1118, 0.013124032738662882), (1119, 0.014466838646194965), (1120, 0.0), (1121, 0.0), (1122, 0.07488900171554214), (1123, 0.0), (1124, 0.03234192501899364), (1125, 0.0), (1126, 0.0), (1127, 0.0), (1128, 0.0), (1129, 0.0), (1130, 0.04415360037467049), (1131, 0.0), (1132, 0.026029591889908457), (1133, 0.0), (1134, 0.0), (1135, 0.0), (1136, 0.054413759901138), (1137, 0.009947169938513842), (1138, 0.03938257708727507), (1139, 0.0), (1140, 0.014249842893241285), (1141, 0.0), (1142, 0.047726531110430605), (1143, 0.0), (1144, 0.0), (1145, 0.0), (1146, 0.0), (1147, 0.0), (1148, 0.039877272928473026), (1149, 0.0), (1150, 0.0), (1151, 0.0), (1152, 0.02495046280246419), (1153, 0.0), (1154, 0.0), (1155, 0.014301515627692747), (1156, 0.0), (1157, 0.0727465316632414), (1158, 0.0), (1159, 0.0), (1160, 0.0), (1161, 0.0), (1162, 0.0), (1163, 0.0), (1164, 0.0), (1165, 0.01497034303907201), (1166, 0.04426035797609388), (1167, 0.0), (1168, 0.0), (1169, 0.0), (1170, 0.0), (1171, 0.0), (1172, 0.0), (1173, 0.03022665290946157), (1174, 0.0), (1175, 0.04127669710600678), (1176, 0.0), (1177, 0.0), (1178, 0.0), (1179, 0.0), (1180, 0.011364409869066961), (1181, 0.0), (1182, 0.015890678990741463), (1183, 0.0), (1184, 0.0), (1185, 0.0), (1186, 0.011418781741673658), (1187, 0.0), (1188, 0.0), (1189, 0.0), (1190, 0.0), (1191, 0.01276402042823487), (1192, 0.0), (1193, 0.0), (1194, 0.0), (1195, 0.014173186363839105), (1196, 0.013812884752009261), (1197, 0.011416135925411639), (1198, 0.0462800252932802), (1199, 0.0), (1200, 0.0), (1201, 0.036153566006287864), (1202, 0.0), (1203, 0.07099062399444685), (1204, 0.0), (1205, 0.0), (1206, 0.04777094100770271), (1207, 0.03851009438726191), (1208, 0.0), (1209, 0.0), (1210, 0.0), (1211, 0.02637622040219229), (1212, 0.0), (1213, 0.044522233286365946), (1214, 0.0), (1215, 0.011036294772575037), (1216, 0.0), (1217, 0.02904761859670298), (1218, 0.0), (1219, 0.010654058005988029), (1220, 0.0), (1221, 0.020101579713290362), (1222, 0.01097712050523932), (1223, 0.013017147999591142), (1224, 0.0), (1225, 0.013900760988404114), (1226, 0.0), (1227, 0.08724685288505443), (1228, 0.0), (1229, 0.01280974566033914), (1230, 0.030052315989025382), (1231, 0.0), (1232, 0.10861284630731186), (1233, 0.013745370530326149), (1234, 0.0), (1235, 0.013748464205844631), (1236, 0.0), (1237, 0.0), (1238, 0.027481483588877895), (1239, 0.0), (1240, 0.0), (1241, 0.0), (1242, 0.0), (1243, 0.06882278179478288), (1244, 0.0), (1245, 0.08436531190716706), (1246, 0.01397438964585811), (1247, 0.030355557082668013), (1248, 0.0), (1249, 0.04991805240737492), (1250, 0.059561849935203116), (1251, 0.011415943663679162), (1252, 0.0), (1253, 0.0), (1254, 0.0), (1255, 0.04002502382394586), (1256, 0.04125217187115865), (1257, 0.011484228513966263), (1258, 0.0), (1259, 0.0), (1260, 0.0), (1261, 0.03475872620216335), (1262, 0.0), (1263, 0.0), (1264, 0.0), (1265, 0.0), (1266, 0.0), (1267, 0.0), (1268, 0.010287526625236727), (1269, 0.0), (1270, 0.05782695017278342), (1271, 0.0), (1272, 0.03228119382305447), (1273, 0.03450712697094368), (1274, 0.0), (1275, 0.0), (1276, 0.0), (1277, 0.0), (1278, 0.0), (1279, 0.05186053978751742), (1280, 0.0), (1281, 0.0), (1282, 0.0), (1283, 0.0), (1284, 0.012068183836204166), (1285, 0.03094605544624055), (1286, 0.0), (1287, 0.0), (1288, 0.0), (1289, 0.0), (1290, 0.08320420733691522), (1291, 0.04157656223837611), (1292, 0.061808351799410355), (1293, 0.0), (1294, 0.09576969937035466), (1295, 0.0), (1296, 0.01018593175269017), (1297, 0.03052992750325672), (1298, 0.015087991980093583), (1299, 0.0), (1300, 0.02360106201910423), (1301, 0.0), (1302, 0.0), (1303, 0.0), (1304, 0.013339401935575153), (1305, 0.0), (1306, 0.034318476564573645), (1307, 0.01404887405116361), (1308, 0.026589101072649265), (1309, 0.011373366710505182), (1310, 0.013490214665695985), (1311, 0.0), (1312, 0.03733553171517396), (1313, 0.0), (1314, 0.0), (1315, 0.0), (1316, 0.0), (1317, 0.009657271054970816), (1318, 0.03727200778047871), (1319, 0.0), (1320, 0.0), (1321, 0.03015962362545443), (1322, 0.0), (1323, 0.0), (1324, 0.0), (1325, 0.0), (1326, 0.0), (1327, 0.012380888186203996), (1328, 0.014208775813492386), (1329, 0.0), (1330, 0.012022255059139312), (1331, 0.0), (1332, 0.0), (1333, 0.0152790178397521), (1334, 0.0), (1335, 0.04276219803285994), (1336, 0.014745534001627758), (1337, 0.0), (1338, 0.0), (1339, 0.028345120847909543), (1340, 0.0), (1341, 0.0), (1342, 0.024433503352779738), (1343, 0.0), (1344, 0.07732573173859869), (1345, 0.0), (1346, 0.0), (1347, 0.026811323616152596), (1348, 0.0), (1349, 0.0), (1350, 0.0), (1351, 0.027658621094766838), (1352, 0.0), (1353, 0.03901085373738038), (1354, 0.02554163360756491), (1355, 0.0), (1356, 0.0), (1357, 0.010759274248919782), (1358, 0.01368645259381498), (1359, 0.0), (1360, 0.0), (1361, 0.014309121864535106), (1362, 0.04234469236099375), (1363, 0.0), (1364, 0.0), (1365, 0.010363677655732501), (1366, 0.0), (1367, 0.0), (1368, 0.05087342585356868), (1369, 0.0), (1370, 0.012074214845858494), (1371, 0.0), (1372, 0.0), (1373, 0.014279685151227593), (1374, 0.0), (1375, 0.0), (1376, 0.0), (1377, 0.0), (1378, 0.0), (1379, 0.042077360347336806), (1380, 0.0), (1381, 0.0), (1382, 0.013531495156236249), (1383, 0.0), (1384, 0.010758814240804677), (1385, 0.0), (1386, 0.0), (1387, 0.010877939762972718), (1388, 0.03200365069716032), (1389, 0.015347385438418817), (1390, 0.03232606373476318), (1391, 0.0), (1392, 0.0), (1393, 0.09901818062779569), (1394, 0.012440846868604053), (1395, 0.0), (1396, 0.0), (1397, 0.0), (1398, 0.0), (1399, 0.0), (1400, 0.0), (1401, 0.0), (1402, 0.013754030951047058), (1403, 0.0), (1404, 0.0), (1405, 0.010712123466404396), (1406, 0.0), (1407, 0.028771203276857477), (1408, 0.0), (1409, 0.0), (1410, 0.0), (1411, 0.012892665652873137), (1412, 0.011069748710054415), (1413, 0.0), (1414, 0.0), (1415, 0.0), (1416, 0.01161243869293279), (1417, 0.0), (1418, 0.0), (1419, 0.030688264190175066), (1420, 0.0), (1421, 0.012737076122147308), (1422, 0.035294186215876794), (1423, 0.0), (1424, 0.0), (1425, 0.013633431891073102), (1426, 0.0), (1427, 0.0), (1428, 0.02332944922674552), (1429, 0.0), (1430, 0.0), (1431, 0.012567197645679155), (1432, 0.0), (1433, 0.0768804602560543), (1434, 0.0), (1435, 0.0702177476090588), (1436, 0.09213199699373688), (1437, 0.0), (1438, 0.0), (1439, 0.0), (1440, 0.0), (1441, 0.03505490513902312), (1442, 0.0), (1443, 0.08267062882230825), (1444, 0.0), (1445, 0.0), (1446, 0.0), (1447, 0.0), (1448, 0.0), (1449, 0.0), (1450, 0.0), (1451, 0.0), (1452, 0.0), (1453, 0.0), (1454, 0.034408972280257355), (1455, 0.0), (1456, 0.011096241401954284), (1457, 0.0), (1458, 0.0), (1459, 0.011757523759813608), (1460, 0.014809724504562442), (1461, 0.014235570652233479), (1462, 0.0), (1463, 0.025882076460727287), (1464, 0.026304236117728676), (1465, 0.0), (1466, 0.014728783688834209), (1467, 0.0), (1468, 0.07456999886662136), (1469, 0.0), (1470, 0.0), (1471, 0.0), (1472, 0.012181691326217345), (1473, 0.0), (1474, 0.06485421385463946), (1475, 0.0), (1476, 0.045562194142143304), (1477, 0.013385414035216205), (1478, 0.0), (1479, 0.032767352918589045), (1480, 0.011205653231966341), (1481, 0.02977784013952373), (1482, 0.012468685125470266), (1483, 0.0), (1484, 0.0), (1485, 0.030973571587380073), (1486, 0.03728332113930905), (1487, 0.040531100197261374), (1488, 0.0), (1489, 0.04393204892462457), (1490, 0.11438907873955996), (1491, 0.0), (1492, 0.011455318648230666), (1493, 0.0), (1494, 0.029862710209511454), (1495, 0.015830952556851113), (1496, 0.012094835560372497), (1497, 0.0), (1498, 0.0), (1499, 0.04735833663123155), (1500, 0.0320910459564572), (1501, 0.05748911283789044), (1502, 0.0), (1503, 0.0), (1504, 0.0), (1505, 0.013233327354230372), (1506, 0.008300719104300908), (1507, 0.0), (1508, 0.0), (1509, 0.01795453491151083), (1510, 0.03180448148085009), (1511, 0.0), (1512, 0.0), (1513, 0.04056519017518304), (1514, 0.0), (1515, 0.0), (1516, 0.03548724583726513), (1517, 0.12165049502789094), (1518, 0.012929283121856787), (1519, 0.0), (1520, 0.013983173322147808), (1521, 0.04041419482951127), (1522, 0.013816036147972553), (1523, 0.024089556736488472), (1524, 0.036176956851778345), (1525, 0.013926688538747083), (1526, 0.0), (1527, 0.0), (1528, 0.05808353838621799), (1529, 0.012575219070445594), (1530, 0.0), (1531, 0.0), (1532, 0.0), (1533, 0.0), (1534, 0.012540238391241031), (1535, 0.0), (1536, 0.0), (1537, 0.029123183650860432), (1538, 0.0), (1539, 0.011997048963988342), (1540, 0.0), (1541, 0.013103314551332594), (1542, 0.03084427243795959), (1543, 0.011080233619488325), (1544, 0.0), (1545, 0.0282332923456365), (1546, 0.020568912490347407), (1547, 0.0), (1548, 0.0), (1549, 0.0), (1550, 0.0276337642410675), (1551, 0.0), (1552, 0.013969171490732362), (1553, 0.0), (1554, 0.0), (1555, 0.053306419380614804), (1556, 0.0), (1557, 0.030529829737148344), (1558, 0.0), (1559, 0.05560634945244439), (1560, 0.0), (1561, 0.01325491314095251), (1562, 0.0), (1563, 0.0), (1564, 0.0), (1565, 0.0), (1566, 0.0), (1567, 0.0), (1568, 0.02680116286981008), (1569, 0.0), (1570, 0.0), (1571, 0.036992510239472226), (1572, 0.0), (1573, 0.0), (1574, 0.0), (1575, 0.028326501388464723), (1576, 0.0), (1577, 0.0), (1578, 0.02949824842921588), (1579, 0.030215885173158895), (1580, 0.0), (1581, 0.03809901258003094), (1582, 0.0), (1583, 0.0), (1584, 0.02421871250303), (1585, 0.0), (1586, 0.0), (1587, 0.04485318146519637), (1588, 0.0), (1589, 0.01276283152049092), (1590, 0.0), (1591, 0.0), (1592, 0.0650694963379776), (1593, 0.0), (1594, 0.02882228574582936), (1595, 0.0), (1596, 0.0), (1597, 0.012044466317684481), (1598, 0.013443965079423418), (1599, 0.0), (1600, 0.014481745469767012), (1601, 0.01238860055659138), (1602, 0.014681843934013512), (1603, 0.0), (1604, 0.012851464551390883), (1605, 0.03165462401525728), (1606, 0.01264640734057483), (1607, 0.014273488970492796), (1608, 0.0), (1609, 0.0), (1610, 0.026114675074155574), (1611, 0.03706227923272332), (1612, 0.0), (1613, 0.046672910424769384), (1614, 0.028431956154941873), (1615, 0.015487732980085215), (1616, 0.0), (1617, 0.0), (1618, 0.03131908967689246), (1619, 0.0), (1620, 0.0), (1621, 0.05166080995147331), (1622, 0.0), (1623, 0.0), (1624, 0.0), (1625, 0.0), (1626, 0.027492139851205803), (1627, 0.0), (1628, 0.0), (1629, 0.0), (1630, 0.0), (1631, 0.0), (1632, 0.0), (1633, 0.0), (1634, 0.03928465803724456), (1635, 0.0), (1636, 0.0), (1637, 0.0), (1638, 0.0), (1639, 0.010784318057405975), (1640, 0.01486101737182415), (1641, 0.0), (1642, 0.0), (1643, 0.0), (1644, 0.0), (1645, 0.06407252271553156), (1646, 0.12285724874868222), (1647, 0.0), (1648, 0.02283837960128109), (1649, 0.012199478697576364), (1650, 0.0), (1651, 0.0), (1652, 0.0), (1653, 0.0), (1654, 0.04325745877612945), (1655, 0.0), (1656, 0.0), (1657, 0.06505142189648976), (1658, 0.0), (1659, 0.0), (1660, 0.0), (1661, 0.0), (1662, 0.0), (1663, 0.01307772894547644), (1664, 0.013454605369163767), (1665, 0.0), (1666, 0.0), (1667, 0.0), (1668, 0.0), (1669, 0.0), (1670, 0.0), (1671, 0.0), (1672, 0.0), (1673, 0.036980689165358), (1674, 0.0), (1675, 0.0), (1676, 0.010998487211749642), (1677, 0.02073021300248154), (1678, 0.02697202139307205), (1679, 0.0), (1680, 0.0), (1681, 0.0), (1682, 0.040832901945674765), (1683, 0.013829605372368874), (1684, 0.012131816985343814), (1685, 0.0), (1686, 0.0), (1687, 0.0), (1688, 0.0), (1689, 0.0), (1690, 0.04220617252616264), (1691, 0.026239625922888817), (1692, 0.03022285754403393), (1693, 0.0), (1694, 0.0), (1695, 0.024302460622039414), (1696, 0.034828558361803104), (1697, 0.014576564623414895), (1698, 0.03970410693997735), (1699, 0.0), (1700, 0.012485094048733722), (1701, 0.0), (1702, 0.0), (1703, 0.0), (1704, 0.013506738802511785), (1705, 0.0), (1706, 0.026916881039735892), (1707, 0.0), (1708, 0.0), (1709, 0.0), (1710, 0.035272449767516666), (1711, 0.017187079747252997), (1712, 0.0), (1713, 0.0), (1714, 0.01232754823942553), (1715, 0.0), (1716, 0.0), (1717, 0.0), (1718, 0.0), (1719, 0.0), (1720, 0.013566635607664522), (1721, 0.0), (1722, 0.0), (1723, 0.0), (1724, 0.0), (1725, 0.0), (1726, 0.014232856310320388), (1727, 0.0), (1728, 0.0), (1729, 0.0), (1730, 0.0), (1731, 0.01556521237620876), (1732, 0.0), (1733, 0.0), (1734, 0.0), (1735, 0.0), (1736, 0.0), (1737, 0.014142720319382253), (1738, 0.0), (1739, 0.011258901178682373), (1740, 0.028162980197948183), (1741, 0.0), (1742, 0.0), (1743, 0.0), (1744, 0.02660306982928174), (1745, 0.03600268591627844), (1746, 0.0), (1747, 0.0), (1748, 0.0), (1749, 0.0), (1750, 0.0), (1751, 0.0), (1752, 0.030794618613178604), (1753, 0.0), (1754, 0.0), (1755, 0.012324500114783126), (1756, 0.0), (1757, 0.043369559382689674), (1758, 0.01385008912742073), (1759, 0.03137443779662458), (1760, 0.0), (1761, 0.0), (1762, 0.0), (1763, 0.0), (1764, 0.0103479885063246), (1765, 0.029634730479970582), (1766, 0.015351392654792581), (1767, 0.02447615255564241), (1768, 0.01283638646866068), (1769, 0.013727844109145796), (1770, 0.0), (1771, 0.16936717251834588), (1772, 0.0), (1773, 0.0), (1774, 0.0), (1775, 0.0), (1776, 0.0), (1777, 0.02634443205461217), (1778, 0.0), (1779, 0.0), (1780, 0.022423444314613385), (1781, 0.060779444544451985), (1782, 0.07706061214954547), (1783, 0.024332190654464445), (1784, 0.012429790916407415), (1785, 0.0), (1786, 0.0), (1787, 0.04190196721793964), (1788, 0.0), (1789, 0.029348143497629348), (1790, 0.0), (1791, 0.0), (1792, 0.0), (1793, 0.024716685728825117), (1794, 0.03580682676775899), (1795, 0.030399166194933408), (1796, 0.0), (1797, 0.0), (1798, 0.0), (1799, 0.0), (1800, 0.012146727877108193), (1801, 0.0), (1802, 0.0), (1803, 0.04041142184130057), (1804, 0.014058684713723867), (1805, 0.0), (1806, 0.0), (1807, 0.0), (1808, 0.0), (1809, 0.0), (1810, 0.015312101291049476), (1811, 0.0), (1812, 0.0), (1813, 0.0), (1814, 0.025529962592648288), (1815, 0.0), (1816, 0.0), (1817, 0.04551991265884526), (1818, 0.01163762527266154), (1819, 0.0), (1820, 0.011965958218817912), (1821, 0.0), (1822, 0.0), (1823, 0.02872166323040402), (1824, 0.011893072864956111), (1825, 0.0), (1826, 0.0), (1827, 0.011226488766383836), (1828, 0.0), (1829, 0.032349188706360006), (1830, 0.012449742842336296), (1831, 0.0), (1832, 0.0), (1833, 0.03179934992594596), (1834, 0.0), (1835, 0.0), (1836, 0.0), (1837, 0.014460210574804858), (1838, 0.0), (1839, 0.012909855828685524), (1840, 0.011889091387443363), (1841, 0.015027106417023105), (1842, 0.21562374610209994), (1843, 0.0), (1844, 0.014837762738771638), (1845, 0.010701356046618834), (1846, 0.012143689673810423), (1847, 0.0), (1848, 0.0), (1849, 0.0), (1850, 0.02262325901125334), (1851, 0.0), (1852, 0.0), (1853, 0.0), (1854, 0.0), (1855, 0.0), (1856, 0.0), (1857, 0.011917863741972144), (1858, 0.0), (1859, 0.0), (1860, 0.0), (1861, 0.05864117087090222), (1862, 0.0), (1863, 0.0), (1864, 0.0), (1865, 0.0), (1866, 0.0), (1867, 0.046139925988091586), (1868, 0.0), (1869, 0.032733880136033525), (1870, 0.0), (1871, 0.0), (1872, 0.0), (1873, 0.02586319101544317), (1874, 0.0), (1875, 0.012268978030811433), (1876, 0.0), (1877, 0.0), (1878, 0.02442995025522209), (1879, 0.0), (1880, 0.0), (1881, 0.0), (1882, 0.0), (1883, 0.010330495610051482), (1884, 0.0), (1885, 0.0), (1886, 0.0), (1887, 0.0), (1888, 0.0), (1889, 0.049769184139950386), (1890, 0.03607974743225324), (1891, 0.0), (1892, 0.0), (1893, 0.029642705511285835), (1894, 0.0), (1895, 0.10624161967696451), (1896, 0.0), (1897, 0.0), (1898, 0.011770245097725483), (1899, 0.011574213988378641), (1900, 0.0), (1901, 0.0), (1902, 0.0), (1903, 0.0), (1904, 0.0), (1905, 0.03568474415695793), (1906, 0.0), (1907, 0.0), (1908, 0.0), (1909, 0.0), (1910, 0.0), (1911, 0.013922194569650655), (1912, 0.0), (1913, 0.025850739947883623), (1914, 0.0), (1915, 0.05600542255452535), (1916, 0.0), (1917, 0.0), (1918, 0.013251072865634105), (1919, 0.007726317250398253), (1920, 0.0), (1921, 0.0), (1922, 0.0), (1923, 0.0), (1924, 0.0), (1925, 0.020562927105419217), (1926, 0.0), (1927, 0.0), (1928, 0.0435849774054938), (1929, 0.0), (1930, 0.012897271872849399), (1931, 0.0), (1932, 0.05500172824092073), (1933, 0.0), (1934, 0.0), (1935, 0.02919971566238918), (1936, 0.0), (1937, 0.06824969972988251), (1938, 0.0), (1939, 0.0), (1940, 0.044738938689921556), (1941, 0.0), (1942, 0.0), (1943, 0.013265438488022743), (1944, 0.0), (1945, 0.0), (1946, 0.0), (1947, 0.0), (1948, 0.0), (1949, 0.0), (1950, 0.03893427364204011), (1951, 0.1768078715448486), (1952, 0.0346371147906517), (1953, 0.0), (1954, 0.011615694664882839), (1955, 0.015230642142235795), (1956, 0.0), (1957, 0.0), (1958, 0.028643990642682), (1959, 0.0), (1960, 0.04171522014077163), (1961, 0.013700765717624174), (1962, 0.0), (1963, 0.010561957947102046), (1964, 0.06525890463586181), (1965, 0.0), (1966, 0.0), (1967, 0.0), (1968, 0.014494848441106989), (1969, 0.03743445432190313), (1970, 0.0), (1971, 0.010335632481057837), (1972, 0.0), (1973, 0.06861502002591524), (1974, 0.0), (1975, 0.0), (1976, 0.0), (1977, 0.0), (1978, 0.012266536972941887), (1979, 0.024379482152774135), (1980, 0.0), (1981, 0.02064586825728524), (1982, 0.0), (1983, 0.0), (1984, 0.0), (1985, 0.0), (1986, 0.0), (1987, 0.010746202217664499), (1988, 0.0), (1989, 0.0), (1990, 0.0), (1991, 0.0), (1992, 0.01183611758910501), (1993, 0.0), (1994, 0.0), (1995, 0.0), (1996, 0.0), (1997, 0.0), (1998, 0.027437535296459606), (1999, 0.01595860890326467), (2000, 0.0), (2001, 0.0), (2002, 0.0), (2003, 0.0), (2004, 0.0), (2005, 0.0), (2006, 0.011095722595381831), (2007, 0.011466381461816598), (2008, 0.0), (2009, 0.07616205189613817), (2010, 0.0), (2011, 0.0), (2012, 0.0), (2013, 0.010541590583668693), (2014, 0.02651545172098284), (2015, 0.0), (2016, 0.0), (2017, 0.0), (2018, 0.0), (2019, 0.04839873012943719), (2020, 0.0), (2021, 0.0), (2022, 0.06087823690435028), (2023, 0.0), (2024, 0.0), (2025, 0.03581687971102055), (2026, 0.0), (2027, 0.0), (2028, 0.0), (2029, 0.0), (2030, 0.01372664485584764), (2031, 0.0), (2032, 0.0), (2033, 0.025075938329053683), (2034, 0.030907565474062416), (2035, 0.02138727913641908), (2036, 0.0), (2037, 0.0), (2038, 0.0), (2039, 0.02157188681849762), (2040, 0.0), (2041, 0.013396684708638218), (2042, 0.0), (2043, 0.012101768028650131), (2044, 0.029014697343663846), (2045, 0.0), (2046, 0.014131993176371913), (2047, 0.011277239025958645), (2048, 0.0), (2049, 0.01502901170018554), (2050, 0.04421843626301655), (2051, 0.0), (2052, 0.0), (2053, 0.0), (2054, 0.012661863930698512), (2055, 0.012325928456968241), (2056, 0.0), (2057, 0.0), (2058, 0.0), (2059, 0.0), (2060, 0.0), (2061, 0.0), (2062, 0.0738924906488973), (2063, 0.0), (2064, 0.0), (2065, 0.0), (2066, 0.0), (2067, 0.0), (2068, 0.0), (2069, 0.0), (2070, 0.03782259946199237), (2071, 0.0), (2072, 0.0), (2073, 0.027083121934400954), (2074, 0.08228255636537385), (2075, 0.0), (2076, 0.0), (2077, 0.0), (2078, 0.009305475938274311), (2079, 0.014239120279349213), (2080, 0.0), (2081, 0.0), (2082, 0.01465323905949675), (2083, 0.0), (2084, 0.0), (2085, 0.028410350946442616), (2086, 0.030562993842678667), (2087, 0.0), (2088, 0.0), (2089, 0.038087253370614686), (2090, 0.03446147952154762), (2091, 0.0), (2092, 0.0), (2093, 0.0), (2094, 0.03036713646315207), (2095, 0.01399872420711538), (2096, 0.0), (2097, 0.028810362005545702), (2098, 0.0), (2099, 0.01225332437173331), (2100, 0.025422097525076917), (2101, 0.0), (2102, 0.0), (2103, 0.0), (2104, 0.0), (2105, 0.0), (2106, 0.0), (2107, 0.0), (2108, 0.0), (2109, 0.0), (2110, 0.0), (2111, 0.026638956771982747), (2112, 0.013826408942924657), (2113, 0.0), (2114, 0.010905271856091922), (2115, 0.0), (2116, 0.0), (2117, 0.01280897421860632), (2118, 0.007022633713664266), (2119, 0.0), (2120, 0.011104479856430526), (2121, 0.0), (2122, 0.0), (2123, 0.1314604592337286), (2124, 0.0), (2125, 0.012108963163085894), (2126, 0.0), (2127, 0.0), (2128, 0.0), (2129, 0.012205204721302631), (2130, 0.012622684384582918), (2131, 0.012268352318316703), (2132, 0.010163112315764354), (2133, 0.0), (2134, 0.0), (2135, 0.022465279806932748), (2136, 0.0), (2137, 0.0), (2138, 0.0), (2139, 0.0), (2140, 0.1082768141701905), (2141, 0.0), (2142, 0.0), (2143, 0.013406320412546597), (2144, 0.0), (2145, 0.0), (2146, 0.0), (2147, 0.013534564873393629), (2148, 0.0), (2149, 0.0), (2150, 0.05185555196326304), (2151, 0.03525034196749679), (2152, 0.0), (2153, 0.014256656504394179), (2154, 0.0), (2155, 0.0), (2156, 0.0), (2157, 0.039270798784218026), (2158, 0.0), (2159, 0.0), (2160, 0.0), (2161, 0.030065846857051572), (2162, 0.03089081495268594), (2163, 0.011233639679147036), (2164, 0.0), (2165, 0.0), (2166, 0.0), (2167, 0.0), (2168, 0.0), (2169, 0.0), (2170, 0.0), (2171, 0.015179196982956002), (2172, 0.0), (2173, 0.0), (2174, 0.0), (2175, 0.0), (2176, 0.016982400289472944), (2177, 0.0), (2178, 0.011685454205261228), (2179, 0.0), (2180, 0.0), (2181, 0.0), (2182, 0.0), (2183, 0.012711562274847571), (2184, 0.0), (2185, 0.04636894314024466), (2186, 0.0), (2187, 0.13012568866896568), (2188, 0.1379818821776473), (2189, 0.0), (2190, 0.02807094468683095), (2191, 0.0), (2192, 0.0), (2193, 0.0), (2194, 0.0), (2195, 0.026541701235885295), (2196, 0.08312413580871142), (2197, 0.0), (2198, 0.01223201393851542), (2199, 0.016926938180710522), (2200, 0.0), (2201, 0.013177025652280204), (2202, 0.0), (2203, 0.010786087332071693), (2204, 0.02881064912258763), (2205, 0.01204252290610629), (2206, 0.0), (2207, 0.03758118963220626), (2208, 0.012558582064726497), (2209, 0.0), (2210, 0.013058333755339479), (2211, 0.0), (2212, 0.0), (2213, 0.0), (2214, 0.0), (2215, 0.0), (2216, 0.012577041240244644), (2217, 0.0), (2218, 0.03151423457930376), (2219, 0.0), (2220, 0.0), (2221, 0.0), (2222, 0.0), (2223, 0.06914427003070092), (2224, 0.028741458572164244), (2225, 0.0), (2226, 0.0), (2227, 0.0), (2228, 0.0), (2229, 0.0), (2230, 0.0), (2231, 0.0), (2232, 0.0), (2233, 0.0), (2234, 0.0), (2235, 0.0), (2236, 0.010846228405643019), (2237, 0.0), (2238, 0.0), (2239, 0.012254507109404619), (2240, 0.0), (2241, 0.0), (2242, 0.0), (2243, 0.0), (2244, 0.0), (2245, 0.01276263441377931), (2246, 0.0), (2247, 0.0), (2248, 0.0), (2249, 0.0), (2250, 0.011296538702253197), (2251, 0.0), (2252, 0.0), (2253, 0.0), (2254, 0.0), (2255, 0.0), (2256, 0.0), (2257, 0.015031194120564582), (2258, 0.0), (2259, 0.01387832014887559), (2260, 0.015116156457682293), (2261, 0.01423143972956765), (2262, 0.011987563521394965), (2263, 0.045048468178709104), (2264, 0.01148868584573807), (2265, 0.011435607340295572), (2266, 0.028577997741533852), (2267, 0.014711887734979655), (2268, 0.0), (2269, 0.054127142985928134), (2270, 0.030300573076007684), (2271, 0.010897601798435642), (2272, 0.0), (2273, 0.012939217669989888), (2274, 0.03581207176295072), (2275, 0.014900037983226989), (2276, 0.0), (2277, 0.0), (2278, 0.0), (2279, 0.0), (2280, 0.0), (2281, 0.029911808079613435), (2282, 0.0), (2283, 0.01435566378415732), (2284, 0.0), (2285, 0.0), (2286, 0.0), (2287, 0.04667103887497159), (2288, 0.0), (2289, 0.0), (2290, 0.03999836924629382), (2291, 0.0), (2292, 0.0), (2293, 0.0), (2294, 0.0), (2295, 0.0), (2296, 0.010453325245281399), (2297, 0.0), (2298, 0.05158306363724428), (2299, 0.0), (2300, 0.0), (2301, 0.012336157898091758), (2302, 0.0), (2303, 0.02528160251577861), (2304, 0.0), (2305, 0.0), (2306, 0.0), (2307, 0.0), (2308, 0.0), (2309, 0.0), (2310, 0.0), (2311, 0.0), (2312, 0.0), (2313, 0.0), (2314, 0.0), (2315, 0.013050446109153159), (2316, 0.013492919829467983), (2317, 0.010204347696028565), (2318, 0.0), (2319, 0.0), (2320, 0.0), (2321, 0.0), (2322, 0.0229708195703434), (2323, 0.011810568543220606), (2324, 0.0), (2325, 0.08615825729435116), (2326, 0.00925173874696233), (2327, 0.02630496270491462), (2328, 0.0), (2329, 0.015433926699363505), (2330, 0.012968074843588017), (2331, 0.011136820369693205), (2332, 0.012870255639101396), (2333, 0.0), (2334, 0.013393051673746955), (2335, 0.012805280611454133), (2336, 0.0), (2337, 0.013439290409158934), (2338, 0.0), (2339, 0.0), (2340, 0.0), (2341, 0.0), (2342, 0.0355397663776655), (2343, 0.0), (2344, 0.0), (2345, 0.0), (2346, 0.0), (2347, 0.0), (2348, 0.0), (2349, 0.03894563596120295), (2350, 0.0), (2351, 0.01634414495477773), (2352, 0.06720144857555982), (2353, 0.0), (2354, 0.0), (2355, 0.0), (2356, 0.0), (2357, 0.03901975041924079), (2358, 0.029822109330286225), (2359, 0.02148486463464799), (2360, 0.0), (2361, 0.0), (2362, 0.0), (2363, 0.0), (2364, 0.011646726185032485), (2365, 0.01775441470850929), (2366, 0.0), (2367, 0.01263465025647331), (2368, 0.0), (2369, 0.0), (2370, 0.0), (2371, 0.04726572585469072), (2372, 0.1603850576289495), (2373, 0.0), (2374, 0.033185138687542116), (2375, 0.04692271478800182), (2376, 0.0), (2377, 0.05904444706076682), (2378, 0.038326264697147214), (2379, 0.016884554270802127), (2380, 0.0), (2381, 0.013892010615731861), (2382, 0.0), (2383, 0.0), (2384, 0.0), (2385, 0.03127842618781849), (2386, 0.0), (2387, 0.02693055244597812), (2388, 0.0), (2389, 0.014373532204304458), (2390, 0.016189212977333094), (2391, 0.011984912669223776), (2392, 0.0), (2393, 0.028991596943809803), (2394, 0.0), (2395, 0.0), (2396, 0.012853640549571898), (2397, 0.04442639938838118), (2398, 0.0), (2399, 0.0), (2400, 0.012394882514682), (2401, 0.02217589055600723), (2402, 0.010832403657435019), (2403, 0.0), (2404, 0.0), (2405, 0.013244740848614529), (2406, 0.013104035562044555), (2407, 0.0), (2408, 0.013789636622494642), (2409, 0.0), (2410, 0.012426458523875125), (2411, 0.0), (2412, 0.0), (2413, 0.0), (2414, 0.013457186596891999), (2415, 0.03307906260884976), (2416, 0.0), (2417, 0.0), (2418, 0.0), (2419, 0.014904015141559111), (2420, 0.0), (2421, 0.05312200434425656), (2422, 0.0), (2423, 0.014765856562480134), (2424, 0.0), (2425, 0.0), (2426, 0.0), (2427, 0.03147434350790308), (2428, 0.0), (2429, 0.0), (2430, 0.014148180508006763), (2431, 0.047779095759741375), (2432, 0.0), (2433, 0.034845989878692175), (2434, 0.0), (2435, 0.0137058231104843), (2436, 0.0), (2437, 0.0), (2438, 0.0), (2439, 0.0), (2440, 0.013401424617711117), (2441, 0.0), (2442, 0.0), (2443, 0.01674235321072538), (2444, 0.0), (2445, 0.09594329736591665), (2446, 0.029339529951618405), (2447, 0.03119319494929917), (2448, 0.015061982569872378), (2449, 0.02245936444047101), (2450, 0.012632001413741673), (2451, 0.013347871851498851), (2452, 0.0), (2453, 0.0), (2454, 0.0), (2455, 0.0), (2456, 0.012016507114562563), (2457, 0.0369153079848716), (2458, 0.0), (2459, 0.03506777571731552), (2460, 0.036454854087004954), (2461, 0.02737877547850062), (2462, 0.015358882571384888), (2463, 0.0344673866271052), (2464, 0.11781525280811228), (2465, 0.0), (2466, 0.014649919083285787), (2467, 0.0), (2468, 0.07663550234489583), (2469, 0.0), (2470, 0.0), (2471, 0.0), (2472, 0.0), (2473, 0.03864433388498943), (2474, 0.0), (2475, 0.0), (2476, 0.0), (2477, 0.0), (2478, 0.0), (2479, 0.03435245095030121), (2480, 0.05475594885644715), (2481, 0.0258141291582344), (2482, 0.0), (2483, 0.0), (2484, 0.07451109931843543), (2485, 0.01284697751489616), (2486, 0.0), (2487, 0.014300387660511128), (2488, 0.013167172788354609), (2489, 0.0), (2490, 0.0), (2491, 0.0), (2492, 0.0), (2493, 0.08227110038988131), (2494, 0.04037476599357704), (2495, 0.0), (2496, 0.0), (2497, 0.0), (2498, 0.0), (2499, 0.0), (2500, 0.0), (2501, 0.0), (2502, 0.01045533590356211), (2503, 0.0), (2504, 0.012036192570569561), (2505, 0.0), (2506, 0.0), (2507, 0.0), (2508, 0.0), (2509, 0.021484394661065328), (2510, 0.0), (2511, 0.04324067354901786), (2512, 0.024307995263771167), (2513, 0.0), (2514, 0.0), (2515, 0.0), (2516, 0.014460259495139594), (2517, 0.014526240295374407), (2518, 0.0), (2519, 0.027978088214914355), (2520, 0.0), (2521, 0.015674082702093937), (2522, 0.0), (2523, 0.03877334542947698), (2524, 0.0), (2525, 0.0), (2526, 0.0), (2527, 0.0), (2528, 0.0), (2529, 0.0), (2530, 0.01559724695157078), (2531, 0.02313689199812428), (2532, 0.013595921447852674), (2533, 0.0), (2534, 0.010959797514850225), (2535, 0.0), (2536, 0.0), (2537, 0.0), (2538, 0.0), (2539, 0.05356581773222216), (2540, 0.0), (2541, 0.010109156949952017), (2542, 0.0), (2543, 0.0), (2544, 0.0), (2545, 0.0), (2546, 0.0), (2547, 0.0), (2548, 0.0), (2549, 0.012207764466445524), (2550, 0.0), (2551, 0.0), (2552, 0.029767802833445243), (2553, 0.0), (2554, 0.0385152362460008), (2555, 0.0), (2556, 0.0), (2557, 0.0), (2558, 0.0), (2559, 0.0), (2560, 0.0), (2561, 0.0), (2562, 0.009354610644428418), (2563, 0.0), (2564, 0.0), (2565, 0.0), (2566, 0.0), (2567, 0.0), (2568, 0.021708491086730196), (2569, 0.0), (2570, 0.028024387633395334), (2571, 0.011911562334118707), (2572, 0.029311930796983066), (2573, 0.0), (2574, 0.034585335437618055), (2575, 0.0), (2576, 0.0), (2577, 0.03652760467608794), (2578, 0.025498247152782372), (2579, 0.015144820245441904), (2580, 0.010533832023775409), (2581, 0.0), (2582, 0.01253900079638916), (2583, 0.011691841016348136), (2584, 0.01304229275091301), (2585, 0.0), (2586, 0.0), (2587, 0.030389408521052055), (2588, 0.08194840801358666), (2589, 0.0), (2590, 0.012681163079885318), (2591, 0.010369770478631293), (2592, 0.029273652152228005), (2593, 0.012124648939861456), (2594, 0.0), (2595, 0.0), (2596, 0.0), (2597, 0.0), (2598, 0.0), (2599, 0.0), (2600, 0.0), (2601, 0.0), (2602, 0.0), (2603, 0.02126583024794721), (2604, 0.012620214483930253), (2605, 0.0), (2606, 0.08783592079440933), (2607, 0.0), (2608, 0.0), (2609, 0.04719427578657755), (2610, 0.0), (2611, 0.0), (2612, 0.02512678486968347), (2613, 0.0), (2614, 0.0), (2615, 0.026474916813129155), (2616, 0.014474797915452652), (2617, 0.03730904089715011), (2618, 0.0), (2619, 0.03201764455416292), (2620, 0.0), (2621, 0.030294146991934386), (2622, 0.021962346992285234), (2623, 0.0), (2624, 0.0), (2625, 0.0), (2626, 0.0), (2627, 0.0), (2628, 0.0), (2629, 0.0), (2630, 0.0), (2631, 0.0), (2632, 0.0), (2633, 0.0), (2634, 0.0), (2635, 0.03267527924326546), (2636, 0.02544661022775137), (2637, 0.012481846179457296), (2638, 0.0), (2639, 0.0), (2640, 0.0), (2641, 0.0), (2642, 0.028870179342913135), (2643, 0.01514411870222129), (2644, 0.0), (2645, 0.03834508895376221), (2646, 0.029782377569191), (2647, 0.0), (2648, 0.0), (2649, 0.058657217676104906), (2650, 0.027731384873872823), (2651, 0.0), (2652, 0.011695491066929672), (2653, 0.0), (2654, 0.011507415376918875), (2655, 0.0), (2656, 0.014750885997663039), (2657, 0.0), (2658, 0.0), (2659, 0.07261994174691758), (2660, 0.04022101918466831), (2661, 0.0), (2662, 0.0), (2663, 0.028698195939732066), (2664, 0.0), (2665, 0.0), (2666, 0.012098131147316412), (2667, 0.03869592550517449), (2668, 0.013201743595106778), (2669, 0.0), (2670, 0.0), (2671, 0.008432876232601754), (2672, 0.04644638273368339), (2673, 0.03606679657633221), (2674, 0.0), (2675, 0.01108098459868548), (2676, 0.0), (2677, 0.025745203446843064), (2678, 0.0), (2679, 0.028652157617197638), (2680, 0.0), (2681, 0.03230445055700101), (2682, 0.0), (2683, 0.0), (2684, 0.0), (2685, 0.0), (2686, 0.0), (2687, 0.0), (2688, 0.03888896275190443), (2689, 0.0), (2690, 0.0), (2691, 0.0), (2692, 0.0), (2693, 0.0), (2694, 0.0), (2695, 0.0), (2696, 0.0), (2697, 0.027214869352962964), (2698, 0.0), (2699, 0.06932047853862544), (2700, 0.0), (2701, 0.0), (2702, 0.0), (2703, 0.0), (2704, 0.01502619318746429), (2705, 0.0), (2706, 0.010971741761758459), (2707, 0.0), (2708, 0.014086093182779329), (2709, 0.0), (2710, 0.05496015078634924), (2711, 0.023267856185739597), (2712, 0.0), (2713, 0.0), (2714, 0.06525268658285135), (2715, 0.0), (2716, 0.0), (2717, 0.01280498697093733), (2718, 0.025515976669328283), (2719, 0.0256645408796269), (2720, 0.07371650966744986), (2721, 0.011450214443889752), (2722, 0.0), (2723, 0.0), (2724, 0.0), (2725, 0.0), (2726, 0.0), (2727, 0.0), (2728, 0.0121337309730811), (2729, 0.014079349535952678), (2730, 0.0), (2731, 0.0), (2732, 0.0), (2733, 0.0), (2734, 0.009079981736651137), (2735, 0.0), (2736, 0.056770327799738764), (2737, 0.0), (2738, 0.0), (2739, 0.03217226509831552), (2740, 0.03258435137029364), (2741, 0.011374087827370184), (2742, 0.025679106740906846), (2743, 0.0), (2744, 0.0), (2745, 0.0), (2746, 0.0), (2747, 0.0), (2748, 0.0), (2749, 0.01091483275156426), (2750, 0.0), (2751, 0.0), (2752, 0.013247041045893691), (2753, 0.0), (2754, 0.0), (2755, 0.0), (2756, 0.06050236178448174), (2757, 0.0), (2758, 0.011000133575641556), (2759, 0.0), (2760, 0.0175856428240005), (2761, 0.03111231004027119), (2762, 0.02380498644756907), (2763, 0.012140238315958915), (2764, 0.0), (2765, 0.0), (2766, 0.010179185761924614), (2767, 0.0), (2768, 0.0), (2769, 0.0), (2770, 0.0329002650027717), (2771, 0.0), (2772, 0.04164380523842348), (2773, 0.0), (2774, 0.02732360322066499), (2775, 0.08357655212753445), (2776, 0.0), (2777, 0.0411905156994006), (2778, 0.03719444924734419), (2779, 0.032684042825357855), (2780, 0.0), (2781, 0.0648466944444633), (2782, 0.013817685306901398), (2783, 0.0), (2784, 0.0), (2785, 0.0), (2786, 0.0), (2787, 0.0), (2788, 0.026429709279059747), (2789, 0.020886034780151688), (2790, 0.05067854940240329), (2791, 0.0), (2792, 0.0), (2793, 0.04314544581116333), (2794, 0.0), (2795, 0.0), (2796, 0.039103996745289894), (2797, 0.04381635978714164), (2798, 0.013345699094320535), (2799, 0.01573649809060703), (2800, 0.0), (2801, 0.0), (2802, 0.0), (2803, 0.0), (2804, 0.0), (2805, 0.0), (2806, 0.015400434060452562), (2807, 0.0), (2808, 0.04204446434994211), (2809, 0.0), (2810, 0.013215969044660499), (2811, 0.0), (2812, 0.01376253069682608), (2813, 0.039313324352139946), (2814, 0.008516929120922249), (2815, 0.0), (2816, 0.0), (2817, 0.043587316871838866), (2818, 0.0), (2819, 0.0), (2820, 0.0), (2821, 0.025082115147829268), (2822, 0.010996111983602336), (2823, 0.0), (2824, 0.0313704722561624), (2825, 0.027062489826092048), (2826, 0.0), (2827, 0.0), (2828, 0.0), (2829, 0.0), (2830, 0.046603992158345604), (2831, 0.03754786130596993), (2832, 0.0), (2833, 0.09802909852443775), (2834, 0.0), (2835, 0.01208335349717), (2836, 0.0), (2837, 0.0), (2838, 0.0), (2839, 0.012130453029195553), (2840, 0.0258926940974483), (2841, 0.04562662805006783), (2842, 0.04336387468075568), (2843, 0.0), (2844, 0.010386068203202146), (2845, 0.010603057540184754), (2846, 0.0), (2847, 0.0), (2848, 0.0), (2849, 0.0), (2850, 0.0), (2851, 1.0), (2852, 0.0), (2853, 0.02853297642436959), (2854, 0.01203151309480287), (2855, 0.0), (2856, 0.013957016558302615), (2857, 0.013891582788535757), (2858, 0.0), (2859, 0.0), (2860, 0.0), (2861, 0.0), (2862, 0.0), (2863, 0.0), (2864, 0.0), (2865, 0.0), (2866, 0.0), (2867, 0.010081647873933458), (2868, 0.010104440001610102), (2869, 0.03353561583228021), (2870, 0.0), (2871, 0.0), (2872, 0.0), (2873, 0.14539100271122166), (2874, 0.0), (2875, 0.0), (2876, 0.025286852706125428), (2877, 0.019704928639208245), (2878, 0.0), (2879, 0.0), (2880, 0.0), (2881, 0.0), (2882, 0.0), (2883, 0.0), (2884, 0.043402822964069124), (2885, 0.008959758970830504), (2886, 0.0), (2887, 0.042490111098317754), (2888, 0.0), (2889, 0.06722308484522935), (2890, 0.0), (2891, 0.0), (2892, 0.010220183881518203), (2893, 0.0), (2894, 0.0), (2895, 0.0), (2896, 0.0), (2897, 0.02484206113602861), (2898, 0.0), (2899, 0.024296907344994102), (2900, 0.0), (2901, 0.015038945146332625), (2902, 0.0), (2903, 0.034714771827856275), (2904, 0.0), (2905, 0.0), (2906, 0.0), (2907, 0.04574127793416535), (2908, 0.019483499976871765), (2909, 0.034656767731562975), (2910, 0.0), (2911, 0.0), (2912, 0.0), (2913, 0.0), (2914, 0.0), (2915, 0.0), (2916, 0.013118299060248181), (2917, 0.0), (2918, 0.0), (2919, 0.0), (2920, 0.0), (2921, 0.014567168701153913), (2922, 0.0), (2923, 0.03865687708114976), (2924, 0.03096156933242811), (2925, 0.05944037355915396), (2926, 0.0), (2927, 0.016912608274798773), (2928, 0.0), (2929, 0.06793436418363284), (2930, 0.0), (2931, 0.022707380302999763), (2932, 0.0), (2933, 0.010437830718552324), (2934, 0.0), (2935, 0.0), (2936, 0.0), (2937, 0.04017346449725723), (2938, 0.012527949839737526), (2939, 0.0), (2940, 0.03287713055470231), (2941, 0.0), (2942, 0.0), (2943, 0.0), (2944, 0.0), (2945, 0.02913283630332552), (2946, 0.0), (2947, 0.0), (2948, 0.0), (2949, 0.0), (2950, 0.0), (2951, 0.0), (2952, 0.03895618404176905), (2953, 0.0), (2954, 0.0317419647363042), (2955, 0.0), (2956, 0.0), (2957, 0.0), (2958, 0.0724606900429275), (2959, 0.033458961077782685), (2960, 0.0), (2961, 0.0), (2962, 0.028923968312447583), (2963, 0.013253484582157162), (2964, 0.0), (2965, 0.08033504054613508), (2966, 0.0), (2967, 0.0), (2968, 0.0), (2969, 0.0), (2970, 0.0), (2971, 0.0), (2972, 0.012141392667558877), (2973, 0.0), (2974, 0.0), (2975, 0.010884518043055525), (2976, 0.011807705690509407), (2977, 0.0), (2978, 0.0), (2979, 0.0), (2980, 0.01282065493721543), (2981, 0.022092675940301162), (2982, 0.013113989130252869), (2983, 0.0), (2984, 0.0), (2985, 0.010054889155645168), (2986, 0.0), (2987, 0.0), (2988, 0.02702674073048409), (2989, 0.0), (2990, 0.0), (2991, 0.0), (2992, 0.0), (2993, 0.0), (2994, 0.0), (2995, 0.0), (2996, 0.0), (2997, 0.0), (2998, 0.017571367648836766), (2999, 0.0), (3000, 0.10775454281137126), (3001, 0.012331544041380071), (3002, 0.0), (3003, 0.0), (3004, 0.0), (3005, 0.0), (3006, 0.03025506363135391), (3007, 0.034527390646435306), (3008, 0.0), (3009, 0.0), (3010, 0.0), (3011, 0.011850809227470916), (3012, 0.0334655592398588), (3013, 0.0), (3014, 0.0), (3015, 0.0), (3016, 0.0), (3017, 0.060327145018350514), (3018, 0.01114837811473903), (3019, 0.0), (3020, 0.0), (3021, 0.02526242355385786), (3022, 0.0), (3023, 0.02588729627291524), (3024, 0.010075881232963631), (3025, 0.0), (3026, 0.0), (3027, 0.10853542817419952), (3028, 0.03244392025948098), (3029, 0.0), (3030, 0.0), (3031, 0.05305209854973505), (3032, 0.0), (3033, 0.16798592476674742), (3034, 0.0), (3035, 0.0), (3036, 0.0), (3037, 0.0), (3038, 0.0), (3039, 0.0), (3040, 0.0), (3041, 0.0), (3042, 0.0), (3043, 0.0), (3044, 0.0), (3045, 0.0), (3046, 0.11776651855382973), (3047, 0.0), (3048, 0.0), (3049, 0.0), (3050, 0.0), (3051, 0.0), (3052, 0.0), (3053, 0.0), (3054, 0.0), (3055, 0.0), (3056, 0.043958780211521845), (3057, 0.0), (3058, 0.015239657397423308), (3059, 0.0), (3060, 0.04892357899647928), (3061, 0.0), (3062, 0.0), (3063, 0.04583203725669818), (3064, 0.0), (3065, 0.0), (3066, 0.01410781142558264), (3067, 0.027271095964508253), (3068, 0.0), (3069, 0.0), (3070, 0.0), (3071, 0.13813878202833724), (3072, 0.0), (3073, 0.03273203882529403), (3074, 0.0), (3075, 0.0), (3076, 0.04087764852622993), (3077, 0.029411989871842584), (3078, 0.015040899507850532), (3079, 0.0), (3080, 0.05013814646341086), (3081, 0.014340764641255657), (3082, 0.01035650066261969), (3083, 0.06864134310157073), (3084, 0.0), (3085, 0.0), (3086, 0.012457109654499183), (3087, 0.0), (3088, 0.0), (3089, 0.01418068652498251), (3090, 0.02301930107988202), (3091, 0.010540371723126633), (3092, 0.0), (3093, 0.0), (3094, 0.04140412670615615), (3095, 0.0), (3096, 0.01238178781584397), (3097, 0.0), (3098, 0.02720363253259906), (3099, 0.0), (3100, 0.0), (3101, 0.0), (3102, 0.0), (3103, 0.0), (3104, 0.0), (3105, 0.0), (3106, 0.0), (3107, 0.0), (3108, 0.031085495140740594), (3109, 0.011484022865161269), (3110, 0.026362300995920004), (3111, 0.050165810536237046), (3112, 0.014606664040859193), (3113, 0.0), (3114, 0.0), (3115, 0.0), (3116, 0.012691601094648996), (3117, 0.04418896781087439), (3118, 0.0), (3119, 0.0), (3120, 0.0), (3121, 0.025789070063729692), (3122, 0.0), (3123, 0.0), (3124, 0.03395420235406292), (3125, 0.0), (3126, 0.0), (3127, 0.03139935229249875), (3128, 0.0), (3129, 0.0), (3130, 0.0), (3131, 0.0), (3132, 0.0475977812056808), (3133, 0.07665405800446465), (3134, 0.047955671395671105), (3135, 0.0), (3136, 0.0), (3137, 0.011947838146075017), (3138, 0.012870358010084751), (3139, 0.0), (3140, 0.0), (3141, 0.012792089823202265), (3142, 0.03113193723008327), (3143, 0.0), (3144, 0.017843094064825343), (3145, 0.0), (3146, 0.0), (3147, 0.01191400983590564), (3148, 0.0), (3149, 0.03956828617035122), (3150, 0.0), (3151, 0.011598445266421183), (3152, 0.037853791224190296), (3153, 0.01346898166946881), (3154, 0.0), (3155, 0.02569789446478355), (3156, 0.0), (3157, 0.0), (3158, 0.0), (3159, 0.0), (3160, 0.0), (3161, 0.0), (3162, 0.0), (3163, 0.037069614674235384), (3164, 0.0), (3165, 0.0), (3166, 0.0), (3167, 0.04052724943536937), (3168, 0.0), (3169, 0.0), (3170, 0.0), (3171, 0.0), (3172, 0.0), (3173, 0.0), (3174, 0.0), (3175, 0.0), (3176, 0.0), (3177, 0.0), (3178, 0.0), (3179, 0.0), (3180, 0.0), (3181, 0.01427980998327792), (3182, 0.032172520871927075), (3183, 0.0), (3184, 0.03461117735465502), (3185, 0.0), (3186, 0.0), (3187, 0.014261191965550186), (3188, 0.01205513968379565), (3189, 0.11045111135390187), (3190, 0.03608805216688846), (3191, 0.04813425946603704), (3192, 0.0), (3193, 0.0), (3194, 0.0), (3195, 0.03332761544366874), (3196, 0.0), (3197, 0.0), (3198, 0.0), (3199, 0.017595480646670044), (3200, 0.0), (3201, 0.0), (3202, 0.0), (3203, 0.0), (3204, 0.01555495288779096), (3205, 0.0227683924728955), (3206, 0.02910402163826189), (3207, 0.0), (3208, 0.02670128749791207), (3209, 0.01357981447729848), (3210, 0.0), (3211, 0.0), (3212, 0.013385504108384813), (3213, 0.02107076054045492), (3214, 0.022798088805048796), (3215, 0.04210488162470675), (3216, 0.0), (3217, 0.0), (3218, 0.0), (3219, 0.061971466953808146), (3220, 0.0), (3221, 0.013368753077107458), (3222, 0.0), (3223, 0.0), (3224, 0.0), (3225, 0.031029355226926382), (3226, 0.0), (3227, 0.0), (3228, 0.0), (3229, 0.0), (3230, 0.0), (3231, 0.0), (3232, 0.0), (3233, 0.0), (3234, 0.012727155519963068), (3235, 0.0), (3236, 0.013594349371778022), (3237, 0.012415756543844062), (3238, 0.011742552397619996), (3239, 0.0), (3240, 0.05257102264315498), (3241, 0.025368638354408744), (3242, 0.011717517228939822), (3243, 0.0), (3244, 0.011427810379136526), (3245, 0.0), (3246, 0.012160015602222829), (3247, 0.01329479743077402), (3248, 0.0), (3249, 0.0), (3250, 0.0), (3251, 0.0), (3252, 0.0), (3253, 0.0), (3254, 0.010523253577926616), (3255, 0.0), (3256, 0.013423589942132965), (3257, 0.0), (3258, 0.0), (3259, 0.013302451176429501), (3260, 0.01254533983963509), (3261, 0.0), (3262, 0.0), (3263, 0.0), (3264, 0.0), (3265, 0.0), (3266, 0.0), (3267, 0.0), (3268, 0.0), (3269, 0.03726430526196704), (3270, 0.032571582880213695), (3271, 0.0), (3272, 0.0236924840778649), (3273, 0.031239395538776017), (3274, 0.0), (3275, 0.0), (3276, 0.0), (3277, 0.0), (3278, 0.0), (3279, 0.0), (3280, 0.0), (3281, 0.0), (3282, 0.0), (3283, 0.0), (3284, 0.0), (3285, 0.0), (3286, 0.013298179080481233), (3287, 0.014607013705161266), (3288, 0.0), (3289, 0.04305385736144961), (3290, 0.0), (3291, 0.0), (3292, 0.0), (3293, 0.0), (3294, 0.0), (3295, 0.0), (3296, 0.0), (3297, 0.0), (3298, 0.0), (3299, 0.0), (3300, 0.013085076987862737), (3301, 0.0436989484243033), (3302, 0.0), (3303, 0.02320164343501702), (3304, 0.03114370700401683), (3305, 0.03637253880593205), (3306, 0.0), (3307, 0.0), (3308, 0.0), (3309, 0.0), (3310, 0.0), (3311, 0.025028410631473014), (3312, 0.06272000808627148), (3313, 0.0), (3314, 0.0), (3315, 0.011899159439014994), (3316, 0.0), (3317, 0.0), (3318, 0.011973888970294163), (3319, 0.0), (3320, 0.0), (3321, 0.010977136056199056), (3322, 0.09537743461062854), (3323, 0.0), (3324, 0.0), (3325, 0.0), (3326, 0.0), (3327, 0.0), (3328, 0.0), (3329, 0.0), (3330, 0.01223366206753549), (3331, 0.0), (3332, 0.0), (3333, 0.04205838193305087), (3334, 0.03462177751418521), (3335, 0.0), (3336, 0.0), (3337, 0.0), (3338, 0.04550147390638289), (3339, 0.0), (3340, 0.0), (3341, 0.0), (3342, 0.01145274819581141), (3343, 0.0), (3344, 0.020902061357019046), (3345, 0.0), (3346, 0.0), (3347, 0.0), (3348, 0.011635366657002153), (3349, 0.0), (3350, 0.013160582286526059), (3351, 0.0), (3352, 0.0), (3353, 0.0), (3354, 0.0), (3355, 0.0), (3356, 0.028202203943819157), (3357, 0.0), (3358, 0.0), (3359, 0.0), (3360, 0.011398838686573237), (3361, 0.0), (3362, 0.029243827737033944), (3363, 0.0), (3364, 0.0), (3365, 0.0), (3366, 0.013275819868050825), (3367, 0.0), (3368, 0.0), (3369, 0.0), (3370, 0.023826035293574212), (3371, 0.0), (3372, 0.0), (3373, 0.0), (3374, 0.0), (3375, 0.0), (3376, 0.0), (3377, 0.0), (3378, 0.0), (3379, 0.0), (3380, 0.0), (3381, 0.0), (3382, 0.0), (3383, 0.0), (3384, 0.0), (3385, 0.0), (3386, 0.025498940165392787), (3387, 0.028730930873711074), (3388, 0.013449505390306864), (3389, 0.011636916183355153), (3390, 0.012041738851502217), (3391, 0.0), (3392, 0.03219527168323074), (3393, 0.0), (3394, 0.0), (3395, 0.011859908534242871), (3396, 0.03548217237327642), (3397, 0.013734230130808276), (3398, 0.0), (3399, 0.0), (3400, 0.0), (3401, 0.0), (3402, 0.0), (3403, 0.032943481331882), (3404, 0.0), (3405, 0.0), (3406, 0.0), (3407, 0.0), (3408, 0.0), (3409, 0.0), (3410, 0.0), (3411, 0.0), (3412, 0.0), (3413, 0.0), (3414, 0.0), (3415, 0.0), (3416, 0.03248565883809525), (3417, 0.0), (3418, 0.02873828025628213), (3419, 0.0), (3420, 0.0), (3421, 0.008515599849606485), (3422, 0.028824165067321727), (3423, 0.0), (3424, 0.0), (3425, 0.0), (3426, 0.032008185243075075), (3427, 0.011871559811528685), (3428, 0.0), (3429, 0.0), (3430, 0.0), (3431, 0.0), (3432, 0.0), (3433, 0.0), (3434, 0.03343930493231225), (3435, 0.0), (3436, 0.0), (3437, 0.0), (3438, 0.032092013931610756), (3439, 0.0), (3440, 0.0), (3441, 0.0), (3442, 0.0), (3443, 0.0), (3444, 0.01496181470551199), (3445, 0.0), (3446, 0.0), (3447, 0.0), (3448, 0.0), (3449, 0.0), (3450, 0.0), (3451, 0.0), (3452, 0.0), (3453, 0.0), (3454, 0.0), (3455, 0.0), (3456, 0.04938027635865502), (3457, 0.014638137752797898), (3458, 0.02780539424668389), (3459, 0.012077222384136187), (3460, 0.0), (3461, 0.02988474693462932), (3462, 0.0), (3463, 0.0), (3464, 0.013710803822035334), (3465, 0.0), (3466, 0.0), (3467, 0.0), (3468, 0.0), (3469, 0.0), (3470, 0.0), (3471, 0.0), (3472, 0.014682388383328042), (3473, 0.014867972333848106), (3474, 0.02645494638922992), (3475, 0.0), (3476, 0.013329955989893607), (3477, 0.03781345595254962), (3478, 0.0), (3479, 0.0), (3480, 0.0), (3481, 0.012786727026089939), (3482, 0.013954140365198119), (3483, 0.09059133424973326), (3484, 0.011448159300499682), (3485, 0.013436304465762054), (3486, 0.0), (3487, 0.0), (3488, 0.0), (3489, 0.0), (3490, 0.0), (3491, 0.0), (3492, 0.042654010770073), (3493, 0.0), (3494, 0.0), (3495, 0.0), (3496, 0.0), (3497, 0.012606086347220777), (3498, 0.03027320932846142), (3499, 0.0), (3500, 0.0), (3501, 0.0), (3502, 0.0), (3503, 0.04092532170982942), (3504, 0.0), (3505, 0.014610710256638886), (3506, 0.012742294600649176), (3507, 0.033018827791419576), (3508, 0.0), (3509, 0.02270258823971244), (3510, 0.029119903079656888), (3511, 0.0), (3512, 0.0), (3513, 0.0), (3514, 0.0), (3515, 0.0), (3516, 0.012931721399201275), (3517, 0.0), (3518, 0.0), (3519, 0.0), (3520, 0.0), (3521, 0.0), (3522, 0.0), (3523, 0.0), (3524, 0.0321383521172324), (3525, 0.0), (3526, 0.0), (3527, 0.0), (3528, 0.0), (3529, 0.0), (3530, 0.0), (3531, 0.032628519093902894), (3532, 0.0), (3533, 0.04225027459856414), (3534, 0.0), (3535, 0.0), (3536, 0.0), (3537, 0.0), (3538, 0.0), (3539, 0.04680663351064995), (3540, 0.0), (3541, 0.0), (3542, 0.028884022486780417), (3543, 0.0), (3544, 0.0), (3545, 0.04665310338765717), (3546, 0.05277955331918917), (3547, 0.0), (3548, 0.0), (3549, 0.0), (3550, 0.0), (3551, 0.0), (3552, 0.0), (3553, 0.022387046899802133), (3554, 0.0166287693845067), (3555, 0.0), (3556, 0.0), (3557, 0.038717779069169234), (3558, 0.0), (3559, 0.0), (3560, 0.0), (3561, 0.0), (3562, 0.01346397728593376), (3563, 0.06391566731438064), (3564, 0.013088867618000695), (3565, 0.0), (3566, 0.0), (3567, 0.0), (3568, 0.02711518629013565), (3569, 0.0), (3570, 0.03344653388403708), (3571, 0.0), (3572, 0.0), (3573, 0.0), (3574, 0.033738064046521646), (3575, 0.027667587353328978), (3576, 0.0), (3577, 0.0), (3578, 0.0), (3579, 0.009248467520482983), (3580, 0.0), (3581, 0.015466641731852002), (3582, 0.03348800307113597), (3583, 0.0), (3584, 0.0), (3585, 0.0), (3586, 0.0), (3587, 0.04713950906758762), (3588, 0.02907940310052187), (3589, 0.0), (3590, 0.0), (3591, 0.0), (3592, 0.0), (3593, 0.05958795202032077), (3594, 0.033315221427899944), (3595, 0.0), (3596, 0.01230364715069745), (3597, 0.0), (3598, 0.0), (3599, 0.0), (3600, 0.0), (3601, 0.0), (3602, 0.03850882651748585), (3603, 0.0), (3604, 0.0), (3605, 0.0), (3606, 0.0), (3607, 0.056795491442579525), (3608, 0.0), (3609, 0.0), (3610, 0.028925965561662735), (3611, 0.03102781452271991), (3612, 0.0), (3613, 0.014842345943921566), (3614, 0.0), (3615, 0.0), (3616, 0.01414057175856288), (3617, 0.0), (3618, 0.0), (3619, 0.0), (3620, 0.015546022384584503), (3621, 0.0), (3622, 0.0), (3623, 0.0), (3624, 0.0), (3625, 0.0), (3626, 0.047396022626494304), (3627, 0.0), (3628, 0.015135789419531918), (3629, 0.0), (3630, 0.0), (3631, 0.014301562019374063), (3632, 0.014128635225624377), (3633, 0.012461564389526494), (3634, 0.0), (3635, 0.0), (3636, 0.0), (3637, 0.0), (3638, 0.0), (3639, 0.0), (3640, 0.0), (3641, 0.0), (3642, 0.0), (3643, 0.013579341060934233), (3644, 0.0), (3645, 0.0), (3646, 0.025620519521941977), (3647, 0.0), (3648, 0.0), (3649, 0.0), (3650, 0.015015369651036723), (3651, 0.0), (3652, 0.0), (3653, 0.0), (3654, 0.0), (3655, 0.010495429640065251), (3656, 0.05824352764509521), (3657, 0.0), (3658, 0.01099859493603747), (3659, 0.0), (3660, 0.026631299227796463), (3661, 0.0), (3662, 0.03384672126059933), (3663, 0.0), (3664, 0.0), (3665, 0.0), (3666, 0.03258008609546591), (3667, 0.009637700744568062), (3668, 0.0), (3669, 0.0), (3670, 0.03167343291683805), (3671, 0.01615713871755043), (3672, 0.0), (3673, 0.01340478706867436), (3674, 0.02609446666729216), (3675, 0.0), (3676, 0.0), (3677, 0.0), (3678, 0.0), (3679, 0.0), (3680, 0.038337247871477555), (3681, 0.0), (3682, 0.01450648748466212), (3683, 0.024859055005832905), (3684, 0.10746482959611334), (3685, 0.07959037123358724), (3686, 0.0), (3687, 0.0), (3688, 0.0), (3689, 0.0), (3690, 0.0), (3691, 0.0), (3692, 0.0), (3693, 0.010956386761644258), (3694, 0.0), (3695, 0.014738544847482134), (3696, 0.0), (3697, 0.0), (3698, 0.0), (3699, 0.0), (3700, 0.03363352341213289), (3701, 0.0), (3702, 0.0), (3703, 0.0), (3704, 0.0), (3705, 0.030211014600816027), (3706, 0.0), (3707, 0.0), (3708, 0.0), (3709, 0.0), (3710, 0.0), (3711, 0.0), (3712, 0.023783391393232295), (3713, 0.0), (3714, 0.0), (3715, 0.035227696096883455), (3716, 0.0), (3717, 0.0), (3718, 0.011417276686413486), (3719, 0.0), (3720, 0.0), (3721, 0.0), (3722, 0.06352908375634109), (3723, 0.0), (3724, 0.0), (3725, 0.044915636656838884), (3726, 0.011997681629806712), (3727, 0.08857158055331485), (3728, 0.014306899308648143), (3729, 0.0), (3730, 0.0), (3731, 0.0), (3732, 0.0), (3733, 0.0), (3734, 0.0), (3735, 0.015220685073630277), (3736, 0.029034021976475876), (3737, 0.0), (3738, 0.026898715249918565), (3739, 0.012123778341976317), (3740, 0.0), (3741, 0.0), (3742, 0.0), (3743, 0.0), (3744, 0.03813826650813147), (3745, 0.0), (3746, 0.0135325228585394), (3747, 0.030304940347312525), (3748, 0.0), (3749, 0.0), (3750, 0.007964287566700772), (3751, 0.04622815585260367), (3752, 0.020677854556008474), (3753, 0.023530629671435523), (3754, 0.0), (3755, 0.0), (3756, 0.02354024349719649), (3757, 0.0), (3758, 0.0), (3759, 0.0), (3760, 0.0), (3761, 0.0), (3762, 0.0), (3763, 0.015550271954585665), (3764, 0.0), (3765, 0.0), (3766, 0.0), (3767, 0.0), (3768, 0.0), (3769, 0.028024910533935347), (3770, 0.0), (3771, 0.0377585307682433), (3772, 0.0), (3773, 0.0), (3774, 0.013239463116488735), (3775, 0.0), (3776, 0.0), (3777, 0.0), (3778, 0.0), (3779, 0.0), (3780, 0.012852049079155728), (3781, 0.0), (3782, 0.0), (3783, 0.0), (3784, 0.0), (3785, 0.06150812275973259), (3786, 0.0), (3787, 0.0), (3788, 0.02583492857302463), (3789, 0.0), (3790, 0.0587922971193626), (3791, 0.0), (3792, 0.013369347434228724), (3793, 0.0), (3794, 0.0), (3795, 0.0), (3796, 0.01620237848603469), (3797, 0.030915550830533555), (3798, 0.0), (3799, 0.0), (3800, 0.0), (3801, 0.0), (3802, 0.0), (3803, 0.011623008121714967), (3804, 0.030329947351986967), (3805, 0.013004682987655761), (3806, 0.0), (3807, 0.02704839040956733), (3808, 0.0), (3809, 0.047779307174179136), (3810, 0.0), (3811, 0.0), (3812, 0.08642268431688095), (3813, 0.024337430754877796), (3814, 0.0), (3815, 0.0), (3816, 0.014806630959564067), (3817, 0.01365654872563307), (3818, 0.0), (3819, 0.013072828430421197), (3820, 0.1514969000246101), (3821, 0.0), (3822, 0.013769923949134049), (3823, 0.0), (3824, 0.0), (3825, 0.0), (3826, 0.012469862459269433), (3827, 0.0), (3828, 0.02967705257466941), (3829, 0.0), (3830, 0.008735992946611284), (3831, 0.0), (3832, 0.0), (3833, 0.0), (3834, 0.0), (3835, 0.015632918619812506), (3836, 0.0), (3837, 0.0), (3838, 0.0), (3839, 0.0), (3840, 0.0), (3841, 0.0), (3842, 0.0), (3843, 0.011214408155476547), (3844, 0.0), (3845, 0.0), (3846, 0.014262002243432544), (3847, 0.015791183457719765), (3848, 0.0), (3849, 0.012673496737609872), (3850, 0.0), (3851, 0.0), (3852, 0.0), (3853, 0.0), (3854, 0.0), (3855, 0.011186813899953709), (3856, 0.0), (3857, 0.032758033730058984), (3858, 0.015291225483236701), (3859, 0.0), (3860, 0.0), (3861, 0.0), (3862, 0.0), (3863, 0.0), (3864, 0.031698095505467795), (3865, 0.012629604195001465), (3866, 0.0), (3867, 0.0), (3868, 0.02377886618618524), (3869, 0.0), (3870, 0.0), (3871, 0.01382922499717063), (3872, 0.0), (3873, 0.0), (3874, 0.0), (3875, 0.0), (3876, 0.013744604078147597), (3877, 0.045244510766752254), (3878, 0.0), (3879, 0.0), (3880, 0.0), (3881, 0.0), (3882, 0.0), (3883, 0.0), (3884, 0.0), (3885, 0.0), (3886, 0.028866584013274025), (3887, 0.0), (3888, 0.03660523297147315), (3889, 0.0), (3890, 0.030146160781990058), (3891, 0.0), (3892, 0.05212985168001133), (3893, 0.02944644709172401), (3894, 0.0), (3895, 0.0), (3896, 0.0), (3897, 0.0), (3898, 0.0), (3899, 0.04627621560397787), (3900, 0.0), (3901, 0.0), (3902, 0.0), (3903, 0.0), (3904, 0.029938836673432775), (3905, 0.0), (3906, 0.0), (3907, 0.0), (3908, 0.0), (3909, 0.0), (3910, 0.0), (3911, 0.0), (3912, 0.02560419849293025), (3913, 0.0), (3914, 0.0), (3915, 0.0), (3916, 0.03413171887213859), (3917, 0.0), (3918, 0.0), (3919, 0.0), (3920, 0.0), (3921, 0.0), (3922, 0.0), (3923, 0.013347457463011792), (3924, 0.0), (3925, 0.0), (3926, 0.01196663073605209), (3927, 0.0), (3928, 0.0), (3929, 0.0), (3930, 0.0), (3931, 0.0), (3932, 0.0), (3933, 0.0), (3934, 0.0), (3935, 0.0), (3936, 0.0), (3937, 0.0), (3938, 0.0), (3939, 0.0), (3940, 0.0), (3941, 0.0), (3942, 0.0), (3943, 0.015071458839024112), (3944, 0.0), (3945, 0.0), (3946, 0.0), (3947, 0.0), (3948, 0.01275689786716422), (3949, 0.0), (3950, 0.0), (3951, 0.0), (3952, 0.0), (3953, 0.033721317589391515), (3954, 0.0), (3955, 0.0), (3956, 0.0), (3957, 0.0), (3958, 0.0), (3959, 0.0), (3960, 0.0), (3961, 0.0), (3962, 0.0), (3963, 0.0), (3964, 0.0), (3965, 0.02520703637838118), (3966, 0.01316187247598907), (3967, 0.07112363037306817), (3968, 0.0), (3969, 0.027068290056912844), (3970, 0.0), (3971, 0.0), (3972, 0.0), (3973, 0.0), (3974, 0.011098986187652836), (3975, 0.0), (3976, 0.0), (3977, 0.0), (3978, 0.0), (3979, 0.0), (3980, 0.01365459524557773), (3981, 0.0), (3982, 0.031698197429813404), (3983, 0.009350760687072378), (3984, 0.0), (3985, 0.01153039889356799), (3986, 0.0), (3987, 0.0), (3988, 0.0), (3989, 0.024468200295686363), (3990, 0.05379508471283608), (3991, 0.012622194901568212), (3992, 0.0), (3993, 0.011872373502053099), (3994, 0.02670613015217541), (3995, 0.0), (3996, 0.036613137201419226), (3997, 0.0), (3998, 0.0), (3999, 0.0), (4000, 0.0), (4001, 0.0), (4002, 0.0), (4003, 0.0), (4004, 0.0), (4005, 0.0), (4006, 0.0), (4007, 0.038464155923538315), (4008, 0.0), (4009, 0.011934660636555265), (4010, 0.014967255197341378), (4011, 0.012528515558379546), (4012, 0.0), (4013, 0.0), (4014, 0.0), (4015, 0.021016934100633166), (4016, 0.0), (4017, 0.0), (4018, 0.0), (4019, 0.0), (4020, 0.0), (4021, 0.016325828830202452), (4022, 0.0), (4023, 0.0), (4024, 0.0), (4025, 0.08621338586904231), (4026, 0.0), (4027, 0.03130641174632905), (4028, 0.0), (4029, 0.0), (4030, 0.0), (4031, 0.016677175888042677), (4032, 0.0), (4033, 0.012263584677240213), (4034, 0.014110331394109993), (4035, 0.0), (4036, 0.0), (4037, 0.013861117214878786), (4038, 0.0), (4039, 0.0), (4040, 0.04620955382279169), (4041, 0.0), (4042, 0.0), (4043, 0.0), (4044, 0.0), (4045, 0.057412953516792056), (4046, 0.0), (4047, 0.0), (4048, 0.0), (4049, 0.0), (4050, 0.0), (4051, 0.0), (4052, 0.0), (4053, 0.0), (4054, 0.0), (4055, 0.0), (4056, 0.0), (4057, 0.0), (4058, 0.0), (4059, 0.01181152040912108), (4060, 0.03424706294817143), (4061, 0.0), (4062, 0.0), (4063, 0.0), (4064, 0.0), (4065, 0.0), (4066, 0.01126029995028747), (4067, 0.0), (4068, 0.0), (4069, 0.0), (4070, 0.013149628763001747), (4071, 0.0), (4072, 0.0), (4073, 0.012363926493470736), (4074, 0.08451040075517452), (4075, 0.0), (4076, 0.0), (4077, 0.0), (4078, 0.03236428539976319), (4079, 0.0), (4080, 0.0), (4081, 0.0), (4082, 0.0), (4083, 0.0), (4084, 0.0), (4085, 0.0), (4086, 0.027369214671943212), (4087, 0.0), (4088, 0.0), (4089, 0.04338555654768139), (4090, 0.042054552999085844), (4091, 0.0), (4092, 0.0), (4093, 0.0), (4094, 0.0), (4095, 0.0), (4096, 0.0), (4097, 0.05412149445222417), (4098, 0.0), (4099, 0.013976108605947894), (4100, 0.0), (4101, 0.02650213294827565), (4102, 0.0), (4103, 0.0), (4104, 0.0), (4105, 0.0), (4106, 0.0), (4107, 0.0), (4108, 0.0), (4109, 0.010787122772160046), (4110, 0.011716547883154469), (4111, 0.03572583484915858), (4112, 0.013393823452087193), (4113, 0.0), (4114, 0.010704948151747485), (4115, 0.0), (4116, 0.0), (4117, 0.0), (4118, 0.01331324284338913), (4119, 0.0), (4120, 0.0), (4121, 0.0), (4122, 0.0991618240972078), (4123, 0.0), (4124, 0.0), (4125, 0.0), (4126, 0.0), (4127, 0.0), (4128, 0.012658180775655939), (4129, 0.0), (4130, 0.0), (4131, 0.0), (4132, 0.0), (4133, 0.0), (4134, 0.0), (4135, 0.01350668573413999), (4136, 0.014119570562604884), (4137, 0.012671211588828836), (4138, 0.0), (4139, 0.0), (4140, 0.015417426973689747), (4141, 0.0), (4142, 0.0), (4143, 0.0), (4144, 0.0), (4145, 0.0), (4146, 0.014392894112604257), (4147, 0.05252475674487009), (4148, 0.0), (4149, 0.0), (4150, 0.0), (4151, 0.0), (4152, 0.01223564256010661), (4153, 0.0), (4154, 0.0), (4155, 0.012441040828054282), (4156, 0.0), (4157, 0.011480998171484484), (4158, 0.0), (4159, 0.011786657453434683), (4160, 0.014209694703877278), (4161, 0.0), (4162, 0.03881922830182044), (4163, 0.0), (4164, 0.023304860603614027), (4165, 0.0), (4166, 0.0), (4167, 0.04726323011021206), (4168, 0.013806711303564818), (4169, 0.023321628912807594), (4170, 0.0), (4171, 0.007803578632645085), (4172, 0.0), (4173, 0.027514930579183944), (4174, 0.012116980454382722), (4175, 0.0), (4176, 0.030636992736473447), (4177, 0.0), (4178, 0.0), (4179, 0.0), (4180, 0.0), (4181, 0.0), (4182, 0.0), (4183, 0.0), (4184, 0.0), (4185, 0.0), (4186, 0.012681646486199178), (4187, 0.015286712778772379), (4188, 0.0), (4189, 0.11757387588018539), (4190, 0.013940092448258902), (4191, 0.012081874519895548), (4192, 0.0), (4193, 0.0), (4194, 0.04358220100254953), (4195, 0.01407370628534224), (4196, 0.01346968531786225), (4197, 0.046249119280002166), (4198, 0.0), (4199, 0.06067300170602856), (4200, 0.0), (4201, 0.0), (4202, 0.0), (4203, 0.032762659108262634), (4204, 0.0), (4205, 0.0), (4206, 0.0), (4207, 0.08756820337684221), (4208, 0.0), (4209, 0.0), (4210, 0.046911699870380574), (4211, 0.0), (4212, 0.0), (4213, 0.0), (4214, 0.0), (4215, 0.0), (4216, 0.03237405017678644), (4217, 0.0), (4218, 0.02738576053260689), (4219, 0.0), (4220, 0.0), (4221, 0.0), (4222, 0.0), (4223, 0.0), (4224, 0.0), (4225, 0.0), (4226, 0.0), (4227, 0.0), (4228, 0.0), (4229, 0.0), (4230, 0.0), (4231, 0.0), (4232, 0.0), (4233, 0.0), (4234, 0.0), (4235, 0.0), (4236, 0.0), (4237, 0.0), (4238, 0.0), (4239, 0.0), (4240, 0.046175653907715636), (4241, 0.0), (4242, 0.014534480089867154), (4243, 0.0), (4244, 0.0), (4245, 0.0), (4246, 0.0), (4247, 0.01091730510194166), (4248, 0.0), (4249, 0.0), (4250, 0.0), (4251, 0.0), (4252, 0.10186391058445007), (4253, 0.0), (4254, 0.0), (4255, 0.0), (4256, 0.0), (4257, 0.0), (4258, 0.014176393863126824), (4259, 0.014209176387204186), (4260, 0.0), (4261, 0.0), (4262, 0.053093183421461874), (4263, 0.0), (4264, 0.0), (4265, 0.0), (4266, 0.0), (4267, 0.0), (4268, 0.026876216007846947), (4269, 0.027152676295530226), (4270, 0.01103133533419098), (4271, 0.014004278666234259), (4272, 0.0), (4273, 0.0), (4274, 0.012379132973641795), (4275, 0.0), (4276, 0.0), (4277, 0.03324860897836446), (4278, 0.0), (4279, 0.0), (4280, 0.0), (4281, 0.0), (4282, 0.0), (4283, 0.0), (4284, 0.0), (4285, 0.0), (4286, 0.04030224458844405), (4287, 0.03763564404131061), (4288, 0.0), (4289, 0.034636915667547716), (4290, 0.02389542537106398), (4291, 0.0), (4292, 0.0), (4293, 0.0), (4294, 0.0), (4295, 0.0), (4296, 0.0), (4297, 0.0), (4298, 0.0), (4299, 0.0), (4300, 0.0), (4301, 0.0), (4302, 0.0), (4303, 0.04313407163896398), (4304, 0.026777935465976586), (4305, 0.0), (4306, 0.0), (4307, 0.0), (4308, 0.0), (4309, 0.026931676499561946), (4310, 0.012796285425261431), (4311, 0.0), (4312, 0.0), (4313, 0.0), (4314, 0.014065359290149527), (4315, 0.0), (4316, 0.0), (4317, 0.030959310129893933), (4318, 0.07738811859968941), (4319, 0.08592202166494242), (4320, 0.0), (4321, 0.011760852796699939), (4322, 0.0), (4323, 0.0), (4324, 0.0), (4325, 0.0697950545376888), (4326, 0.0), (4327, 0.0), (4328, 0.0), (4329, 0.04331207137015479), (4330, 0.01411219249012799), (4331, 0.0), (4332, 0.0), (4333, 0.012850914368767579), (4334, 0.0), (4335, 0.0), (4336, 0.0), (4337, 0.0), (4338, 0.014595130230295909), (4339, 0.0), (4340, 0.013172503257646694), (4341, 0.049005937037885625), (4342, 0.0), (4343, 0.0), (4344, 0.03199404632246828), (4345, 0.03267592250667022), (4346, 0.016658136358412307), (4347, 0.01373159236628026), (4348, 0.0), (4349, 0.0), (4350, 0.0), (4351, 0.01486480842550507), (4352, 0.0), (4353, 0.03886110554651435), (4354, 0.0), (4355, 0.0), (4356, 0.011660378091737904), (4357, 0.0), (4358, 0.028546249477720106), (4359, 0.026312466404928837), (4360, 0.036975532916528636), (4361, 0.0), (4362, 0.0), (4363, 0.033005670962546606), (4364, 0.012355428374981613), (4365, 0.0), (4366, 0.042666675069852146), (4367, 0.0), (4368, 0.0), (4369, 0.0), (4370, 0.0), (4371, 0.033108526263050254), (4372, 0.0), (4373, 0.0), (4374, 0.039759713430678675), (4375, 0.0), (4376, 0.0), (4377, 0.0), (4378, 0.0), (4379, 0.0), (4380, 0.013112400319283462), (4381, 0.0), (4382, 0.0), (4383, 0.02875271352514947), (4384, 0.0), (4385, 0.0), (4386, 0.0), (4387, 0.0), (4388, 0.07227764479077478), (4389, 0.0), (4390, 0.0), (4391, 0.0), (4392, 0.0), (4393, 0.0), (4394, 0.08374201676870083), (4395, 0.01198430848897299), (4396, 0.01525338693836286), (4397, 0.0), (4398, 0.0), (4399, 0.023707688491521738), (4400, 0.0), (4401, 0.0), (4402, 0.012531754450424398), (4403, 0.0), (4404, 0.0), (4405, 0.0127585782413814), (4406, 0.0), (4407, 0.014302546095224598), (4408, 0.0), (4409, 0.0), (4410, 0.0), (4411, 0.07246530185575045), (4412, 0.0349043094734473), (4413, 0.0), (4414, 0.0), (4415, 0.0), (4416, 0.0318523774570081), (4417, 0.0), (4418, 0.0), (4419, 0.0), (4420, 0.0), (4421, 0.035347400326837794), (4422, 0.0), (4423, 0.0), (4424, 0.0), (4425, 0.0), (4426, 0.0), (4427, 0.026607657089163798), (4428, 0.0), (4429, 0.0), (4430, 0.0), (4431, 0.03131752499653424), (4432, 0.0), (4433, 0.0), (4434, 0.0812474525997582), (4435, 0.0), (4436, 0.0), (4437, 0.05720366213329009), (4438, 0.02610440500107218), (4439, 0.0), (4440, 0.0), (4441, 0.0), (4442, 0.0), (4443, 0.0), (4444, 0.0), (4445, 0.02732915541114444), (4446, 0.0), (4447, 0.01271967427415296), (4448, 0.0), (4449, 0.0), (4450, 0.0), (4451, 0.0), (4452, 0.0), (4453, 0.0), (4454, 0.029196462748741554), (4455, 0.014023795520009796), (4456, 0.0), (4457, 0.013443447835186318), (4458, 0.0), (4459, 0.0), (4460, 0.013939378076230465), (4461, 0.0), (4462, 0.0), (4463, 0.0), (4464, 0.0), (4465, 0.0), (4466, 0.0), (4467, 0.0), (4468, 0.010391648364292898), (4469, 0.0), (4470, 0.08749850896111977), (4471, 0.0), (4472, 0.012003214903730616), (4473, 0.013217676913173864), (4474, 0.0), (4475, 0.0), (4476, 0.0), (4477, 0.0), (4478, 0.015024476135000535), (4479, 0.0), (4480, 0.0), (4481, 0.0), (4482, 0.013118361198352262), (4483, 0.014299600099098541), (4484, 0.0), (4485, 0.0), (4486, 0.0), (4487, 0.0), (4488, 0.026253580868865662), (4489, 0.0), (4490, 0.013045207948965638), (4491, 0.0), (4492, 0.01347480181587675), (4493, 0.0), (4494, 0.0), (4495, 0.0), (4496, 0.0), (4497, 0.024190917056665383), (4498, 0.021959270218694062), (4499, 0.0), (4500, 0.015443032594075696), (4501, 0.012882336640653073), (4502, 0.0), (4503, 0.04235457261569164), (4504, 0.0), (4505, 0.0), (4506, 0.0), (4507, 0.0), (4508, 0.0), (4509, 0.0), (4510, 0.0), (4511, 0.0), (4512, 0.0), (4513, 0.021199569724279967), (4514, 0.0), (4515, 0.025001754234243754), (4516, 0.05350982940362981), (4517, 0.0), (4518, 0.0), (4519, 0.019694091498008888), (4520, 0.0), (4521, 0.0), (4522, 0.05401019981892169), (4523, 0.0), (4524, 0.0), (4525, 0.027525521390142513), (4526, 0.014495921703357279), (4527, 0.0), (4528, 0.0), (4529, 0.05400604958173411), (4530, 0.0), (4531, 0.0), (4532, 0.0), (4533, 0.0), (4534, 0.0), (4535, 0.0), (4536, 0.05872114128011577), (4537, 0.0), (4538, 0.03375023290925909), (4539, 0.0), (4540, 0.0), (4541, 0.04323157718619995), (4542, 0.013263309317068634), (4543, 0.0), (4544, 0.0), (4545, 0.02853775464804904), (4546, 0.0), (4547, 0.0), (4548, 0.0), (4549, 0.0), (4550, 0.0), (4551, 0.0), (4552, 0.0), (4553, 0.0), (4554, 0.0), (4555, 0.0), (4556, 0.0), (4557, 0.033926584744678044), (4558, 0.02983904127517915), (4559, 0.014196174643170153), (4560, 0.0), (4561, 0.0), (4562, 0.0), (4563, 0.0), (4564, 0.0), (4565, 0.0), (4566, 0.0), (4567, 0.0), (4568, 0.0), (4569, 0.049926525953478046), (4570, 0.013982323724491826), (4571, 0.0), (4572, 0.0), (4573, 0.0), (4574, 0.013703039094694907), (4575, 0.0), (4576, 0.0), (4577, 0.0), (4578, 0.0), (4579, 0.0), (4580, 0.0), (4581, 0.0), (4582, 0.0), (4583, 0.0), (4584, 0.0364192774124376), (4585, 0.0), (4586, 0.0), (4587, 0.022966380670766017), (4588, 0.0), (4589, 0.03295568435685214), (4590, 0.011203365151379326), (4591, 0.0), (4592, 0.0), (4593, 0.0), (4594, 0.0), (4595, 0.0), (4596, 0.0), (4597, 0.0), (4598, 0.008643088263651639), (4599, 0.013832011015748543), (4600, 0.0), (4601, 0.0), (4602, 0.0), (4603, 0.0), (4604, 0.012436335513570535), (4605, 0.0), (4606, 0.0), (4607, 0.0), (4608, 0.0), (4609, 0.0), (4610, 0.0), (4611, 0.037131476217947594), (4612, 0.0), (4613, 0.0), (4614, 0.0), (4615, 0.0), (4616, 0.0), (4617, 0.0), (4618, 0.0), (4619, 0.0), (4620, 0.0), (4621, 0.032888846887054166), (4622, 0.0), (4623, 0.0), (4624, 0.0), (4625, 0.0), (4626, 0.0), (4627, 0.0), (4628, 0.0), (4629, 0.0), (4630, 0.037760791688512006), (4631, 0.0), (4632, 0.0), (4633, 0.0), (4634, 0.0), (4635, 0.0), (4636, 0.0), (4637, 0.0), (4638, 0.026869509090819057), (4639, 0.04076110089578232), (4640, 0.0), (4641, 0.0), (4642, 0.0), (4643, 0.024630997765290916), (4644, 0.0), (4645, 0.0), (4646, 0.0), (4647, 0.029644165808176796), (4648, 0.0), (4649, 0.0), (4650, 0.08892674180911173), (4651, 0.0), (4652, 0.0), (4653, 0.0), (4654, 0.0), (4655, 0.0), (4656, 0.0), (4657, 0.0), (4658, 0.03048896022931158), (4659, 0.0695158751399596), (4660, 0.0), (4661, 0.0), (4662, 0.014339410247986841), (4663, 0.027169052824500023), (4664, 0.0), (4665, 0.0), (4666, 0.032503447046106554), (4667, 0.0), (4668, 0.0), (4669, 0.0), (4670, 0.0), (4671, 0.0), (4672, 0.0), (4673, 0.0), (4674, 0.0), (4675, 0.01403398038043935), (4676, 0.0), (4677, 0.0), (4678, 0.0), (4679, 0.011213593140447772), (4680, 0.0), (4681, 0.0), (4682, 0.0), (4683, 0.0), (4684, 0.012650634471903935), (4685, 0.0), (4686, 0.0), (4687, 0.0), (4688, 0.07261453153116751), (4689, 0.0), (4690, 0.0), (4691, 0.0), (4692, 0.0), (4693, 0.0), (4694, 0.0), (4695, 0.0), (4696, 0.0), (4697, 0.0), (4698, 0.0), (4699, 0.07331683967847759), (4700, 0.044950775083291185), (4701, 0.0), (4702, 0.0), (4703, 0.0), (4704, 0.03728544760673677), (4705, 0.0373159477608122), (4706, 0.0), (4707, 0.0), (4708, 0.061377792276448295), (4709, 0.0), (4710, 0.0), (4711, 0.013829753137968602), (4712, 0.0), (4713, 0.0), (4714, 0.0), (4715, 0.0), (4716, 0.0), (4717, 0.0), (4718, 0.013370190078309743), (4719, 0.05315352946693827), (4720, 0.0), (4721, 0.0), (4722, 0.0), (4723, 0.0), (4724, 0.0), (4725, 0.01304104604114973), (4726, 0.0), (4727, 0.0), (4728, 0.0), (4729, 0.0), (4730, 0.013868322971360227), (4731, 0.0), (4732, 0.0), (4733, 0.0), (4734, 0.0), (4735, 0.0), (4736, 0.0), (4737, 0.03508420713768794), (4738, 0.0), (4739, 0.021810533159307328), (4740, 0.01521017211166091), (4741, 0.0), (4742, 0.02813990418365833), (4743, 0.0), (4744, 0.0), (4745, 0.0), (4746, 0.0), (4747, 0.0), (4748, 0.0), (4749, 0.0), (4750, 0.0), (4751, 0.0), (4752, 0.009576132162565075), (4753, 0.02737687274087112), (4754, 0.012245925259702839), (4755, 0.0), (4756, 0.0663776405900179), (4757, 0.01234237512199991), (4758, 0.12004659220780528), (4759, 0.0)]\n"
     ]
    }
   ],
   "source": [
    "Recommendation_Score = list(enumerate(Similarity_Score[Index_of_Close_Match_Movie]))\n",
    "print(Recommendation_Score)"
   ]
  },
  {
   "cell_type": "code",
   "execution_count": 106,
   "id": "dccea455",
   "metadata": {},
   "outputs": [
    {
     "data": {
      "text/plain": [
       "4760"
      ]
     },
     "execution_count": 106,
     "metadata": {},
     "output_type": "execute_result"
    }
   ],
   "source": [
    "len(Recommendation_Score)"
   ]
  },
  {
   "cell_type": "markdown",
   "id": "d7e9e1cc",
   "metadata": {},
   "source": [
    "# GET ALL MOVIES SORT BASED ON RECOMMENDATION SCORE WRT FAVORITE MOVIE"
   ]
  },
  {
   "cell_type": "markdown",
   "id": "ac30d602",
   "metadata": {},
   "source": [
    "## SORTING THE MOVIES BASED ON THEIR SIMILARITY SCORE"
   ]
  },
  {
   "cell_type": "code",
   "execution_count": 107,
   "id": "2fb14e25",
   "metadata": {},
   "outputs": [
    {
     "name": "stdout",
     "output_type": "stream",
     "text": [
      "[(2851, 1.0), (1842, 0.21562374610209994), (399, 0.19111285358475189), (1951, 0.1768078715448486), (1771, 0.16936717251834588), (3033, 0.16798592476674742), (2372, 0.1603850576289495), (3820, 0.1514969000246101), (2873, 0.14539100271122166), (3071, 0.13813878202833724), (2188, 0.1379818821776473), (642, 0.13328459787948566), (807, 0.1331104920808349), (2123, 0.1314604592337286), (154, 0.13095140578548123), (2187, 0.13012568866896568), (116, 0.129717892969705), (1646, 0.12285724874868222), (1517, 0.12165049502789094), (4758, 0.12004659220780528), (2464, 0.11781525280811228), (3046, 0.11776651855382973), (4189, 0.11757387588018539), (1490, 0.11438907873955996), (3189, 0.11045111135390187), (1232, 0.10861284630731186), (3027, 0.10853542817419952), (2140, 0.1082768141701905), (3000, 0.10775454281137126), (3684, 0.10746482959611334), (1895, 0.10624161967696451), (4252, 0.10186391058445007), (4122, 0.0991618240972078), (1393, 0.09901818062779569), (2833, 0.09802909852443775), (977, 0.09772103266952402), (2445, 0.09594329736591665), (804, 0.09586214055153006), (1294, 0.09576969937035466), (3322, 0.09537743461062854), (1436, 0.09213199699373688), (3483, 0.09059133424973326), (4650, 0.08892674180911173), (3727, 0.08857158055331485), (2606, 0.08783592079440933), (4207, 0.08756820337684221), (4470, 0.08749850896111977), (657, 0.08730707253182395), (152, 0.08728388635119282), (1227, 0.08724685288505443), (1007, 0.08655799858448002), (3812, 0.08642268431688095), (4025, 0.08621338586904231), (2325, 0.08615825729435116), (4319, 0.08592202166494242), (1079, 0.0854278960334633), (522, 0.08476496977200966), (344, 0.08472904525715952), (4074, 0.08451040075517452), (1245, 0.08436531190716706), (4394, 0.08374201676870083), (2775, 0.08357655212753445), (1290, 0.08320420733691522), (2196, 0.08312413580871142), (1443, 0.08267062882230825), (2074, 0.08228255636537385), (2493, 0.08227110038988131), (2588, 0.08194840801358666), (4434, 0.0812474525997582), (879, 0.08094962325338355), (2965, 0.08033504054613508), (3685, 0.07959037123358724), (752, 0.07954262884218297), (689, 0.07748203494778871), (4318, 0.07738811859968941), (1344, 0.07732573173859869), (1782, 0.07706061214954547), (1433, 0.0768804602560543), (3133, 0.07665405800446465), (2468, 0.07663550234489583), (953, 0.07647466228915734), (2009, 0.07616205189613817), (1122, 0.07488900171554214), (1468, 0.07456999886662136), (2484, 0.07451109931843543), (651, 0.07449227067004054), (2062, 0.0738924906488973), (2720, 0.07371650966744986), (938, 0.07355668258735103), (4699, 0.07331683967847759), (1062, 0.07326224813791737), (1157, 0.0727465316632414), (2659, 0.07261994174691758), (4688, 0.07261453153116751), (4411, 0.07246530185575045), (2958, 0.0724606900429275), (4388, 0.07227764479077478), (461, 0.07152498941637311), (3967, 0.07112363037306817), (1203, 0.07099062399444685), (146, 0.07046915072413222), (1435, 0.0702177476090588), (1086, 0.07015214752357157), (4325, 0.0697950545376888), (4659, 0.0695158751399596), (2699, 0.06932047853862544), (2223, 0.06914427003070092), (1243, 0.06882278179478288), (3083, 0.06864134310157073), (1973, 0.06861502002591524), (1937, 0.06824969972988251), (2929, 0.06793436418363284), (691, 0.0678535071687833), (2889, 0.06722308484522935), (2352, 0.06720144857555982), (788, 0.0671514215578434), (801, 0.06671048614670773), (4756, 0.0663776405900179), (771, 0.06621250095449545), (546, 0.06590265215507606), (661, 0.06588051010528725), (115, 0.06545559578921349), (1964, 0.06525890463586181), (2714, 0.06525268658285135), (1592, 0.0650694963379776), (1657, 0.06505142189648976), (1474, 0.06485421385463946), (2781, 0.0648466944444633), (405, 0.06463651687017588), (1645, 0.06407252271553156), (3563, 0.06391566731438064), (3722, 0.06352908375634109), (3312, 0.06272000808627148), (1017, 0.06221317615385102), (3219, 0.061971466953808146), (758, 0.06184380939615726), (1292, 0.061808351799410355), (3785, 0.06150812275973259), (4708, 0.061377792276448295), (652, 0.06090258593893549), (2022, 0.06087823690435028), (1781, 0.060779444544451985), (4199, 0.06067300170602856), (2756, 0.06050236178448174), (3017, 0.060327145018350514), (791, 0.06032007265178072), (853, 0.06009366355758772), (3593, 0.05958795202032077), (1250, 0.059561849935203116), (2925, 0.05944037355915396), (712, 0.05904933373053578), (2377, 0.05904444706076682), (3790, 0.0587922971193626), (4536, 0.05872114128011577), (19, 0.05870184679328608), (2649, 0.058657217676104906), (1861, 0.05864117087090222), (665, 0.05863815913135503), (639, 0.05851174817583296), (3656, 0.05824352764509521), (1528, 0.05808353838621799), (1270, 0.05782695017278342), (1501, 0.05748911283789044), (4045, 0.057412953516792056), (305, 0.05729242630246658), (4437, 0.05720366213329009), (198, 0.0569159556226493), (3607, 0.056795491442579525), (2736, 0.056770327799738764), (1915, 0.05600542255452535), (699, 0.05592589006651384), (1009, 0.055745226151996216), (761, 0.05571318114155605), (1559, 0.05560634945244439), (14, 0.05536603533501816), (45, 0.055353535919512045), (1101, 0.05504003670351279), (1932, 0.05500172824092073), (2710, 0.05496015078634924), (2480, 0.05475594885644715), (859, 0.05452024193584569), (1136, 0.054413759901138), (2269, 0.054127142985928134), (4097, 0.05412149445222417), (4522, 0.05401019981892169), (4529, 0.05400604958173411), (3990, 0.05379508471283608), (961, 0.0537820481723849), (2539, 0.05356581773222216), (4516, 0.05350982940362981), (1555, 0.053306419380614804), (4719, 0.05315352946693827), (2421, 0.05312200434425656), (4262, 0.053093183421461874), (297, 0.05306778057188848), (3031, 0.05305209854973505), (3546, 0.05277955331918917), (3240, 0.05257102264315498), (4147, 0.05252475674487009), (365, 0.052316290020552506), (3892, 0.05212985168001133), (340, 0.05201702489409054), (1279, 0.05186053978751742), (2150, 0.05185555196326304), (860, 0.05173229754288259), (1621, 0.05166080995147331), (2298, 0.05158306363724428), (301, 0.05094752114472566), (1368, 0.05087342585356868), (2790, 0.05067854940240329), (298, 0.050632370384185055), (302, 0.05051408922924404), (277, 0.05025334113005284), (3111, 0.050165810536237046), (3080, 0.05013814646341086), (4569, 0.049926525953478046), (1249, 0.04991805240737492), (1889, 0.049769184139950386), (78, 0.0497523047985164), (3456, 0.04938027635865502), (4341, 0.049005937037885625), (3060, 0.04892357899647928), (451, 0.04865751692397618), (2019, 0.04839873012943719), (3191, 0.04813425946603704), (3134, 0.047955671395671105), (686, 0.04781471469935432), (3809, 0.047779307174179136), (2431, 0.047779095759741375), (1206, 0.04777094100770271), (1142, 0.047726531110430605), (3132, 0.0475977812056808), (3626, 0.047396022626494304), (1499, 0.04735833663123155), (2371, 0.04726572585469072), (4167, 0.04726323011021206), (2609, 0.04719427578657755), (3587, 0.04713950906758762), (299, 0.04708530835484938), (971, 0.04703655433093294), (300, 0.046953546737402325), (2375, 0.04692271478800182), (4210, 0.046911699870380574), (3539, 0.04680663351064995), (1613, 0.046672910424769384), (2287, 0.04667103887497159), (3545, 0.04665310338765717), (2830, 0.046603992158345604), (2672, 0.04644638273368339), (392, 0.046406198892658145), (2185, 0.04636894314024466), (1198, 0.0462800252932802), (3899, 0.04627621560397787), (4197, 0.046249119280002166), (3751, 0.04622815585260367), (4040, 0.04620955382279169), (4240, 0.046175653907715636), (1867, 0.046139925988091586), (90, 0.04608535233758712), (3063, 0.04583203725669818), (2907, 0.04574127793416535), (2841, 0.04562662805006783), (1476, 0.045562194142143304), (1817, 0.04551991265884526), (3338, 0.04550147390638289), (3877, 0.045244510766752254), (345, 0.04521981635703486), (518, 0.045101192767347156), (2263, 0.045048468178709104), (4700, 0.044950775083291185), (3725, 0.044915636656838884), (430, 0.044910133384703635), (1587, 0.04485318146519637), (1940, 0.044738938689921556), (562, 0.04466859192939199), (1213, 0.044522233286365946), (2397, 0.04442639938838118), (1166, 0.04426035797609388), (2050, 0.04421843626301655), (3117, 0.04418896781087439), (1130, 0.04415360037467049), (3056, 0.043958780211521845), (1489, 0.04393204892462457), (2797, 0.04381635978714164), (876, 0.043799111555808144), (3301, 0.0436989484243033), (2817, 0.043587316871838866), (1928, 0.0435849774054938), (4194, 0.04358220100254953), (2884, 0.043402822964069124), (4089, 0.04338555654768139), (1757, 0.043369559382689674), (2842, 0.04336387468075568), (4329, 0.04331207137015479), (1654, 0.04325745877612945), (2511, 0.04324067354901786), (4541, 0.04323157718619995), (2793, 0.04314544581116333), (4303, 0.04313407163896398), (435, 0.04313213627589381), (3289, 0.04305385736144961), (931, 0.042917529433150726), (52, 0.042817125301722526), (1335, 0.04276219803285994), (95, 0.04268827075602795), (4366, 0.042666675069852146), (656, 0.04265959159151937), (3492, 0.042654010770073), (463, 0.04256094276614374), (2887, 0.042490111098317754), (4503, 0.04235457261569164), (836, 0.042351260265600474), (1362, 0.04234469236099375), (384, 0.042295692351289826), (3533, 0.04225027459856414), (1690, 0.04220617252616264), (3215, 0.04210488162470675), (724, 0.04209644028436598), (1379, 0.042077360347336806), (3333, 0.04205838193305087), (4090, 0.042054552999085844), (2808, 0.04204446434994211), (1787, 0.04190196721793964), (421, 0.041762159710291055), (1960, 0.04171522014077163), (2772, 0.04164380523842348), (1291, 0.04157656223837611), (3094, 0.04140412670615615), (1175, 0.04127669710600678), (1256, 0.04125217187115865), (105, 0.041245660514190825), (2777, 0.0411905156994006), (137, 0.04115512425125828), (3503, 0.04092532170982942), (3076, 0.04087764852622993), (1682, 0.040832901945674765), (4639, 0.04076110089578232), (1513, 0.04056519017518304), (984, 0.04054093059340063), (1487, 0.040531100197261374), (3167, 0.04052724943536937), (545, 0.04050745570393448), (206, 0.04047131244313355), (894, 0.04046795836375247), (1521, 0.04041419482951127), (1803, 0.04041142184130057), (2494, 0.04037476599357704), (4286, 0.04030224458844405), (2660, 0.04022101918466831), (2937, 0.04017346449725723), (1255, 0.04002502382394586), (2290, 0.03999836924629382), (1148, 0.039877272928473026), (4374, 0.039759713430678675), (1698, 0.03970410693997735), (3149, 0.03956828617035122), (179, 0.03939566528170285), (1138, 0.03938257708727507), (93, 0.03935804186655323), (2813, 0.039313324352139946), (1634, 0.03928465803724456), (2157, 0.039270798784218026), (2796, 0.039103996745289894), (2357, 0.03901975041924079), (1353, 0.03901085373738038), (2952, 0.03895618404176905), (2349, 0.03894563596120295), (1950, 0.03893427364204011), (2688, 0.03888896275190443), (94, 0.03886127857479286), (4353, 0.03886110554651435), (4162, 0.03881922830182044), (842, 0.03879518298951964), (2523, 0.03877334542947698), (3557, 0.038717779069169234), (2667, 0.03869592550517449), (1025, 0.03868064986038278), (2923, 0.03865687708114976), (2473, 0.03864433388498943), (2554, 0.0385152362460008), (1207, 0.03851009438726191), (3602, 0.03850882651748585), (4007, 0.038464155923538315), (2645, 0.03834508895376221), (3680, 0.038337247871477555), (2378, 0.038326264697147214), (3744, 0.03813826650813147), (1581, 0.03809901258003094), (2089, 0.038087253370614686), (569, 0.03802306531476475), (3152, 0.037853791224190296), (2070, 0.03782259946199237), (3477, 0.03781345595254962), (4630, 0.037760791688512006), (3771, 0.0377585307682433), (4287, 0.03763564404131061), (2207, 0.03758118963220626), (2831, 0.03754786130596993), (2, 0.03745130849553174), (1969, 0.03743445432190313), (1312, 0.03733553171517396), (4705, 0.0373159477608122), (2617, 0.03730904089715011), (4704, 0.03728544760673677), (1486, 0.03728332113930905), (1318, 0.03727200778047871), (827, 0.03726435824533809), (3269, 0.03726430526196704), (2778, 0.03719444924734419), (4611, 0.037131476217947594), (3163, 0.037069614674235384), (1611, 0.03706227923272332), (981, 0.03699885156196181), (939, 0.03699662647557472), (1571, 0.036992510239472226), (1673, 0.036980689165358), (4360, 0.036975532916528636), (2457, 0.0369153079848716), (64, 0.03678358639802387), (3996, 0.036613137201419226), (3888, 0.03660523297147315), (2577, 0.03652760467608794), (1074, 0.03652061677222499), (2460, 0.036454854087004954), (4584, 0.0364192774124376), (3305, 0.03637253880593205), (498, 0.036353675314904674), (792, 0.036301386454083005), (1524, 0.036176956851778345), (1201, 0.036153566006287864), (3190, 0.03608805216688846), (1890, 0.03607974743225324), (2673, 0.03606679657633221), (1745, 0.03600268591627844), (785, 0.03593692812315235), (820, 0.03592066547309974), (2025, 0.03581687971102055), (2274, 0.03581207176295072), (1794, 0.03580682676775899), (4111, 0.03572583484915858), (1905, 0.03568474415695793), (2342, 0.0355397663776655), (1516, 0.03548724583726513), (3396, 0.03548217237327642), (34, 0.03542113998491071), (4421, 0.035347400326837794), (1422, 0.035294186215876794), (1710, 0.035272449767516666), (2151, 0.03525034196749679), (3715, 0.035227696096883455), (1001, 0.035160194059879885), (424, 0.03515440748278844), (4737, 0.03508420713768794), (2459, 0.03506777571731552), (1441, 0.03505490513902312), (273, 0.03493570793388082), (4412, 0.0349043094734473), (2433, 0.034845989878692175), (748, 0.034833871067323115), (1696, 0.034828558361803104), (1261, 0.03475872620216335), (772, 0.03472752148802928), (2903, 0.034714771827856275), (1089, 0.0347141588440659), (2909, 0.034656767731562975), (1952, 0.0346371147906517), (4289, 0.034636915667547716), (3334, 0.03462177751418521), (3184, 0.03461117735465502), (2574, 0.034585335437618055), (3007, 0.034527390646435306), (1273, 0.03450712697094368), (2463, 0.0344673866271052), (2090, 0.03446147952154762), (1454, 0.034408972280257355), (588, 0.034406902776628744), (2479, 0.03435245095030121), (75, 0.034345657411046296), (1306, 0.034318476564573645), (678, 0.03425425619313578), (4060, 0.03424706294817143), (3916, 0.03413171887213859), (1103, 0.03406733481321659), (680, 0.03396740967076655), (3124, 0.03395420235406292), (4557, 0.033926584744678044), (3662, 0.03384672126059933), (4538, 0.03375023290925909), (3574, 0.033738064046521646), (848, 0.03373138334689164), (3953, 0.033721317589391515), (3700, 0.03363352341213289), (2869, 0.03353561583228021), (749, 0.033513898478926316), (3582, 0.03348800307113597), (3012, 0.0334655592398588), (2959, 0.033458961077782685), (3570, 0.03344653388403708), (3434, 0.03343930493231225), (520, 0.0333942725668968), (3195, 0.03332761544366874), (3594, 0.033315221427899944), (70, 0.03325319088326837), (246, 0.033249255509909044), (4277, 0.03324860897836446), (126, 0.03322923819723702), (2374, 0.033185138687542116), (4371, 0.033108526263050254), (2415, 0.03307906260884976), (539, 0.033033048112611374), (3507, 0.033018827791419576), (4363, 0.033005670962546606), (4589, 0.03295568435685214), (3403, 0.032943481331882), (610, 0.032933993070362926), (2770, 0.0329002650027717), (4621, 0.032888846887054166), (2940, 0.03287713055470231), (1479, 0.032767352918589045), (4203, 0.032762659108262634), (3857, 0.032758033730058984), (1869, 0.032733880136033525), (3073, 0.03273203882529403), (2779, 0.032684042825357855), (4345, 0.03267592250667022), (2635, 0.03267527924326546), (3531, 0.032628519093902894), (408, 0.03262219102117075), (2740, 0.03258435137029364), (3666, 0.03258008609546591), (3270, 0.032571582880213695), (4666, 0.032503447046106554), (3416, 0.03248565883809525), (3028, 0.03244392025948098), (4216, 0.03237405017678644), (4078, 0.03236428539976319), (1829, 0.032349188706360006), (1124, 0.03234192501899364), (1390, 0.03232606373476318), (2681, 0.03230445055700101), (1272, 0.03228119382305447), (742, 0.03227360803806472), (660, 0.03225658321622611), (3392, 0.03219527168323074), (3182, 0.032172520871927075), (2739, 0.03217226509831552), (3524, 0.0321383521172324), (3438, 0.032092013931610756), (1500, 0.0320910459564572), (2619, 0.03201764455416292), (3426, 0.032008185243075075), (183, 0.03200417782144007), (1388, 0.03200365069716032), (4344, 0.03199404632246828), (567, 0.03197252314727167), (1107, 0.03186105259593897), (4416, 0.0318523774570081), (386, 0.03181320501232951), (1510, 0.03180448148085009), (1833, 0.03179934992594596), (380, 0.0317466873343467), (2954, 0.0317419647363042), (3982, 0.031698197429813404), (3864, 0.031698095505467795), (3670, 0.03167343291683805), (1605, 0.03165462401525728), (2218, 0.03151423457930376), (2427, 0.03147434350790308), (3127, 0.03139935229249875), (1759, 0.03137443779662458), (2824, 0.0313704722561624), (905, 0.03133111455664605), (1618, 0.03131908967689246), (4431, 0.03131752499653424), (4027, 0.03130641174632905), (2385, 0.03127842618781849), (3273, 0.031239395538776017), (1002, 0.031193803268824583), (2447, 0.03119319494929917), (3304, 0.03114370700401683), (3142, 0.03113193723008327), (2761, 0.03111231004027119), (3108, 0.031085495140740594), (687, 0.03106910622272959), (3225, 0.031029355226926382), (3611, 0.03102781452271991), (1485, 0.030973571587380073), (2924, 0.03096156933242811), (4317, 0.030959310129893933), (1285, 0.03094605544624055), (3797, 0.030915550830533555), (2034, 0.030907565474062416), (2162, 0.03089081495268594), (1542, 0.03084427243795959), (249, 0.03080404480853362), (1752, 0.030794618613178604), (1004, 0.03076881593959996), (621, 0.030752930546118218), (1419, 0.030688264190175066), (741, 0.03064558743631821), (4176, 0.030636992736473447), (443, 0.030626141533579797), (2086, 0.030562993842678667), (237, 0.030536787516936937), (1297, 0.03052992750325672), (1557, 0.030529829737148344), (4658, 0.03048896022931158), (872, 0.030461767275780677), (964, 0.03040683351612796), (1795, 0.030399166194933408), (192, 0.030395112650014565), (2587, 0.030389408521052055), (2094, 0.03036713646315207), (747, 0.030356719289821088), (1247, 0.030355557082668013), (3804, 0.030329947351986967), (3747, 0.030304940347312525), (2270, 0.030300573076007684), (2621, 0.030294146991934386), (3498, 0.03027320932846142), (3006, 0.03025506363135391), (1173, 0.03022665290946157), (1692, 0.03022285754403393), (1579, 0.030215885173158895), (3705, 0.030211014600816027), (1321, 0.03015962362545443), (3890, 0.030146160781990058), (173, 0.030074392924570377), (2161, 0.030065846857051572), (1230, 0.030052315989025382), (65, 0.029993015692571318), (3904, 0.029938836673432775), (2281, 0.029911808079613435), (3461, 0.02988474693462932), (524, 0.029883203282625545), (1494, 0.029862710209511454), (932, 0.029849859687892333), (509, 0.02984178517510545), (4558, 0.02983904127517915), (2358, 0.029822109330286225), (2646, 0.029782377569191), (1481, 0.02977784013952373), (2552, 0.029767802833445243), (514, 0.029684623502634924), (980, 0.029677886871033413), (3828, 0.02967705257466941), (985, 0.029654049658424966), (1110, 0.029647694739188615), (4647, 0.029644165808176796), (1893, 0.029642705511285835), (1765, 0.029634730479970582), (1578, 0.02949824842921588), (3893, 0.02944644709172401), (3077, 0.029411989871842584), (989, 0.02935395509782335), (1789, 0.029348143497629348), (2446, 0.029339529951618405), (2572, 0.029311930796983066), (2592, 0.029273652152228005), (1015, 0.029251738212404673), (3362, 0.029243827737033944), (1935, 0.02919971566238918), (4454, 0.029196462748741554), (2945, 0.02913283630332552), (1537, 0.029123183650860432), (3510, 0.029119903079656888), (3206, 0.02910402163826189), (3588, 0.02907940310052187), (1217, 0.02904761859670298), (3736, 0.029034021976475876), (2044, 0.029014697343663846), (217, 0.028993322313542392), (2393, 0.028991596943809803), (3610, 0.028925965561662735), (2962, 0.028923968312447583), (80, 0.028885036796815686), (3542, 0.028884022486780417), (2642, 0.028870179342913135), (3886, 0.028866584013274025), (3422, 0.028824165067321727), (1594, 0.02882228574582936), (528, 0.028818090509768773), (2204, 0.02881064912258763), (2097, 0.028810362005545702), (974, 0.028784179058600933), (1407, 0.028771203276857477), (4383, 0.02875271352514947), (2224, 0.028741458572164244), (3418, 0.02873828025628213), (3387, 0.028730930873711074), (1823, 0.02872166323040402), (2663, 0.028698195939732066), (178, 0.028688940827254192), (756, 0.028652900376618065), (2679, 0.028652157617197638), (1958, 0.028643990642682), (796, 0.02863518921322572), (1073, 0.02862851313248061), (746, 0.028593006030663108), (2266, 0.028577997741533852), (4358, 0.028546249477720106), (4545, 0.02853775464804904), (2853, 0.02853297642436959), (1614, 0.028431956154941873), (2085, 0.028410350946442616), (965, 0.028407379098279038), (795, 0.02839759250170899), (1339, 0.028345120847909543), (1575, 0.028326501388464723), (781, 0.02829963085939162), (565, 0.02826158081002151), (1545, 0.0282332923456365), (3356, 0.028202203943819157), (1740, 0.028162980197948183), (4742, 0.02813990418365833), (2190, 0.02807094468683095), (3769, 0.028024910533935347), (2570, 0.028024387633395334), (2519, 0.027978088214914355), (723, 0.027910650806701447), (1080, 0.027894651487793142), (3458, 0.02780539424668389), (393, 0.02780179975412109), (236, 0.02778175315934741), (378, 0.027765807919317077), (2650, 0.027731384873872823), (1082, 0.027702657884585542), (553, 0.027682567895886516), (3575, 0.027667587353328978), (1351, 0.027658621094766838), (1550, 0.0276337642410675), (494, 0.02757652139540347), (4525, 0.027525521390142513), (4173, 0.027514930579183944), (1626, 0.027492139851205803), (1238, 0.027481483588877895), (1998, 0.027437535296459606), (4218, 0.02738576053260689), (2461, 0.02737877547850062), (4753, 0.02737687274087112), (4086, 0.027369214671943212), (374, 0.027344627839437717), (4445, 0.02732915541114444), (2774, 0.02732360322066499), (3067, 0.027271095964508253), (540, 0.027252649264956564), (2697, 0.027214869352962964), (3098, 0.02720363253259906), (4663, 0.027169052824500023), (935, 0.027168816639590018), (4269, 0.027152676295530226), (202, 0.027118227122775458), (3568, 0.02711518629013565), (30, 0.027112012446756237), (155, 0.02709885570410946), (2073, 0.027083121934400954), (3969, 0.027068290056912844), (2825, 0.027062489826092048), (477, 0.027051402750572502), (3807, 0.02704839040956733), (2988, 0.02702674073048409), (1678, 0.02697202139307205), (4309, 0.026931676499561946), (2387, 0.02693055244597812), (1706, 0.026916881039735892), (3738, 0.026898715249918565), (18, 0.02689241698330939), (4268, 0.026876216007846947), (4638, 0.026869509090819057), (82, 0.026852295498894813), (1347, 0.026811323616152596), (1568, 0.02680116286981008), (4304, 0.026777935465976586), (3994, 0.02670613015217541), (3208, 0.02670128749791207), (622, 0.026689829146757618), (2111, 0.026638956771982747), (3660, 0.026631299227796463), (1084, 0.02662334495378244), (4427, 0.026607657089163798), (1744, 0.02660306982928174), (1308, 0.026589101072649265), (410, 0.026579519579256406), (113, 0.0265706494204782), (2195, 0.026541701235885295), (2014, 0.02651545172098284), (4101, 0.02650213294827565), (2615, 0.026474916813129155), (3474, 0.02645494638922992), (2788, 0.026429709279059747), (920, 0.026385218821765748), (1211, 0.02637622040219229), (3110, 0.026362300995920004), (1777, 0.02634443205461217), (213, 0.02633145777193682), (4359, 0.026312466404928837), (67, 0.02630997685986576), (2327, 0.02630496270491462), (1464, 0.026304236117728676), (4488, 0.026253580868865662), (1691, 0.026239625922888817), (877, 0.02620573948459683), (633, 0.02613332229461019), (1610, 0.026114675074155574), (4438, 0.02610440500107218), (3674, 0.02609446666729216), (1132, 0.026029591889908457), (2840, 0.0258926940974483), (3023, 0.02588729627291524), (1463, 0.025882076460727287), (1873, 0.02586319101544317), (1913, 0.025850739947883623), (3788, 0.02583492857302463), (2481, 0.0258141291582344), (3121, 0.025789070063729692), (662, 0.02578862705675278), (69, 0.025753785583557703), (2677, 0.025745203446843064), (156, 0.025730448948594796), (3155, 0.02569789446478355), (2742, 0.025679106740906846), (2719, 0.0256645408796269), (3646, 0.025620519521941977), (541, 0.02561773790903927), (3912, 0.02560419849293025), (1354, 0.02554163360756491), (1814, 0.025529962592648288), (611, 0.025524556315027536), (2718, 0.025515976669328283), (3386, 0.025498940165392787), (2578, 0.025498247152782372), (2636, 0.02544661022775137), (921, 0.02543399028386418), (2100, 0.025422097525076917), (3241, 0.025368638354408744), (2876, 0.025286852706125428), (2303, 0.02528160251577861), (3021, 0.02526242355385786), (3965, 0.02520703637838118), (713, 0.025129170016040245), (2612, 0.02512678486968347), (2821, 0.025082115147829268), (2033, 0.025075938329053683), (816, 0.02506060323015984), (3311, 0.025028410631473014), (4515, 0.025001754234243754), (1152, 0.02495046280246419), (3683, 0.024859055005832905), (2897, 0.02484206113602861), (1098, 0.024738964043953385), (1793, 0.024716685728825117), (4643, 0.024630997765290916), (597, 0.024596343326843385), (658, 0.024492745721152898), (1767, 0.02447615255564241), (3989, 0.024468200295686363), (1342, 0.024433503352779738), (1878, 0.02442995025522209), (1979, 0.024379482152774135), (3813, 0.024337430754877796), (1783, 0.024332190654464445), (2512, 0.024307995263771167), (1695, 0.024302460622039414), (2899, 0.024296907344994102), (403, 0.02423989203350251), (1584, 0.02421871250303), (4497, 0.024190917056665383), (1523, 0.024089556736488472), (757, 0.02398118748638702), (4290, 0.02389542537106398), (3370, 0.023826035293574212), (2762, 0.02380498644756907), (3712, 0.023783391393232295), (3868, 0.02377886618618524), (4399, 0.023707688491521738), (3272, 0.0236924840778649), (625, 0.023668745366379137), (1300, 0.02360106201910423), (269, 0.023584923586168486), (3756, 0.02354024349719649), (3753, 0.023530629671435523), (559, 0.023520787029116964), (304, 0.02349339395689633), (558, 0.023335263401093872), (1428, 0.02332944922674552), (4169, 0.023321628912807594), (4164, 0.023304860603614027), (266, 0.02327817540892056), (2711, 0.023267856185739597), (3303, 0.02320164343501702), (475, 0.0231549956534522), (2531, 0.02313689199812428), (3090, 0.02301930107988202), (2322, 0.0229708195703434), (4587, 0.022966380670766017), (1648, 0.02283837960128109), (3214, 0.022798088805048796), (3205, 0.0227683924728955), (414, 0.022709904653464643), (2931, 0.022707380302999763), (3509, 0.02270258823971244), (1850, 0.02262325901125334), (357, 0.022469855568002083), (2135, 0.022465279806932748), (2449, 0.02245936444047101), (1780, 0.022423444314613385), (3553, 0.022387046899802133), (912, 0.022384213071716758), (2401, 0.02217589055600723), (495, 0.02213879076788991), (2981, 0.022092675940301162), (2622, 0.021962346992285234), (4498, 0.021959270218694062), (4739, 0.021810533159307328), (149, 0.02175406836439339), (2568, 0.021708491086730196), (2039, 0.02157188681849762), (2359, 0.02148486463464799), (2509, 0.021484394661065328), (2035, 0.02138727913641908), (563, 0.021374999007609054), (2603, 0.02126583024794721), (4513, 0.021199569724279967), (3213, 0.02107076054045492), (4015, 0.021016934100633166), (195, 0.021016632045168494), (3344, 0.020902061357019046), (2789, 0.020886034780151688), (196, 0.020809871031127813), (1677, 0.02073021300248154), (3752, 0.020677854556008474), (58, 0.020673625093060838), (1981, 0.02064586825728524), (1546, 0.020568912490347407), (1925, 0.020562927105419217), (1221, 0.020101579713290362), (709, 0.019850022270697848), (2877, 0.019704928639208245), (4519, 0.019694091498008888), (2908, 0.019483499976871765), (453, 0.01932883935609068), (738, 0.01920458906513446), (108, 0.01847331272143324), (824, 0.017963513689675293), (1509, 0.01795453491151083), (3144, 0.017843094064825343), (2365, 0.01775441470850929), (3199, 0.017595480646670044), (2760, 0.0175856428240005), (2998, 0.017571367648836766), (391, 0.017494698247716208), (831, 0.017366446332806502), (1711, 0.017187079747252997), (2176, 0.016982400289472944), (2199, 0.016926938180710522), (2927, 0.016912608274798773), (2379, 0.016884554270802127), (576, 0.016747842869455916), (2443, 0.01674235321072538), (4031, 0.016677175888042677), (4346, 0.016658136358412307), (3554, 0.0166287693845067), (2351, 0.01634414495477773), (4021, 0.016325828830202452), (3796, 0.01620237848603469), (2390, 0.016189212977333094), (1014, 0.016158496603972807), (3671, 0.01615713871755043), (1999, 0.01595860890326467), (1182, 0.015890678990741463), (1495, 0.015830952556851113), (3847, 0.015791183457719765), (2799, 0.01573649809060703), (2521, 0.015674082702093937), (363, 0.015640168122245734), (3835, 0.015632918619812506), (2530, 0.01559724695157078), (1731, 0.01556521237620876), (3204, 0.01555495288779096), (3763, 0.015550271954585665), (3620, 0.015546022384584503), (956, 0.015540578197968526), (1615, 0.015487732980085215), (11, 0.01547094898643058), (3581, 0.015466641731852002), (4500, 0.015443032594075696), (2329, 0.015433926699363505), (4140, 0.015417426973689747), (120, 0.015407587362122053), (2806, 0.015400434060452562), (508, 0.015386081232202782), (2462, 0.015358882571384888), (1766, 0.015351392654792581), (1389, 0.015347385438418817), (1810, 0.015312101291049476), (3858, 0.015291225483236701), (4187, 0.015286712778772379), (1333, 0.0152790178397521), (4396, 0.01525338693836286), (3058, 0.015239657397423308), (1955, 0.015230642142235795), (3735, 0.015220685073630277), (4740, 0.01521017211166091), (730, 0.01519428130628503), (2171, 0.015179196982956002), (2579, 0.015144820245441904), (2643, 0.01514411870222129), (3628, 0.015135789419531918), (2260, 0.015116156457682293), (312, 0.015106799467468467), (1298, 0.015087991980093583), (401, 0.015083301896037184), (3943, 0.015071458839024112), (2448, 0.015061982569872378), (362, 0.015043140570245053), (3078, 0.015040899507850532), (2901, 0.015038945146332625), (2257, 0.015031194120564582), (2049, 0.01502901170018554), (1841, 0.015027106417023105), (2704, 0.01502619318746429), (4478, 0.015024476135000535), (3650, 0.015015369651036723), (794, 0.014978027373116697), (1165, 0.01497034303907201), (4010, 0.014967255197341378), (3444, 0.01496181470551199), (1011, 0.014916849177503988), (2419, 0.014904015141559111), (2275, 0.014900037983226989), (3473, 0.014867972333848106), (4351, 0.01486480842550507), (1640, 0.01486101737182415), (3613, 0.014842345943921566), (1844, 0.014837762738771638), (1460, 0.014809724504562442), (3816, 0.014806630959564067), (413, 0.014802695030540276), (2423, 0.014765856562480134), (2656, 0.014750885997663039), (1336, 0.014745534001627758), (3695, 0.014738544847482134), (1466, 0.014728783688834209), (2267, 0.014711887734979655), (3472, 0.014682388383328042), (1602, 0.014681843934013512), (2082, 0.01465323905949675), (2466, 0.014649919083285787), (3457, 0.014638137752797898), (3505, 0.014610710256638886), (3287, 0.014607013705161266), (3112, 0.014606664040859193), (688, 0.014599773301458821), (4338, 0.014595130230295909), (245, 0.014580157856163727), (1697, 0.014576564623414895), (2921, 0.014567168701153913), (361, 0.014551445484005391), (1085, 0.014544346374648878), (385, 0.014539631290436651), (4242, 0.014534480089867154), (2517, 0.014526240295374407), (753, 0.01450940578504487), (3682, 0.01450648748466212), (4526, 0.014495921703357279), (1968, 0.014494848441106989), (1600, 0.014481745469767012), (2616, 0.014474797915452652), (117, 0.014470644838909563), (1119, 0.014466838646194965), (2516, 0.014460259495139594), (1837, 0.014460210574804858), (153, 0.01444590084795406), (346, 0.014445465852875873), (4146, 0.014392894112604257), (2389, 0.014373532204304458), (2283, 0.01435566378415732), (3081, 0.014340764641255657), (4662, 0.014339410247986841), (1361, 0.014309121864535106), (3728, 0.014306899308648143), (4407, 0.014302546095224598), (3631, 0.014301562019374063), (1155, 0.014301515627692747), (2487, 0.014300387660511128), (4483, 0.014299600099098541), (3181, 0.01427980998327792), (1373, 0.014279685151227593), (1607, 0.014273488970492796), (3846, 0.014262002243432544), (3187, 0.014261191965550186), (2153, 0.014256656504394179), (1140, 0.014249842893241285), (2079, 0.014239120279349213), (1461, 0.014235570652233479), (679, 0.014233537646125408), (1726, 0.014232856310320388), (2261, 0.01423143972956765), (4160, 0.014209694703877278), (4259, 0.014209176387204186), (1328, 0.014208775813492386), (4559, 0.014196174643170153), (700, 0.014183954606194633), (3089, 0.01418068652498251), (1013, 0.014179745802626159), (4258, 0.014176393863126824), (1195, 0.014173186363839105), (1067, 0.014165637921785601), (2430, 0.014148180508006763), (809, 0.01414695302614289), (1737, 0.014142720319382253), (3616, 0.01414057175856288), (2046, 0.014131993176371913), (3632, 0.014128635225624377), (987, 0.014120984197188597), (4136, 0.014119570562604884), (4330, 0.01411219249012799), (4034, 0.014110331394109993), (3066, 0.01410781142558264), (2708, 0.014086093182779329), (2729, 0.014079349535952678), (4195, 0.01407370628534224), (4314, 0.014065359290149527), (1804, 0.014058684713723867), (1307, 0.01404887405116361), (4675, 0.01403398038043935), (4455, 0.014023795520009796), (4271, 0.014004278666234259), (2095, 0.01399872420711538), (1520, 0.013983173322147808), (4570, 0.013982323724491826), (4099, 0.013976108605947894), (896, 0.013974526375492112), (1246, 0.01397438964585811), (1552, 0.013969171490732362), (2856, 0.013957016558302615), (3482, 0.013954140365198119), (4190, 0.013940092448258902), (4460, 0.013939378076230465), (1525, 0.013926688538747083), (1911, 0.013922194569650655), (1116, 0.013917137325355036), (1225, 0.013900760988404114), (909, 0.013893585437680893), (2381, 0.013892010615731861), (2857, 0.013891582788535757), (2259, 0.01387832014887559), (4730, 0.013868322971360227), (4037, 0.013861117214878786), (54, 0.013858417776624762), (423, 0.013852932226458853), (1758, 0.01385008912742073), (219, 0.013848012661049312), (4599, 0.013832011015748543), (4711, 0.013829753137968602), (1683, 0.013829605372368874), (3871, 0.01382922499717063), (2112, 0.013826408942924657), (2782, 0.013817685306901398), (1522, 0.013816036147972553), (1196, 0.013812884752009261), (4168, 0.013806711303564818), (2408, 0.013789636622494642), (3822, 0.013769923949134049), (2812, 0.01376253069682608), (1402, 0.013754030951047058), (1235, 0.013748464205844631), (1233, 0.013745370530326149), (3876, 0.013744604078147597), (3397, 0.013734230130808276), (4347, 0.01373159236628026), (270, 0.01372917487604409), (1769, 0.013727844109145796), (2030, 0.01372664485584764), (3464, 0.013710803822035334), (2435, 0.0137058231104843), (4574, 0.013703039094694907), (1961, 0.013700765717624174), (204, 0.013689198964402374), (1358, 0.01368645259381498), (188, 0.013663006669489587), (3817, 0.01365654872563307), (3980, 0.01365459524557773), (1425, 0.013633431891073102), (865, 0.013599817649563821), (2532, 0.013595921447852674), (3236, 0.013594349371778022), (3209, 0.01357981447729848), (3643, 0.013579341060934233), (1034, 0.013568521077629122), (1720, 0.013566635607664522), (846, 0.013542038067555932), (2147, 0.013534564873393629), (3746, 0.0135325228585394), (1382, 0.013531495156236249), (1704, 0.013506738802511785), (4135, 0.01350668573413999), (404, 0.013504432380483385), (2316, 0.013492919829467983), (1310, 0.013490214665695985), (66, 0.01347996145227838), (4492, 0.01347480181587675), (4196, 0.01346968531786225), (3153, 0.01346898166946881), (3562, 0.01346397728593376), (2414, 0.013457186596891999), (1664, 0.013454605369163767), (193, 0.013451329979520912), (3388, 0.013449505390306864), (1598, 0.013443965079423418), (4457, 0.013443447835186318), (2337, 0.013439290409158934), (259, 0.013437712109096547), (3485, 0.013436304465762054), (1044, 0.013436044510304637), (802, 0.013428537196692876), (3256, 0.013423589942132965), (409, 0.013414571509551523), (2143, 0.013406320412546597), (3673, 0.01340478706867436), (2440, 0.013401424617711117), (2041, 0.013396684708638218), (4112, 0.013393823452087193), (2334, 0.013393051673746955), (3212, 0.013385504108384813), (1477, 0.013385414035216205), (485, 0.013374086515328164), (4718, 0.013370190078309743), (3792, 0.013369347434228724), (3221, 0.013368753077107458), (2451, 0.013347871851498851), (3923, 0.013347457463011792), (2798, 0.013345699094320535), (1304, 0.013339401935575153), (3476, 0.013329955989893607), (4118, 0.01331324284338913), (3259, 0.013302451176429501), (3286, 0.013298179080481233), (3247, 0.01329479743077402), (437, 0.013287677939078679), (3366, 0.013275819868050825), (1943, 0.013265438488022743), (814, 0.013264710046313563), (4542, 0.013263309317068634), (472, 0.013263109733729414), (1561, 0.01325491314095251), (2963, 0.013253484582157162), (1918, 0.013251072865634105), (2752, 0.013247041045893691), (2405, 0.013244740848614529), (3774, 0.013239463116488735), (1505, 0.013233327354230372), (720, 0.013229864925950983), (4473, 0.013217676913173864), (2810, 0.013215969044660499), (2668, 0.013201743595106778), (2201, 0.013177025652280204), (4340, 0.013172503257646694), (2488, 0.013167172788354609), (3966, 0.01316187247598907), (3350, 0.013160582286526059), (822, 0.013151828949925073), (459, 0.01315132841408803), (4070, 0.013149628763001747), (1118, 0.013124032738662882), (4482, 0.013118361198352262), (2916, 0.013118299060248181), (2982, 0.013113989130252869), (4380, 0.013112400319283462), (2406, 0.013104035562044555), (1541, 0.013103314551332594), (3564, 0.013088867618000695), (42, 0.013085534878028004), (3300, 0.013085076987862737), (1663, 0.01307772894547644), (3819, 0.013072828430421197), (456, 0.013070468436983599), (2210, 0.013058333755339479), (2315, 0.013050446109153159), (4490, 0.013045207948965638), (2584, 0.01304229275091301), (4725, 0.01304104604114973), (131, 0.013033080538894523), (439, 0.01302150628693565), (1223, 0.013017147999591142), (3805, 0.013004682987655761), (205, 0.01300324937638022), (185, 0.01300022273588048), (2330, 0.012968074843588017), (325, 0.012963684328128092), (2273, 0.012939217669989888), (3516, 0.012931721399201275), (1518, 0.012929283121856787), (517, 0.012919240824796932), (1839, 0.012909855828685524), (1930, 0.012897271872849399), (703, 0.01289405368722054), (1411, 0.012892665652873137), (4501, 0.012882336640653073), (1114, 0.01287495440395582), (3138, 0.012870358010084751), (2332, 0.012870255639101396), (447, 0.012870212023069599), (2396, 0.012853640549571898), (3780, 0.012852049079155728), (1604, 0.012851464551390883), (4333, 0.012850914368767579), (53, 0.01284906192446495), (2485, 0.01284697751489616), (1768, 0.01283638646866068), (2980, 0.01282065493721543), (1229, 0.01280974566033914), (2117, 0.01280897421860632), (2335, 0.012805280611454133), (2717, 0.01280498697093733), (4310, 0.012796285425261431), (3141, 0.012792089823202265), (3481, 0.012786727026089939), (845, 0.012776935959018899), (918, 0.012769561565351034), (1191, 0.01276402042823487), (1589, 0.01276283152049092), (2245, 0.01276263441377931), (4405, 0.0127585782413814), (3948, 0.01275689786716422), (773, 0.012750602712917778), (3506, 0.012742294600649176), (1421, 0.012737076122147308), (743, 0.012732184820264114), (3234, 0.012727155519963068), (4447, 0.01271967427415296), (2183, 0.012711562274847571), (9, 0.012695590389206653), (3116, 0.012691601094648996), (4186, 0.012681646486199178), (2590, 0.012681163079885318), (908, 0.012679078171360984), (3849, 0.012673496737609872), (4137, 0.012671211588828836), (726, 0.012664522199795516), (2054, 0.012661863930698512), (4128, 0.012658180775655939), (4684, 0.012650634471903935), (1606, 0.01264640734057483), (215, 0.012643582637809238), (2367, 0.01263465025647331), (2450, 0.012632001413741673), (3865, 0.012629604195001465), (549, 0.012623082356370434), (2130, 0.012622684384582918), (3991, 0.012622194901568212), (2604, 0.012620214483930253), (3497, 0.012606086347220777), (322, 0.01260395622653621), (49, 0.012595232386805759), (2216, 0.012577041240244644), (1529, 0.012575219070445594), (1431, 0.012567197645679155), (2208, 0.012558582064726497), (315, 0.012557857486319424), (612, 0.012554005380307003), (3260, 0.01254533983963509), (1534, 0.012540238391241031), (2582, 0.01253900079638916), (4402, 0.012531754450424398), (4011, 0.012528515558379546), (2938, 0.012527949839737526), (5, 0.012514249696624269), (1700, 0.012485094048733722), (2637, 0.012481846179457296), (3826, 0.012469862459269433), (637, 0.012469475699962908), (321, 0.012468728048997407), (1482, 0.012468685125470266), (1076, 0.012463142443723894), (3633, 0.012461564389526494), (3086, 0.012457109654499183), (1026, 0.012453634496028512), (1830, 0.012449742842336296), (4155, 0.012441040828054282), (1394, 0.012440846868604053), (4604, 0.012436335513570535), (797, 0.012431307912726171), (1784, 0.012429790916407415), (2410, 0.012426458523875125), (466, 0.012423397316391874), (3237, 0.012415756543844062), (2400, 0.012394882514682), (1601, 0.01238860055659138), (335, 0.012384526686709033), (3096, 0.01238178781584397), (1327, 0.012380888186203996), (4274, 0.012379132973641795), (4073, 0.012363926493470736), (4364, 0.012355428374981613), (1008, 0.012342892679468562), (4757, 0.01234237512199991), (2301, 0.012336157898091758), (3001, 0.012331544041380071), (1714, 0.01232754823942553), (745, 0.012327291015188117), (2055, 0.012325928456968241), (1755, 0.012324500114783126), (978, 0.012311265899950727), (3596, 0.01230364715069745), (806, 0.012291155172148748), (1035, 0.01228392714911835), (1875, 0.012268978030811433), (2131, 0.012268352318316703), (1978, 0.012266536972941887), (4033, 0.012263584677240213), (360, 0.012258239442416656), (2239, 0.012254507109404619), (2099, 0.01225332437173331), (4754, 0.012245925259702839), (4152, 0.01223564256010661), (3330, 0.01223366206753549), (2198, 0.01223201393851542), (383, 0.012227302778495397), (2549, 0.012207764466445524), (91, 0.012206971956368644), (2129, 0.012205204721302631), (1649, 0.012199478697576364), (578, 0.012185914595841918), (1472, 0.012181691326217345), (3246, 0.012160015602222829), (1800, 0.012146727877108193), (1846, 0.012143689673810423), (2972, 0.012141392667558877), (2763, 0.012140238315958915), (2728, 0.0121337309730811), (1684, 0.012131816985343814), (2839, 0.012130453029195553), (333, 0.012127190415716997), (2593, 0.012124648939861456), (3739, 0.012123778341976317), (492, 0.012118985899315763), (4174, 0.012116980454382722), (1041, 0.012111015732384413), (2125, 0.012108963163085894), (2043, 0.012101768028650131), (2666, 0.012098131147316412), (1496, 0.012094835560372497), (2835, 0.01208335349717), (4191, 0.012081874519895548), (696, 0.012077728102123953), (3459, 0.012077222384136187), (497, 0.012075318979731709), (1370, 0.012074214845858494), (1284, 0.012068183836204166), (3188, 0.01205513968379565), (1597, 0.012044466317684481), (2205, 0.01204252290610629), (3390, 0.012041738851502217), (2504, 0.012036192570569561), (2854, 0.01203151309480287), (1330, 0.012022255059139312), (2456, 0.012016507114562563), (556, 0.012013277067463777), (891, 0.012010834357304746), (4472, 0.012003214903730616), (464, 0.012002975424577966), (3726, 0.011997681629806712), (1539, 0.011997048963988342), (2262, 0.011987563521394965), (2391, 0.011984912669223776), (4395, 0.01198430848897299), (3318, 0.011973888970294163), (3926, 0.01196663073605209), (1820, 0.011965958218817912), (3137, 0.011947838146075017), (338, 0.011946210559454091), (1016, 0.011944969339972846), (4009, 0.011934660636555265), (1857, 0.011917863741972144), (111, 0.011917535701590374), (3147, 0.01191400983590564), (2571, 0.011911562334118707), (3315, 0.011899159439014994), (1824, 0.011893072864956111), (1840, 0.011889091387443363), (3993, 0.011872373502053099), (3427, 0.011871559811528685), (3395, 0.011859908534242871), (73, 0.011857834870879755), (702, 0.011854701643692154), (3011, 0.011850809227470916), (1992, 0.01183611758910501), (4059, 0.01181152040912108), (2323, 0.011810568543220606), (2976, 0.011807705690509407), (1036, 0.011794747601475471), (4159, 0.011786657453434683), (1898, 0.011770245097725483), (457, 0.011769985329847623), (725, 0.011761902751049793), (4321, 0.011760852796699939), (1459, 0.011757523759813608), (659, 0.011747054860857177), (3238, 0.011742552397619996), (767, 0.011739207392254954), (240, 0.011723620970860013), (3242, 0.011717517228939822), (4110, 0.011716547883154469), (2652, 0.011695491066929672), (2583, 0.011691841016348136), (2178, 0.011685454205261228), (4356, 0.011660378091737904), (324, 0.011656911051256245), (2364, 0.011646726185032485), (1818, 0.01163762527266154), (3389, 0.011636916183355153), (3348, 0.011635366657002153), (3803, 0.011623008121714967), (1954, 0.011615694664882839), (1416, 0.01161243869293279), (3151, 0.011598445266421183), (511, 0.011584343402003407), (1899, 0.011574213988378641), (257, 0.011563051215571295), (3985, 0.01153039889356799), (317, 0.011527171632487192), (2654, 0.011507415376918875), (1061, 0.011503328396638927), (946, 0.011497560774407837), (2264, 0.01148868584573807), (1257, 0.011484228513966263), (3109, 0.011484022865161269), (161, 0.011481425152041438), (4157, 0.011480998171484484), (2007, 0.011466381461816598), (957, 0.011458025249219171), (1492, 0.011455318648230666), (3342, 0.01145274819581141), (2721, 0.011450214443889752), (3484, 0.011448159300499682), (1042, 0.011441894317437393), (2265, 0.011435607340295572), (3244, 0.011427810379136526), (1186, 0.011418781741673658), (3718, 0.011417276686413486), (1197, 0.011416135925411639), (1251, 0.011415943663679162), (3360, 0.011398838686573237), (314, 0.011396259009311524), (2741, 0.011374087827370184), (1309, 0.011373366710505182), (306, 0.011368882856920857), (583, 0.011366428973078355), (1180, 0.011364409869066961), (638, 0.01135407718337905), (2250, 0.011296538702253197), (2047, 0.011277239025958645), (4066, 0.01126029995028747), (1739, 0.011258901178682373), (2163, 0.011233639679147036), (1827, 0.011226488766383836), (3843, 0.011214408155476547), (4679, 0.011213593140447772), (1480, 0.011205653231966341), (4590, 0.011203365151379326), (655, 0.01119226046529177), (3855, 0.011186813899953709), (810, 0.011176707376782832), (3018, 0.01114837811473903), (2331, 0.011136820369693205), (2120, 0.011104479856430526), (191, 0.011103502795749483), (3974, 0.011098986187652836), (1456, 0.011096241401954284), (2006, 0.011095722595381831), (2675, 0.01108098459868548), (1543, 0.011080233619488325), (1412, 0.011069748710054415), (1215, 0.011036294772575037), (4270, 0.01103133533419098), (124, 0.011012145252034942), (334, 0.011007579846121262), (2758, 0.011000133575641556), (3658, 0.01099859493603747), (1676, 0.010998487211749642), (2822, 0.010996111983602336), (3321, 0.010977136056199056), (1222, 0.01097712050523932), (2706, 0.010971741761758459), (177, 0.010960456226149287), (2534, 0.010959797514850225), (3693, 0.010956386761644258), (4247, 0.01091730510194166), (2749, 0.01091483275156426), (2114, 0.010905271856091922), (501, 0.010899629972074113), (2271, 0.010897601798435642), (2975, 0.010884518043055525), (1387, 0.010877939762972718), (2236, 0.010846228405643019), (733, 0.01083837488604541), (2402, 0.010832403657435019), (394, 0.010831265892653838), (1090, 0.010816750421205373), (577, 0.010795216346188172), (4109, 0.010787122772160046), (2203, 0.010786087332071693), (1639, 0.010784318057405975), (1357, 0.010759274248919782), (1384, 0.010758814240804677), (1987, 0.010746202217664499), (1405, 0.010712123466404396), (4114, 0.010704948151747485), (1845, 0.010701356046618834), (242, 0.010693279744160993), (1219, 0.010654058005988029), (445, 0.010635557775857195), (892, 0.010630631999811766), (25, 0.010605807537747711), (2845, 0.010603057540184754), (1963, 0.010561957947102046), (690, 0.01055900960173962), (2013, 0.010541590583668693), (3091, 0.010540371723126633), (76, 0.01053548798171939), (2580, 0.010533832023775409), (3254, 0.010523253577926616), (3655, 0.010495429640065251), (2502, 0.01045533590356211), (2296, 0.010453325245281399), (786, 0.010453210020223877), (2933, 0.010437830718552324), (4468, 0.010391648364292898), (2844, 0.010386068203202146), (2591, 0.010369770478631293), (1365, 0.010363677655732501), (3082, 0.01035650066261969), (527, 0.01035615032590091), (1764, 0.0103479885063246), (1971, 0.010335632481057837), (1883, 0.010330495610051482), (640, 0.010297186267179112), (1268, 0.010287526625236727), (2892, 0.010220183881518203), (2317, 0.010204347696028565), (1296, 0.01018593175269017), (2766, 0.010179185761924614), (645, 0.010175977582658447), (1088, 0.010170754008767142), (2132, 0.010163112315764354), (2541, 0.010109156949952017), (2868, 0.010104440001610102), (469, 0.010090021626228999), (2867, 0.010081647873933458), (3024, 0.010075881232963631), (2985, 0.010054889155645168), (433, 0.009988121930006899), (1137, 0.009947169938513842), (288, 0.009941669017740707), (506, 0.00992231859908576), (351, 0.00969741960350266), (1317, 0.009657271054970816), (366, 0.009651504580194736), (309, 0.009650630015771947), (3667, 0.009637700744568062), (106, 0.009617958910325432), (4752, 0.009576132162565075), (609, 0.009504844730171642), (641, 0.009462323066005177), (294, 0.009448819732121099), (2562, 0.009354610644428418), (3983, 0.009350760687072378), (510, 0.009327323614299459), (2078, 0.009305475938274311), (2326, 0.00925173874696233), (3579, 0.009248467520482983), (719, 0.009176087449477404), (2734, 0.009079981736651137), (2885, 0.008959758970830504), (243, 0.008955525262254885), (3830, 0.008735992946611284), (929, 0.008678980505382905), (4598, 0.008643088263651639), (2814, 0.008516929120922249), (3421, 0.008515599849606485), (2671, 0.008432876232601754), (561, 0.008383304439880222), (1506, 0.008300719104300908), (542, 0.008269716299899319), (330, 0.008088940945082912), (740, 0.008086884656159707), (3750, 0.007964287566700772), (4171, 0.007803578632645085), (1919, 0.007726317250398253), (787, 0.0070837803340148215), (2118, 0.007022633713664266), (0, 0.0), (1, 0.0), (3, 0.0), (4, 0.0), (6, 0.0), (7, 0.0), (8, 0.0), (10, 0.0), (12, 0.0), (13, 0.0), (15, 0.0), (16, 0.0), (17, 0.0), (20, 0.0), (21, 0.0), (22, 0.0), (23, 0.0), (24, 0.0), (26, 0.0), (27, 0.0), (28, 0.0), (29, 0.0), (31, 0.0), (32, 0.0), (33, 0.0), (35, 0.0), (36, 0.0), (37, 0.0), (38, 0.0), (39, 0.0), (40, 0.0), (41, 0.0), (43, 0.0), (44, 0.0), (46, 0.0), (47, 0.0), (48, 0.0), (50, 0.0), (51, 0.0), (55, 0.0), (56, 0.0), (57, 0.0), (59, 0.0), (60, 0.0), (61, 0.0), (62, 0.0), (63, 0.0), (68, 0.0), (71, 0.0), (72, 0.0), (74, 0.0), (77, 0.0), (79, 0.0), (81, 0.0), (83, 0.0), (84, 0.0), (85, 0.0), (86, 0.0), (87, 0.0), (88, 0.0), (89, 0.0), (92, 0.0), (96, 0.0), (97, 0.0), (98, 0.0), (99, 0.0), (100, 0.0), (101, 0.0), (102, 0.0), (103, 0.0), (104, 0.0), (107, 0.0), (109, 0.0), (110, 0.0), (112, 0.0), (114, 0.0), (118, 0.0), (119, 0.0), (121, 0.0), (122, 0.0), (123, 0.0), (125, 0.0), (127, 0.0), (128, 0.0), (129, 0.0), (130, 0.0), (132, 0.0), (133, 0.0), (134, 0.0), (135, 0.0), (136, 0.0), (138, 0.0), (139, 0.0), (140, 0.0), (141, 0.0), (142, 0.0), (143, 0.0), (144, 0.0), (145, 0.0), (147, 0.0), (148, 0.0), (150, 0.0), (151, 0.0), (157, 0.0), (158, 0.0), (159, 0.0), (160, 0.0), (162, 0.0), (163, 0.0), (164, 0.0), (165, 0.0), (166, 0.0), (167, 0.0), (168, 0.0), (169, 0.0), (170, 0.0), (171, 0.0), (172, 0.0), (174, 0.0), (175, 0.0), (176, 0.0), (180, 0.0), (181, 0.0), (182, 0.0), (184, 0.0), (186, 0.0), (187, 0.0), (189, 0.0), (190, 0.0), (194, 0.0), (197, 0.0), (199, 0.0), (200, 0.0), (201, 0.0), (203, 0.0), (207, 0.0), (208, 0.0), (209, 0.0), (210, 0.0), (211, 0.0), (212, 0.0), (214, 0.0), (216, 0.0), (218, 0.0), (220, 0.0), (221, 0.0), (222, 0.0), (223, 0.0), (224, 0.0), (225, 0.0), (226, 0.0), (227, 0.0), (228, 0.0), (229, 0.0), (230, 0.0), (231, 0.0), (232, 0.0), (233, 0.0), (234, 0.0), (235, 0.0), (238, 0.0), (239, 0.0), (241, 0.0), (244, 0.0), (247, 0.0), (248, 0.0), (250, 0.0), (251, 0.0), (252, 0.0), (253, 0.0), (254, 0.0), (255, 0.0), (256, 0.0), (258, 0.0), (260, 0.0), (261, 0.0), (262, 0.0), (263, 0.0), (264, 0.0), (265, 0.0), (267, 0.0), (268, 0.0), (271, 0.0), (272, 0.0), (274, 0.0), (275, 0.0), (276, 0.0), (278, 0.0), (279, 0.0), (280, 0.0), (281, 0.0), (282, 0.0), (283, 0.0), (284, 0.0), (285, 0.0), (286, 0.0), (287, 0.0), (289, 0.0), (290, 0.0), (291, 0.0), (292, 0.0), (293, 0.0), (295, 0.0), (296, 0.0), (303, 0.0), (307, 0.0), (308, 0.0), (310, 0.0), (311, 0.0), (313, 0.0), (316, 0.0), (318, 0.0), (319, 0.0), (320, 0.0), (323, 0.0), (326, 0.0), (327, 0.0), (328, 0.0), (329, 0.0), (331, 0.0), (332, 0.0), (336, 0.0), (337, 0.0), (339, 0.0), (341, 0.0), (342, 0.0), (343, 0.0), (347, 0.0), (348, 0.0), (349, 0.0), (350, 0.0), (352, 0.0), (353, 0.0), (354, 0.0), (355, 0.0), (356, 0.0), (358, 0.0), (359, 0.0), (364, 0.0), (367, 0.0), (368, 0.0), (369, 0.0), (370, 0.0), (371, 0.0), (372, 0.0), (373, 0.0), (375, 0.0), (376, 0.0), (377, 0.0), (379, 0.0), (381, 0.0), (382, 0.0), (387, 0.0), (388, 0.0), (389, 0.0), (390, 0.0), (395, 0.0), (396, 0.0), (397, 0.0), (398, 0.0), (400, 0.0), (402, 0.0), (406, 0.0), (407, 0.0), (411, 0.0), (412, 0.0), (415, 0.0), (416, 0.0), (417, 0.0), (418, 0.0), (419, 0.0), (420, 0.0), (422, 0.0), (425, 0.0), (426, 0.0), (427, 0.0), (428, 0.0), (429, 0.0), (431, 0.0), (432, 0.0), (434, 0.0), (436, 0.0), (438, 0.0), (440, 0.0), (441, 0.0), (442, 0.0), (444, 0.0), (446, 0.0), (448, 0.0), (449, 0.0), (450, 0.0), (452, 0.0), (454, 0.0), (455, 0.0), (458, 0.0), (460, 0.0), (462, 0.0), (465, 0.0), (467, 0.0), (468, 0.0), (470, 0.0), (471, 0.0), (473, 0.0), (474, 0.0), (476, 0.0), (478, 0.0), (479, 0.0), (480, 0.0), (481, 0.0), (482, 0.0), (483, 0.0), (484, 0.0), (486, 0.0), (487, 0.0), (488, 0.0), (489, 0.0), (490, 0.0), (491, 0.0), (493, 0.0), (496, 0.0), (499, 0.0), (500, 0.0), (502, 0.0), (503, 0.0), (504, 0.0), (505, 0.0), (507, 0.0), (512, 0.0), (513, 0.0), (515, 0.0), (516, 0.0), (519, 0.0), (521, 0.0), (523, 0.0), (525, 0.0), (526, 0.0), (529, 0.0), (530, 0.0), (531, 0.0), (532, 0.0), (533, 0.0), (534, 0.0), (535, 0.0), (536, 0.0), (537, 0.0), (538, 0.0), (543, 0.0), (544, 0.0), (547, 0.0), (548, 0.0), (550, 0.0), (551, 0.0), (552, 0.0), (554, 0.0), (555, 0.0), (557, 0.0), (560, 0.0), (564, 0.0), (566, 0.0), (568, 0.0), (570, 0.0), (571, 0.0), (572, 0.0), (573, 0.0), (574, 0.0), (575, 0.0), (579, 0.0), (580, 0.0), (581, 0.0), (582, 0.0), (584, 0.0), (585, 0.0), (586, 0.0), (587, 0.0), (589, 0.0), (590, 0.0), (591, 0.0), (592, 0.0), (593, 0.0), (594, 0.0), (595, 0.0), (596, 0.0), (598, 0.0), (599, 0.0), (600, 0.0), (601, 0.0), (602, 0.0), (603, 0.0), (604, 0.0), (605, 0.0), (606, 0.0), (607, 0.0), (608, 0.0), (613, 0.0), (614, 0.0), (615, 0.0), (616, 0.0), (617, 0.0), (618, 0.0), (619, 0.0), (620, 0.0), (623, 0.0), (624, 0.0), (626, 0.0), (627, 0.0), (628, 0.0), (629, 0.0), (630, 0.0), (631, 0.0), (632, 0.0), (634, 0.0), (635, 0.0), (636, 0.0), (643, 0.0), (644, 0.0), (646, 0.0), (647, 0.0), (648, 0.0), (649, 0.0), (650, 0.0), (653, 0.0), (654, 0.0), (663, 0.0), (664, 0.0), (666, 0.0), (667, 0.0), (668, 0.0), (669, 0.0), (670, 0.0), (671, 0.0), (672, 0.0), (673, 0.0), (674, 0.0), (675, 0.0), (676, 0.0), (677, 0.0), (681, 0.0), (682, 0.0), (683, 0.0), (684, 0.0), (685, 0.0), (692, 0.0), (693, 0.0), (694, 0.0), (695, 0.0), (697, 0.0), (698, 0.0), (701, 0.0), (704, 0.0), (705, 0.0), (706, 0.0), (707, 0.0), (708, 0.0), (710, 0.0), (711, 0.0), (714, 0.0), (715, 0.0), (716, 0.0), (717, 0.0), (718, 0.0), (721, 0.0), (722, 0.0), (727, 0.0), (728, 0.0), (729, 0.0), (731, 0.0), (732, 0.0), (734, 0.0), (735, 0.0), (736, 0.0), (737, 0.0), (739, 0.0), (744, 0.0), (750, 0.0), (751, 0.0), (754, 0.0), (755, 0.0), (759, 0.0), (760, 0.0), (762, 0.0), (763, 0.0), (764, 0.0), (765, 0.0), (766, 0.0), (768, 0.0), (769, 0.0), (770, 0.0), (774, 0.0), (775, 0.0), (776, 0.0), (777, 0.0), (778, 0.0), (779, 0.0), (780, 0.0), (782, 0.0), (783, 0.0), (784, 0.0), (789, 0.0), (790, 0.0), (793, 0.0), (798, 0.0), (799, 0.0), (800, 0.0), (803, 0.0), (805, 0.0), (808, 0.0), (811, 0.0), (812, 0.0), (813, 0.0), (815, 0.0), (817, 0.0), (818, 0.0), (819, 0.0), (821, 0.0), (823, 0.0), (825, 0.0), (826, 0.0), (828, 0.0), (829, 0.0), (830, 0.0), (832, 0.0), (833, 0.0), (834, 0.0), (835, 0.0), (837, 0.0), (838, 0.0), (839, 0.0), (840, 0.0), (841, 0.0), (843, 0.0), (844, 0.0), (847, 0.0), (849, 0.0), (850, 0.0), (851, 0.0), (852, 0.0), (854, 0.0), (855, 0.0), (856, 0.0), (857, 0.0), (858, 0.0), (861, 0.0), (862, 0.0), (863, 0.0), (864, 0.0), (866, 0.0), (867, 0.0), (868, 0.0), (869, 0.0), (870, 0.0), (871, 0.0), (873, 0.0), (874, 0.0), (875, 0.0), (878, 0.0), (880, 0.0), (881, 0.0), (882, 0.0), (883, 0.0), (884, 0.0), (885, 0.0), (886, 0.0), (887, 0.0), (888, 0.0), (889, 0.0), (890, 0.0), (893, 0.0), (895, 0.0), (897, 0.0), (898, 0.0), (899, 0.0), (900, 0.0), (901, 0.0), (902, 0.0), (903, 0.0), (904, 0.0), (906, 0.0), (907, 0.0), (910, 0.0), (911, 0.0), (913, 0.0), (914, 0.0), (915, 0.0), (916, 0.0), (917, 0.0), (919, 0.0), (922, 0.0), (923, 0.0), (924, 0.0), (925, 0.0), (926, 0.0), (927, 0.0), (928, 0.0), (930, 0.0), (933, 0.0), (934, 0.0), (936, 0.0), (937, 0.0), (940, 0.0), (941, 0.0), (942, 0.0), (943, 0.0), (944, 0.0), (945, 0.0), (947, 0.0), (948, 0.0), (949, 0.0), (950, 0.0), (951, 0.0), (952, 0.0), (954, 0.0), (955, 0.0), (958, 0.0), (959, 0.0), (960, 0.0), (962, 0.0), (963, 0.0), (966, 0.0), (967, 0.0), (968, 0.0), (969, 0.0), (970, 0.0), (972, 0.0), (973, 0.0), (975, 0.0), (976, 0.0), (979, 0.0), (982, 0.0), (983, 0.0), (986, 0.0), (988, 0.0), (990, 0.0), (991, 0.0), (992, 0.0), (993, 0.0), (994, 0.0), (995, 0.0), (996, 0.0), (997, 0.0), (998, 0.0), (999, 0.0), (1000, 0.0), (1003, 0.0), (1005, 0.0), (1006, 0.0), (1010, 0.0), (1012, 0.0), (1018, 0.0), (1019, 0.0), (1020, 0.0), (1021, 0.0), (1022, 0.0), (1023, 0.0), (1024, 0.0), (1027, 0.0), (1028, 0.0), (1029, 0.0), (1030, 0.0), (1031, 0.0), (1032, 0.0), (1033, 0.0), (1037, 0.0), (1038, 0.0), (1039, 0.0), (1040, 0.0), (1043, 0.0), (1045, 0.0), (1046, 0.0), (1047, 0.0), (1048, 0.0), (1049, 0.0), (1050, 0.0), (1051, 0.0), (1052, 0.0), (1053, 0.0), (1054, 0.0), (1055, 0.0), (1056, 0.0), (1057, 0.0), (1058, 0.0), (1059, 0.0), (1060, 0.0), (1063, 0.0), (1064, 0.0), (1065, 0.0), (1066, 0.0), (1068, 0.0), (1069, 0.0), (1070, 0.0), (1071, 0.0), (1072, 0.0), (1075, 0.0), (1077, 0.0), (1078, 0.0), (1081, 0.0), (1083, 0.0), (1087, 0.0), (1091, 0.0), (1092, 0.0), (1093, 0.0), (1094, 0.0), (1095, 0.0), (1096, 0.0), (1097, 0.0), (1099, 0.0), (1100, 0.0), (1102, 0.0), (1104, 0.0), (1105, 0.0), (1106, 0.0), (1108, 0.0), (1109, 0.0), (1111, 0.0), (1112, 0.0), (1113, 0.0), (1115, 0.0), (1117, 0.0), (1120, 0.0), (1121, 0.0), (1123, 0.0), (1125, 0.0), (1126, 0.0), (1127, 0.0), (1128, 0.0), (1129, 0.0), (1131, 0.0), (1133, 0.0), (1134, 0.0), (1135, 0.0), (1139, 0.0), (1141, 0.0), (1143, 0.0), (1144, 0.0), (1145, 0.0), (1146, 0.0), (1147, 0.0), (1149, 0.0), (1150, 0.0), (1151, 0.0), (1153, 0.0), (1154, 0.0), (1156, 0.0), (1158, 0.0), (1159, 0.0), (1160, 0.0), (1161, 0.0), (1162, 0.0), (1163, 0.0), (1164, 0.0), (1167, 0.0), (1168, 0.0), (1169, 0.0), (1170, 0.0), (1171, 0.0), (1172, 0.0), (1174, 0.0), (1176, 0.0), (1177, 0.0), (1178, 0.0), (1179, 0.0), (1181, 0.0), (1183, 0.0), (1184, 0.0), (1185, 0.0), (1187, 0.0), (1188, 0.0), (1189, 0.0), (1190, 0.0), (1192, 0.0), (1193, 0.0), (1194, 0.0), (1199, 0.0), (1200, 0.0), (1202, 0.0), (1204, 0.0), (1205, 0.0), (1208, 0.0), (1209, 0.0), (1210, 0.0), (1212, 0.0), (1214, 0.0), (1216, 0.0), (1218, 0.0), (1220, 0.0), (1224, 0.0), (1226, 0.0), (1228, 0.0), (1231, 0.0), (1234, 0.0), (1236, 0.0), (1237, 0.0), (1239, 0.0), (1240, 0.0), (1241, 0.0), (1242, 0.0), (1244, 0.0), (1248, 0.0), (1252, 0.0), (1253, 0.0), (1254, 0.0), (1258, 0.0), (1259, 0.0), (1260, 0.0), (1262, 0.0), (1263, 0.0), (1264, 0.0), (1265, 0.0), (1266, 0.0), (1267, 0.0), (1269, 0.0), (1271, 0.0), (1274, 0.0), (1275, 0.0), (1276, 0.0), (1277, 0.0), (1278, 0.0), (1280, 0.0), (1281, 0.0), (1282, 0.0), (1283, 0.0), (1286, 0.0), (1287, 0.0), (1288, 0.0), (1289, 0.0), (1293, 0.0), (1295, 0.0), (1299, 0.0), (1301, 0.0), (1302, 0.0), (1303, 0.0), (1305, 0.0), (1311, 0.0), (1313, 0.0), (1314, 0.0), (1315, 0.0), (1316, 0.0), (1319, 0.0), (1320, 0.0), (1322, 0.0), (1323, 0.0), (1324, 0.0), (1325, 0.0), (1326, 0.0), (1329, 0.0), (1331, 0.0), (1332, 0.0), (1334, 0.0), (1337, 0.0), (1338, 0.0), (1340, 0.0), (1341, 0.0), (1343, 0.0), (1345, 0.0), (1346, 0.0), (1348, 0.0), (1349, 0.0), (1350, 0.0), (1352, 0.0), (1355, 0.0), (1356, 0.0), (1359, 0.0), (1360, 0.0), (1363, 0.0), (1364, 0.0), (1366, 0.0), (1367, 0.0), (1369, 0.0), (1371, 0.0), (1372, 0.0), (1374, 0.0), (1375, 0.0), (1376, 0.0), (1377, 0.0), (1378, 0.0), (1380, 0.0), (1381, 0.0), (1383, 0.0), (1385, 0.0), (1386, 0.0), (1391, 0.0), (1392, 0.0), (1395, 0.0), (1396, 0.0), (1397, 0.0), (1398, 0.0), (1399, 0.0), (1400, 0.0), (1401, 0.0), (1403, 0.0), (1404, 0.0), (1406, 0.0), (1408, 0.0), (1409, 0.0), (1410, 0.0), (1413, 0.0), (1414, 0.0), (1415, 0.0), (1417, 0.0), (1418, 0.0), (1420, 0.0), (1423, 0.0), (1424, 0.0), (1426, 0.0), (1427, 0.0), (1429, 0.0), (1430, 0.0), (1432, 0.0), (1434, 0.0), (1437, 0.0), (1438, 0.0), (1439, 0.0), (1440, 0.0), (1442, 0.0), (1444, 0.0), (1445, 0.0), (1446, 0.0), (1447, 0.0), (1448, 0.0), (1449, 0.0), (1450, 0.0), (1451, 0.0), (1452, 0.0), (1453, 0.0), (1455, 0.0), (1457, 0.0), (1458, 0.0), (1462, 0.0), (1465, 0.0), (1467, 0.0), (1469, 0.0), (1470, 0.0), (1471, 0.0), (1473, 0.0), (1475, 0.0), (1478, 0.0), (1483, 0.0), (1484, 0.0), (1488, 0.0), (1491, 0.0), (1493, 0.0), (1497, 0.0), (1498, 0.0), (1502, 0.0), (1503, 0.0), (1504, 0.0), (1507, 0.0), (1508, 0.0), (1511, 0.0), (1512, 0.0), (1514, 0.0), (1515, 0.0), (1519, 0.0), (1526, 0.0), (1527, 0.0), (1530, 0.0), (1531, 0.0), (1532, 0.0), (1533, 0.0), (1535, 0.0), (1536, 0.0), (1538, 0.0), (1540, 0.0), (1544, 0.0), (1547, 0.0), (1548, 0.0), (1549, 0.0), (1551, 0.0), (1553, 0.0), (1554, 0.0), (1556, 0.0), (1558, 0.0), (1560, 0.0), (1562, 0.0), (1563, 0.0), (1564, 0.0), (1565, 0.0), (1566, 0.0), (1567, 0.0), (1569, 0.0), (1570, 0.0), (1572, 0.0), (1573, 0.0), (1574, 0.0), (1576, 0.0), (1577, 0.0), (1580, 0.0), (1582, 0.0), (1583, 0.0), (1585, 0.0), (1586, 0.0), (1588, 0.0), (1590, 0.0), (1591, 0.0), (1593, 0.0), (1595, 0.0), (1596, 0.0), (1599, 0.0), (1603, 0.0), (1608, 0.0), (1609, 0.0), (1612, 0.0), (1616, 0.0), (1617, 0.0), (1619, 0.0), (1620, 0.0), (1622, 0.0), (1623, 0.0), (1624, 0.0), (1625, 0.0), (1627, 0.0), (1628, 0.0), (1629, 0.0), (1630, 0.0), (1631, 0.0), (1632, 0.0), (1633, 0.0), (1635, 0.0), (1636, 0.0), (1637, 0.0), (1638, 0.0), (1641, 0.0), (1642, 0.0), (1643, 0.0), (1644, 0.0), (1647, 0.0), (1650, 0.0), (1651, 0.0), (1652, 0.0), (1653, 0.0), (1655, 0.0), (1656, 0.0), (1658, 0.0), (1659, 0.0), (1660, 0.0), (1661, 0.0), (1662, 0.0), (1665, 0.0), (1666, 0.0), (1667, 0.0), (1668, 0.0), (1669, 0.0), (1670, 0.0), (1671, 0.0), (1672, 0.0), (1674, 0.0), (1675, 0.0), (1679, 0.0), (1680, 0.0), (1681, 0.0), (1685, 0.0), (1686, 0.0), (1687, 0.0), (1688, 0.0), (1689, 0.0), (1693, 0.0), (1694, 0.0), (1699, 0.0), (1701, 0.0), (1702, 0.0), (1703, 0.0), (1705, 0.0), (1707, 0.0), (1708, 0.0), (1709, 0.0), (1712, 0.0), (1713, 0.0), (1715, 0.0), (1716, 0.0), (1717, 0.0), (1718, 0.0), (1719, 0.0), (1721, 0.0), (1722, 0.0), (1723, 0.0), (1724, 0.0), (1725, 0.0), (1727, 0.0), (1728, 0.0), (1729, 0.0), (1730, 0.0), (1732, 0.0), (1733, 0.0), (1734, 0.0), (1735, 0.0), (1736, 0.0), (1738, 0.0), (1741, 0.0), (1742, 0.0), (1743, 0.0), (1746, 0.0), (1747, 0.0), (1748, 0.0), (1749, 0.0), (1750, 0.0), (1751, 0.0), (1753, 0.0), (1754, 0.0), (1756, 0.0), (1760, 0.0), (1761, 0.0), (1762, 0.0), (1763, 0.0), (1770, 0.0), (1772, 0.0), (1773, 0.0), (1774, 0.0), (1775, 0.0), (1776, 0.0), (1778, 0.0), (1779, 0.0), (1785, 0.0), (1786, 0.0), (1788, 0.0), (1790, 0.0), (1791, 0.0), (1792, 0.0), (1796, 0.0), (1797, 0.0), (1798, 0.0), (1799, 0.0), (1801, 0.0), (1802, 0.0), (1805, 0.0), (1806, 0.0), (1807, 0.0), (1808, 0.0), (1809, 0.0), (1811, 0.0), (1812, 0.0), (1813, 0.0), (1815, 0.0), (1816, 0.0), (1819, 0.0), (1821, 0.0), (1822, 0.0), (1825, 0.0), (1826, 0.0), (1828, 0.0), (1831, 0.0), (1832, 0.0), (1834, 0.0), (1835, 0.0), (1836, 0.0), (1838, 0.0), (1843, 0.0), (1847, 0.0), (1848, 0.0), (1849, 0.0), (1851, 0.0), (1852, 0.0), (1853, 0.0), (1854, 0.0), (1855, 0.0), (1856, 0.0), (1858, 0.0), (1859, 0.0), (1860, 0.0), (1862, 0.0), (1863, 0.0), (1864, 0.0), (1865, 0.0), (1866, 0.0), (1868, 0.0), (1870, 0.0), (1871, 0.0), (1872, 0.0), (1874, 0.0), (1876, 0.0), (1877, 0.0), (1879, 0.0), (1880, 0.0), (1881, 0.0), (1882, 0.0), (1884, 0.0), (1885, 0.0), (1886, 0.0), (1887, 0.0), (1888, 0.0), (1891, 0.0), (1892, 0.0), (1894, 0.0), (1896, 0.0), (1897, 0.0), (1900, 0.0), (1901, 0.0), (1902, 0.0), (1903, 0.0), (1904, 0.0), (1906, 0.0), (1907, 0.0), (1908, 0.0), (1909, 0.0), (1910, 0.0), (1912, 0.0), (1914, 0.0), (1916, 0.0), (1917, 0.0), (1920, 0.0), (1921, 0.0), (1922, 0.0), (1923, 0.0), (1924, 0.0), (1926, 0.0), (1927, 0.0), (1929, 0.0), (1931, 0.0), (1933, 0.0), (1934, 0.0), (1936, 0.0), (1938, 0.0), (1939, 0.0), (1941, 0.0), (1942, 0.0), (1944, 0.0), (1945, 0.0), (1946, 0.0), (1947, 0.0), (1948, 0.0), (1949, 0.0), (1953, 0.0), (1956, 0.0), (1957, 0.0), (1959, 0.0), (1962, 0.0), (1965, 0.0), (1966, 0.0), (1967, 0.0), (1970, 0.0), (1972, 0.0), (1974, 0.0), (1975, 0.0), (1976, 0.0), (1977, 0.0), (1980, 0.0), (1982, 0.0), (1983, 0.0), (1984, 0.0), (1985, 0.0), (1986, 0.0), (1988, 0.0), (1989, 0.0), (1990, 0.0), (1991, 0.0), (1993, 0.0), (1994, 0.0), (1995, 0.0), (1996, 0.0), (1997, 0.0), (2000, 0.0), (2001, 0.0), (2002, 0.0), (2003, 0.0), (2004, 0.0), (2005, 0.0), (2008, 0.0), (2010, 0.0), (2011, 0.0), (2012, 0.0), (2015, 0.0), (2016, 0.0), (2017, 0.0), (2018, 0.0), (2020, 0.0), (2021, 0.0), (2023, 0.0), (2024, 0.0), (2026, 0.0), (2027, 0.0), (2028, 0.0), (2029, 0.0), (2031, 0.0), (2032, 0.0), (2036, 0.0), (2037, 0.0), (2038, 0.0), (2040, 0.0), (2042, 0.0), (2045, 0.0), (2048, 0.0), (2051, 0.0), (2052, 0.0), (2053, 0.0), (2056, 0.0), (2057, 0.0), (2058, 0.0), (2059, 0.0), (2060, 0.0), (2061, 0.0), (2063, 0.0), (2064, 0.0), (2065, 0.0), (2066, 0.0), (2067, 0.0), (2068, 0.0), (2069, 0.0), (2071, 0.0), (2072, 0.0), (2075, 0.0), (2076, 0.0), (2077, 0.0), (2080, 0.0), (2081, 0.0), (2083, 0.0), (2084, 0.0), (2087, 0.0), (2088, 0.0), (2091, 0.0), (2092, 0.0), (2093, 0.0), (2096, 0.0), (2098, 0.0), (2101, 0.0), (2102, 0.0), (2103, 0.0), (2104, 0.0), (2105, 0.0), (2106, 0.0), (2107, 0.0), (2108, 0.0), (2109, 0.0), (2110, 0.0), (2113, 0.0), (2115, 0.0), (2116, 0.0), (2119, 0.0), (2121, 0.0), (2122, 0.0), (2124, 0.0), (2126, 0.0), (2127, 0.0), (2128, 0.0), (2133, 0.0), (2134, 0.0), (2136, 0.0), (2137, 0.0), (2138, 0.0), (2139, 0.0), (2141, 0.0), (2142, 0.0), (2144, 0.0), (2145, 0.0), (2146, 0.0), (2148, 0.0), (2149, 0.0), (2152, 0.0), (2154, 0.0), (2155, 0.0), (2156, 0.0), (2158, 0.0), (2159, 0.0), (2160, 0.0), (2164, 0.0), (2165, 0.0), (2166, 0.0), (2167, 0.0), (2168, 0.0), (2169, 0.0), (2170, 0.0), (2172, 0.0), (2173, 0.0), (2174, 0.0), (2175, 0.0), (2177, 0.0), (2179, 0.0), (2180, 0.0), (2181, 0.0), (2182, 0.0), (2184, 0.0), (2186, 0.0), (2189, 0.0), (2191, 0.0), (2192, 0.0), (2193, 0.0), (2194, 0.0), (2197, 0.0), (2200, 0.0), (2202, 0.0), (2206, 0.0), (2209, 0.0), (2211, 0.0), (2212, 0.0), (2213, 0.0), (2214, 0.0), (2215, 0.0), (2217, 0.0), (2219, 0.0), (2220, 0.0), (2221, 0.0), (2222, 0.0), (2225, 0.0), (2226, 0.0), (2227, 0.0), (2228, 0.0), (2229, 0.0), (2230, 0.0), (2231, 0.0), (2232, 0.0), (2233, 0.0), (2234, 0.0), (2235, 0.0), (2237, 0.0), (2238, 0.0), (2240, 0.0), (2241, 0.0), (2242, 0.0), (2243, 0.0), (2244, 0.0), (2246, 0.0), (2247, 0.0), (2248, 0.0), (2249, 0.0), (2251, 0.0), (2252, 0.0), (2253, 0.0), (2254, 0.0), (2255, 0.0), (2256, 0.0), (2258, 0.0), (2268, 0.0), (2272, 0.0), (2276, 0.0), (2277, 0.0), (2278, 0.0), (2279, 0.0), (2280, 0.0), (2282, 0.0), (2284, 0.0), (2285, 0.0), (2286, 0.0), (2288, 0.0), (2289, 0.0), (2291, 0.0), (2292, 0.0), (2293, 0.0), (2294, 0.0), (2295, 0.0), (2297, 0.0), (2299, 0.0), (2300, 0.0), (2302, 0.0), (2304, 0.0), (2305, 0.0), (2306, 0.0), (2307, 0.0), (2308, 0.0), (2309, 0.0), (2310, 0.0), (2311, 0.0), (2312, 0.0), (2313, 0.0), (2314, 0.0), (2318, 0.0), (2319, 0.0), (2320, 0.0), (2321, 0.0), (2324, 0.0), (2328, 0.0), (2333, 0.0), (2336, 0.0), (2338, 0.0), (2339, 0.0), (2340, 0.0), (2341, 0.0), (2343, 0.0), (2344, 0.0), (2345, 0.0), (2346, 0.0), (2347, 0.0), (2348, 0.0), (2350, 0.0), (2353, 0.0), (2354, 0.0), (2355, 0.0), (2356, 0.0), (2360, 0.0), (2361, 0.0), (2362, 0.0), (2363, 0.0), (2366, 0.0), (2368, 0.0), (2369, 0.0), (2370, 0.0), (2373, 0.0), (2376, 0.0), (2380, 0.0), (2382, 0.0), (2383, 0.0), (2384, 0.0), (2386, 0.0), (2388, 0.0), (2392, 0.0), (2394, 0.0), (2395, 0.0), (2398, 0.0), (2399, 0.0), (2403, 0.0), (2404, 0.0), (2407, 0.0), (2409, 0.0), (2411, 0.0), (2412, 0.0), (2413, 0.0), (2416, 0.0), (2417, 0.0), (2418, 0.0), (2420, 0.0), (2422, 0.0), (2424, 0.0), (2425, 0.0), (2426, 0.0), (2428, 0.0), (2429, 0.0), (2432, 0.0), (2434, 0.0), (2436, 0.0), (2437, 0.0), (2438, 0.0), (2439, 0.0), (2441, 0.0), (2442, 0.0), (2444, 0.0), (2452, 0.0), (2453, 0.0), (2454, 0.0), (2455, 0.0), (2458, 0.0), (2465, 0.0), (2467, 0.0), (2469, 0.0), (2470, 0.0), (2471, 0.0), (2472, 0.0), (2474, 0.0), (2475, 0.0), (2476, 0.0), (2477, 0.0), (2478, 0.0), (2482, 0.0), (2483, 0.0), (2486, 0.0), (2489, 0.0), (2490, 0.0), (2491, 0.0), (2492, 0.0), (2495, 0.0), (2496, 0.0), (2497, 0.0), (2498, 0.0), (2499, 0.0), (2500, 0.0), (2501, 0.0), (2503, 0.0), (2505, 0.0), (2506, 0.0), (2507, 0.0), (2508, 0.0), (2510, 0.0), (2513, 0.0), (2514, 0.0), (2515, 0.0), (2518, 0.0), (2520, 0.0), (2522, 0.0), (2524, 0.0), (2525, 0.0), (2526, 0.0), (2527, 0.0), (2528, 0.0), (2529, 0.0), (2533, 0.0), (2535, 0.0), (2536, 0.0), (2537, 0.0), (2538, 0.0), (2540, 0.0), (2542, 0.0), (2543, 0.0), (2544, 0.0), (2545, 0.0), (2546, 0.0), (2547, 0.0), (2548, 0.0), (2550, 0.0), (2551, 0.0), (2553, 0.0), (2555, 0.0), (2556, 0.0), (2557, 0.0), (2558, 0.0), (2559, 0.0), (2560, 0.0), (2561, 0.0), (2563, 0.0), (2564, 0.0), (2565, 0.0), (2566, 0.0), (2567, 0.0), (2569, 0.0), (2573, 0.0), (2575, 0.0), (2576, 0.0), (2581, 0.0), (2585, 0.0), (2586, 0.0), (2589, 0.0), (2594, 0.0), (2595, 0.0), (2596, 0.0), (2597, 0.0), (2598, 0.0), (2599, 0.0), (2600, 0.0), (2601, 0.0), (2602, 0.0), (2605, 0.0), (2607, 0.0), (2608, 0.0), (2610, 0.0), (2611, 0.0), (2613, 0.0), (2614, 0.0), (2618, 0.0), (2620, 0.0), (2623, 0.0), (2624, 0.0), (2625, 0.0), (2626, 0.0), (2627, 0.0), (2628, 0.0), (2629, 0.0), (2630, 0.0), (2631, 0.0), (2632, 0.0), (2633, 0.0), (2634, 0.0), (2638, 0.0), (2639, 0.0), (2640, 0.0), (2641, 0.0), (2644, 0.0), (2647, 0.0), (2648, 0.0), (2651, 0.0), (2653, 0.0), (2655, 0.0), (2657, 0.0), (2658, 0.0), (2661, 0.0), (2662, 0.0), (2664, 0.0), (2665, 0.0), (2669, 0.0), (2670, 0.0), (2674, 0.0), (2676, 0.0), (2678, 0.0), (2680, 0.0), (2682, 0.0), (2683, 0.0), (2684, 0.0), (2685, 0.0), (2686, 0.0), (2687, 0.0), (2689, 0.0), (2690, 0.0), (2691, 0.0), (2692, 0.0), (2693, 0.0), (2694, 0.0), (2695, 0.0), (2696, 0.0), (2698, 0.0), (2700, 0.0), (2701, 0.0), (2702, 0.0), (2703, 0.0), (2705, 0.0), (2707, 0.0), (2709, 0.0), (2712, 0.0), (2713, 0.0), (2715, 0.0), (2716, 0.0), (2722, 0.0), (2723, 0.0), (2724, 0.0), (2725, 0.0), (2726, 0.0), (2727, 0.0), (2730, 0.0), (2731, 0.0), (2732, 0.0), (2733, 0.0), (2735, 0.0), (2737, 0.0), (2738, 0.0), (2743, 0.0), (2744, 0.0), (2745, 0.0), (2746, 0.0), (2747, 0.0), (2748, 0.0), (2750, 0.0), (2751, 0.0), (2753, 0.0), (2754, 0.0), (2755, 0.0), (2757, 0.0), (2759, 0.0), (2764, 0.0), (2765, 0.0), (2767, 0.0), (2768, 0.0), (2769, 0.0), (2771, 0.0), (2773, 0.0), (2776, 0.0), (2780, 0.0), (2783, 0.0), (2784, 0.0), (2785, 0.0), (2786, 0.0), (2787, 0.0), (2791, 0.0), (2792, 0.0), (2794, 0.0), (2795, 0.0), (2800, 0.0), (2801, 0.0), (2802, 0.0), (2803, 0.0), (2804, 0.0), (2805, 0.0), (2807, 0.0), (2809, 0.0), (2811, 0.0), (2815, 0.0), (2816, 0.0), (2818, 0.0), (2819, 0.0), (2820, 0.0), (2823, 0.0), (2826, 0.0), (2827, 0.0), (2828, 0.0), (2829, 0.0), (2832, 0.0), (2834, 0.0), (2836, 0.0), (2837, 0.0), (2838, 0.0), (2843, 0.0), (2846, 0.0), (2847, 0.0), (2848, 0.0), (2849, 0.0), (2850, 0.0), (2852, 0.0), (2855, 0.0), (2858, 0.0), (2859, 0.0), (2860, 0.0), (2861, 0.0), (2862, 0.0), (2863, 0.0), (2864, 0.0), (2865, 0.0), (2866, 0.0), (2870, 0.0), (2871, 0.0), (2872, 0.0), (2874, 0.0), (2875, 0.0), (2878, 0.0), (2879, 0.0), (2880, 0.0), (2881, 0.0), (2882, 0.0), (2883, 0.0), (2886, 0.0), (2888, 0.0), (2890, 0.0), (2891, 0.0), (2893, 0.0), (2894, 0.0), (2895, 0.0), (2896, 0.0), (2898, 0.0), (2900, 0.0), (2902, 0.0), (2904, 0.0), (2905, 0.0), (2906, 0.0), (2910, 0.0), (2911, 0.0), (2912, 0.0), (2913, 0.0), (2914, 0.0), (2915, 0.0), (2917, 0.0), (2918, 0.0), (2919, 0.0), (2920, 0.0), (2922, 0.0), (2926, 0.0), (2928, 0.0), (2930, 0.0), (2932, 0.0), (2934, 0.0), (2935, 0.0), (2936, 0.0), (2939, 0.0), (2941, 0.0), (2942, 0.0), (2943, 0.0), (2944, 0.0), (2946, 0.0), (2947, 0.0), (2948, 0.0), (2949, 0.0), (2950, 0.0), (2951, 0.0), (2953, 0.0), (2955, 0.0), (2956, 0.0), (2957, 0.0), (2960, 0.0), (2961, 0.0), (2964, 0.0), (2966, 0.0), (2967, 0.0), (2968, 0.0), (2969, 0.0), (2970, 0.0), (2971, 0.0), (2973, 0.0), (2974, 0.0), (2977, 0.0), (2978, 0.0), (2979, 0.0), (2983, 0.0), (2984, 0.0), (2986, 0.0), (2987, 0.0), (2989, 0.0), (2990, 0.0), (2991, 0.0), (2992, 0.0), (2993, 0.0), (2994, 0.0), (2995, 0.0), (2996, 0.0), (2997, 0.0), (2999, 0.0), (3002, 0.0), (3003, 0.0), (3004, 0.0), (3005, 0.0), (3008, 0.0), (3009, 0.0), (3010, 0.0), (3013, 0.0), (3014, 0.0), (3015, 0.0), (3016, 0.0), (3019, 0.0), (3020, 0.0), (3022, 0.0), (3025, 0.0), (3026, 0.0), (3029, 0.0), (3030, 0.0), (3032, 0.0), (3034, 0.0), (3035, 0.0), (3036, 0.0), (3037, 0.0), (3038, 0.0), (3039, 0.0), (3040, 0.0), (3041, 0.0), (3042, 0.0), (3043, 0.0), (3044, 0.0), (3045, 0.0), (3047, 0.0), (3048, 0.0), (3049, 0.0), (3050, 0.0), (3051, 0.0), (3052, 0.0), (3053, 0.0), (3054, 0.0), (3055, 0.0), (3057, 0.0), (3059, 0.0), (3061, 0.0), (3062, 0.0), (3064, 0.0), (3065, 0.0), (3068, 0.0), (3069, 0.0), (3070, 0.0), (3072, 0.0), (3074, 0.0), (3075, 0.0), (3079, 0.0), (3084, 0.0), (3085, 0.0), (3087, 0.0), (3088, 0.0), (3092, 0.0), (3093, 0.0), (3095, 0.0), (3097, 0.0), (3099, 0.0), (3100, 0.0), (3101, 0.0), (3102, 0.0), (3103, 0.0), (3104, 0.0), (3105, 0.0), (3106, 0.0), (3107, 0.0), (3113, 0.0), (3114, 0.0), (3115, 0.0), (3118, 0.0), (3119, 0.0), (3120, 0.0), (3122, 0.0), (3123, 0.0), (3125, 0.0), (3126, 0.0), (3128, 0.0), (3129, 0.0), (3130, 0.0), (3131, 0.0), (3135, 0.0), (3136, 0.0), (3139, 0.0), (3140, 0.0), (3143, 0.0), (3145, 0.0), (3146, 0.0), (3148, 0.0), (3150, 0.0), (3154, 0.0), (3156, 0.0), (3157, 0.0), (3158, 0.0), (3159, 0.0), (3160, 0.0), (3161, 0.0), (3162, 0.0), (3164, 0.0), (3165, 0.0), (3166, 0.0), (3168, 0.0), (3169, 0.0), (3170, 0.0), (3171, 0.0), (3172, 0.0), (3173, 0.0), (3174, 0.0), (3175, 0.0), (3176, 0.0), (3177, 0.0), (3178, 0.0), (3179, 0.0), (3180, 0.0), (3183, 0.0), (3185, 0.0), (3186, 0.0), (3192, 0.0), (3193, 0.0), (3194, 0.0), (3196, 0.0), (3197, 0.0), (3198, 0.0), (3200, 0.0), (3201, 0.0), (3202, 0.0), (3203, 0.0), (3207, 0.0), (3210, 0.0), (3211, 0.0), (3216, 0.0), (3217, 0.0), (3218, 0.0), (3220, 0.0), (3222, 0.0), (3223, 0.0), (3224, 0.0), (3226, 0.0), (3227, 0.0), (3228, 0.0), (3229, 0.0), (3230, 0.0), (3231, 0.0), (3232, 0.0), (3233, 0.0), (3235, 0.0), (3239, 0.0), (3243, 0.0), (3245, 0.0), (3248, 0.0), (3249, 0.0), (3250, 0.0), (3251, 0.0), (3252, 0.0), (3253, 0.0), (3255, 0.0), (3257, 0.0), (3258, 0.0), (3261, 0.0), (3262, 0.0), (3263, 0.0), (3264, 0.0), (3265, 0.0), (3266, 0.0), (3267, 0.0), (3268, 0.0), (3271, 0.0), (3274, 0.0), (3275, 0.0), (3276, 0.0), (3277, 0.0), (3278, 0.0), (3279, 0.0), (3280, 0.0), (3281, 0.0), (3282, 0.0), (3283, 0.0), (3284, 0.0), (3285, 0.0), (3288, 0.0), (3290, 0.0), (3291, 0.0), (3292, 0.0), (3293, 0.0), (3294, 0.0), (3295, 0.0), (3296, 0.0), (3297, 0.0), (3298, 0.0), (3299, 0.0), (3302, 0.0), (3306, 0.0), (3307, 0.0), (3308, 0.0), (3309, 0.0), (3310, 0.0), (3313, 0.0), (3314, 0.0), (3316, 0.0), (3317, 0.0), (3319, 0.0), (3320, 0.0), (3323, 0.0), (3324, 0.0), (3325, 0.0), (3326, 0.0), (3327, 0.0), (3328, 0.0), (3329, 0.0), (3331, 0.0), (3332, 0.0), (3335, 0.0), (3336, 0.0), (3337, 0.0), (3339, 0.0), (3340, 0.0), (3341, 0.0), (3343, 0.0), (3345, 0.0), (3346, 0.0), (3347, 0.0), (3349, 0.0), (3351, 0.0), (3352, 0.0), (3353, 0.0), (3354, 0.0), (3355, 0.0), (3357, 0.0), (3358, 0.0), (3359, 0.0), (3361, 0.0), (3363, 0.0), (3364, 0.0), (3365, 0.0), (3367, 0.0), (3368, 0.0), (3369, 0.0), (3371, 0.0), (3372, 0.0), (3373, 0.0), (3374, 0.0), (3375, 0.0), (3376, 0.0), (3377, 0.0), (3378, 0.0), (3379, 0.0), (3380, 0.0), (3381, 0.0), (3382, 0.0), (3383, 0.0), (3384, 0.0), (3385, 0.0), (3391, 0.0), (3393, 0.0), (3394, 0.0), (3398, 0.0), (3399, 0.0), (3400, 0.0), (3401, 0.0), (3402, 0.0), (3404, 0.0), (3405, 0.0), (3406, 0.0), (3407, 0.0), (3408, 0.0), (3409, 0.0), (3410, 0.0), (3411, 0.0), (3412, 0.0), (3413, 0.0), (3414, 0.0), (3415, 0.0), (3417, 0.0), (3419, 0.0), (3420, 0.0), (3423, 0.0), (3424, 0.0), (3425, 0.0), (3428, 0.0), (3429, 0.0), (3430, 0.0), (3431, 0.0), (3432, 0.0), (3433, 0.0), (3435, 0.0), (3436, 0.0), (3437, 0.0), (3439, 0.0), (3440, 0.0), (3441, 0.0), (3442, 0.0), (3443, 0.0), (3445, 0.0), (3446, 0.0), (3447, 0.0), (3448, 0.0), (3449, 0.0), (3450, 0.0), (3451, 0.0), (3452, 0.0), (3453, 0.0), (3454, 0.0), (3455, 0.0), (3460, 0.0), (3462, 0.0), (3463, 0.0), (3465, 0.0), (3466, 0.0), (3467, 0.0), (3468, 0.0), (3469, 0.0), (3470, 0.0), (3471, 0.0), (3475, 0.0), (3478, 0.0), (3479, 0.0), (3480, 0.0), (3486, 0.0), (3487, 0.0), (3488, 0.0), (3489, 0.0), (3490, 0.0), (3491, 0.0), (3493, 0.0), (3494, 0.0), (3495, 0.0), (3496, 0.0), (3499, 0.0), (3500, 0.0), (3501, 0.0), (3502, 0.0), (3504, 0.0), (3508, 0.0), (3511, 0.0), (3512, 0.0), (3513, 0.0), (3514, 0.0), (3515, 0.0), (3517, 0.0), (3518, 0.0), (3519, 0.0), (3520, 0.0), (3521, 0.0), (3522, 0.0), (3523, 0.0), (3525, 0.0), (3526, 0.0), (3527, 0.0), (3528, 0.0), (3529, 0.0), (3530, 0.0), (3532, 0.0), (3534, 0.0), (3535, 0.0), (3536, 0.0), (3537, 0.0), (3538, 0.0), (3540, 0.0), (3541, 0.0), (3543, 0.0), (3544, 0.0), (3547, 0.0), (3548, 0.0), (3549, 0.0), (3550, 0.0), (3551, 0.0), (3552, 0.0), (3555, 0.0), (3556, 0.0), (3558, 0.0), (3559, 0.0), (3560, 0.0), (3561, 0.0), (3565, 0.0), (3566, 0.0), (3567, 0.0), (3569, 0.0), (3571, 0.0), (3572, 0.0), (3573, 0.0), (3576, 0.0), (3577, 0.0), (3578, 0.0), (3580, 0.0), (3583, 0.0), (3584, 0.0), (3585, 0.0), (3586, 0.0), (3589, 0.0), (3590, 0.0), (3591, 0.0), (3592, 0.0), (3595, 0.0), (3597, 0.0), (3598, 0.0), (3599, 0.0), (3600, 0.0), (3601, 0.0), (3603, 0.0), (3604, 0.0), (3605, 0.0), (3606, 0.0), (3608, 0.0), (3609, 0.0), (3612, 0.0), (3614, 0.0), (3615, 0.0), (3617, 0.0), (3618, 0.0), (3619, 0.0), (3621, 0.0), (3622, 0.0), (3623, 0.0), (3624, 0.0), (3625, 0.0), (3627, 0.0), (3629, 0.0), (3630, 0.0), (3634, 0.0), (3635, 0.0), (3636, 0.0), (3637, 0.0), (3638, 0.0), (3639, 0.0), (3640, 0.0), (3641, 0.0), (3642, 0.0), (3644, 0.0), (3645, 0.0), (3647, 0.0), (3648, 0.0), (3649, 0.0), (3651, 0.0), (3652, 0.0), (3653, 0.0), (3654, 0.0), (3657, 0.0), (3659, 0.0), (3661, 0.0), (3663, 0.0), (3664, 0.0), (3665, 0.0), (3668, 0.0), (3669, 0.0), (3672, 0.0), (3675, 0.0), (3676, 0.0), (3677, 0.0), (3678, 0.0), (3679, 0.0), (3681, 0.0), (3686, 0.0), (3687, 0.0), (3688, 0.0), (3689, 0.0), (3690, 0.0), (3691, 0.0), (3692, 0.0), (3694, 0.0), (3696, 0.0), (3697, 0.0), (3698, 0.0), (3699, 0.0), (3701, 0.0), (3702, 0.0), (3703, 0.0), (3704, 0.0), (3706, 0.0), (3707, 0.0), (3708, 0.0), (3709, 0.0), (3710, 0.0), (3711, 0.0), (3713, 0.0), (3714, 0.0), (3716, 0.0), (3717, 0.0), (3719, 0.0), (3720, 0.0), (3721, 0.0), (3723, 0.0), (3724, 0.0), (3729, 0.0), (3730, 0.0), (3731, 0.0), (3732, 0.0), (3733, 0.0), (3734, 0.0), (3737, 0.0), (3740, 0.0), (3741, 0.0), (3742, 0.0), (3743, 0.0), (3745, 0.0), (3748, 0.0), (3749, 0.0), (3754, 0.0), (3755, 0.0), (3757, 0.0), (3758, 0.0), (3759, 0.0), (3760, 0.0), (3761, 0.0), (3762, 0.0), (3764, 0.0), (3765, 0.0), (3766, 0.0), (3767, 0.0), (3768, 0.0), (3770, 0.0), (3772, 0.0), (3773, 0.0), (3775, 0.0), (3776, 0.0), (3777, 0.0), (3778, 0.0), (3779, 0.0), (3781, 0.0), (3782, 0.0), (3783, 0.0), (3784, 0.0), (3786, 0.0), (3787, 0.0), (3789, 0.0), (3791, 0.0), (3793, 0.0), (3794, 0.0), (3795, 0.0), (3798, 0.0), (3799, 0.0), (3800, 0.0), (3801, 0.0), (3802, 0.0), (3806, 0.0), (3808, 0.0), (3810, 0.0), (3811, 0.0), (3814, 0.0), (3815, 0.0), (3818, 0.0), (3821, 0.0), (3823, 0.0), (3824, 0.0), (3825, 0.0), (3827, 0.0), (3829, 0.0), (3831, 0.0), (3832, 0.0), (3833, 0.0), (3834, 0.0), (3836, 0.0), (3837, 0.0), (3838, 0.0), (3839, 0.0), (3840, 0.0), (3841, 0.0), (3842, 0.0), (3844, 0.0), (3845, 0.0), (3848, 0.0), (3850, 0.0), (3851, 0.0), (3852, 0.0), (3853, 0.0), (3854, 0.0), (3856, 0.0), (3859, 0.0), (3860, 0.0), (3861, 0.0), (3862, 0.0), (3863, 0.0), (3866, 0.0), (3867, 0.0), (3869, 0.0), (3870, 0.0), (3872, 0.0), (3873, 0.0), (3874, 0.0), (3875, 0.0), (3878, 0.0), (3879, 0.0), (3880, 0.0), (3881, 0.0), (3882, 0.0), (3883, 0.0), (3884, 0.0), (3885, 0.0), (3887, 0.0), (3889, 0.0), (3891, 0.0), (3894, 0.0), (3895, 0.0), (3896, 0.0), (3897, 0.0), (3898, 0.0), (3900, 0.0), (3901, 0.0), (3902, 0.0), (3903, 0.0), (3905, 0.0), (3906, 0.0), (3907, 0.0), (3908, 0.0), (3909, 0.0), (3910, 0.0), (3911, 0.0), (3913, 0.0), (3914, 0.0), (3915, 0.0), (3917, 0.0), (3918, 0.0), (3919, 0.0), (3920, 0.0), (3921, 0.0), (3922, 0.0), (3924, 0.0), (3925, 0.0), (3927, 0.0), (3928, 0.0), (3929, 0.0), (3930, 0.0), (3931, 0.0), (3932, 0.0), (3933, 0.0), (3934, 0.0), (3935, 0.0), (3936, 0.0), (3937, 0.0), (3938, 0.0), (3939, 0.0), (3940, 0.0), (3941, 0.0), (3942, 0.0), (3944, 0.0), (3945, 0.0), (3946, 0.0), (3947, 0.0), (3949, 0.0), (3950, 0.0), (3951, 0.0), (3952, 0.0), (3954, 0.0), (3955, 0.0), (3956, 0.0), (3957, 0.0), (3958, 0.0), (3959, 0.0), (3960, 0.0), (3961, 0.0), (3962, 0.0), (3963, 0.0), (3964, 0.0), (3968, 0.0), (3970, 0.0), (3971, 0.0), (3972, 0.0), (3973, 0.0), (3975, 0.0), (3976, 0.0), (3977, 0.0), (3978, 0.0), (3979, 0.0), (3981, 0.0), (3984, 0.0), (3986, 0.0), (3987, 0.0), (3988, 0.0), (3992, 0.0), (3995, 0.0), (3997, 0.0), (3998, 0.0), (3999, 0.0), (4000, 0.0), (4001, 0.0), (4002, 0.0), (4003, 0.0), (4004, 0.0), (4005, 0.0), (4006, 0.0), (4008, 0.0), (4012, 0.0), (4013, 0.0), (4014, 0.0), (4016, 0.0), (4017, 0.0), (4018, 0.0), (4019, 0.0), (4020, 0.0), (4022, 0.0), (4023, 0.0), (4024, 0.0), (4026, 0.0), (4028, 0.0), (4029, 0.0), (4030, 0.0), (4032, 0.0), (4035, 0.0), (4036, 0.0), (4038, 0.0), (4039, 0.0), (4041, 0.0), (4042, 0.0), (4043, 0.0), (4044, 0.0), (4046, 0.0), (4047, 0.0), (4048, 0.0), (4049, 0.0), (4050, 0.0), (4051, 0.0), (4052, 0.0), (4053, 0.0), (4054, 0.0), (4055, 0.0), (4056, 0.0), (4057, 0.0), (4058, 0.0), (4061, 0.0), (4062, 0.0), (4063, 0.0), (4064, 0.0), (4065, 0.0), (4067, 0.0), (4068, 0.0), (4069, 0.0), (4071, 0.0), (4072, 0.0), (4075, 0.0), (4076, 0.0), (4077, 0.0), (4079, 0.0), (4080, 0.0), (4081, 0.0), (4082, 0.0), (4083, 0.0), (4084, 0.0), (4085, 0.0), (4087, 0.0), (4088, 0.0), (4091, 0.0), (4092, 0.0), (4093, 0.0), (4094, 0.0), (4095, 0.0), (4096, 0.0), (4098, 0.0), (4100, 0.0), (4102, 0.0), (4103, 0.0), (4104, 0.0), (4105, 0.0), (4106, 0.0), (4107, 0.0), (4108, 0.0), (4113, 0.0), (4115, 0.0), (4116, 0.0), (4117, 0.0), (4119, 0.0), (4120, 0.0), (4121, 0.0), (4123, 0.0), (4124, 0.0), (4125, 0.0), (4126, 0.0), (4127, 0.0), (4129, 0.0), (4130, 0.0), (4131, 0.0), (4132, 0.0), (4133, 0.0), (4134, 0.0), (4138, 0.0), (4139, 0.0), (4141, 0.0), (4142, 0.0), (4143, 0.0), (4144, 0.0), (4145, 0.0), (4148, 0.0), (4149, 0.0), (4150, 0.0), (4151, 0.0), (4153, 0.0), (4154, 0.0), (4156, 0.0), (4158, 0.0), (4161, 0.0), (4163, 0.0), (4165, 0.0), (4166, 0.0), (4170, 0.0), (4172, 0.0), (4175, 0.0), (4177, 0.0), (4178, 0.0), (4179, 0.0), (4180, 0.0), (4181, 0.0), (4182, 0.0), (4183, 0.0), (4184, 0.0), (4185, 0.0), (4188, 0.0), (4192, 0.0), (4193, 0.0), (4198, 0.0), (4200, 0.0), (4201, 0.0), (4202, 0.0), (4204, 0.0), (4205, 0.0), (4206, 0.0), (4208, 0.0), (4209, 0.0), (4211, 0.0), (4212, 0.0), (4213, 0.0), (4214, 0.0), (4215, 0.0), (4217, 0.0), (4219, 0.0), (4220, 0.0), (4221, 0.0), (4222, 0.0), (4223, 0.0), (4224, 0.0), (4225, 0.0), (4226, 0.0), (4227, 0.0), (4228, 0.0), (4229, 0.0), (4230, 0.0), (4231, 0.0), (4232, 0.0), (4233, 0.0), (4234, 0.0), (4235, 0.0), (4236, 0.0), (4237, 0.0), (4238, 0.0), (4239, 0.0), (4241, 0.0), (4243, 0.0), (4244, 0.0), (4245, 0.0), (4246, 0.0), (4248, 0.0), (4249, 0.0), (4250, 0.0), (4251, 0.0), (4253, 0.0), (4254, 0.0), (4255, 0.0), (4256, 0.0), (4257, 0.0), (4260, 0.0), (4261, 0.0), (4263, 0.0), (4264, 0.0), (4265, 0.0), (4266, 0.0), (4267, 0.0), (4272, 0.0), (4273, 0.0), (4275, 0.0), (4276, 0.0), (4278, 0.0), (4279, 0.0), (4280, 0.0), (4281, 0.0), (4282, 0.0), (4283, 0.0), (4284, 0.0), (4285, 0.0), (4288, 0.0), (4291, 0.0), (4292, 0.0), (4293, 0.0), (4294, 0.0), (4295, 0.0), (4296, 0.0), (4297, 0.0), (4298, 0.0), (4299, 0.0), (4300, 0.0), (4301, 0.0), (4302, 0.0), (4305, 0.0), (4306, 0.0), (4307, 0.0), (4308, 0.0), (4311, 0.0), (4312, 0.0), (4313, 0.0), (4315, 0.0), (4316, 0.0), (4320, 0.0), (4322, 0.0), (4323, 0.0), (4324, 0.0), (4326, 0.0), (4327, 0.0), (4328, 0.0), (4331, 0.0), (4332, 0.0), (4334, 0.0), (4335, 0.0), (4336, 0.0), (4337, 0.0), (4339, 0.0), (4342, 0.0), (4343, 0.0), (4348, 0.0), (4349, 0.0), (4350, 0.0), (4352, 0.0), (4354, 0.0), (4355, 0.0), (4357, 0.0), (4361, 0.0), (4362, 0.0), (4365, 0.0), (4367, 0.0), (4368, 0.0), (4369, 0.0), (4370, 0.0), (4372, 0.0), (4373, 0.0), (4375, 0.0), (4376, 0.0), (4377, 0.0), (4378, 0.0), (4379, 0.0), (4381, 0.0), (4382, 0.0), (4384, 0.0), (4385, 0.0), (4386, 0.0), (4387, 0.0), (4389, 0.0), (4390, 0.0), (4391, 0.0), (4392, 0.0), (4393, 0.0), (4397, 0.0), (4398, 0.0), (4400, 0.0), (4401, 0.0), (4403, 0.0), (4404, 0.0), (4406, 0.0), (4408, 0.0), (4409, 0.0), (4410, 0.0), (4413, 0.0), (4414, 0.0), (4415, 0.0), (4417, 0.0), (4418, 0.0), (4419, 0.0), (4420, 0.0), (4422, 0.0), (4423, 0.0), (4424, 0.0), (4425, 0.0), (4426, 0.0), (4428, 0.0), (4429, 0.0), (4430, 0.0), (4432, 0.0), (4433, 0.0), (4435, 0.0), (4436, 0.0), (4439, 0.0), (4440, 0.0), (4441, 0.0), (4442, 0.0), (4443, 0.0), (4444, 0.0), (4446, 0.0), (4448, 0.0), (4449, 0.0), (4450, 0.0), (4451, 0.0), (4452, 0.0), (4453, 0.0), (4456, 0.0), (4458, 0.0), (4459, 0.0), (4461, 0.0), (4462, 0.0), (4463, 0.0), (4464, 0.0), (4465, 0.0), (4466, 0.0), (4467, 0.0), (4469, 0.0), (4471, 0.0), (4474, 0.0), (4475, 0.0), (4476, 0.0), (4477, 0.0), (4479, 0.0), (4480, 0.0), (4481, 0.0), (4484, 0.0), (4485, 0.0), (4486, 0.0), (4487, 0.0), (4489, 0.0), (4491, 0.0), (4493, 0.0), (4494, 0.0), (4495, 0.0), (4496, 0.0), (4499, 0.0), (4502, 0.0), (4504, 0.0), (4505, 0.0), (4506, 0.0), (4507, 0.0), (4508, 0.0), (4509, 0.0), (4510, 0.0), (4511, 0.0), (4512, 0.0), (4514, 0.0), (4517, 0.0), (4518, 0.0), (4520, 0.0), (4521, 0.0), (4523, 0.0), (4524, 0.0), (4527, 0.0), (4528, 0.0), (4530, 0.0), (4531, 0.0), (4532, 0.0), (4533, 0.0), (4534, 0.0), (4535, 0.0), (4537, 0.0), (4539, 0.0), (4540, 0.0), (4543, 0.0), (4544, 0.0), (4546, 0.0), (4547, 0.0), (4548, 0.0), (4549, 0.0), (4550, 0.0), (4551, 0.0), (4552, 0.0), (4553, 0.0), (4554, 0.0), (4555, 0.0), (4556, 0.0), (4560, 0.0), (4561, 0.0), (4562, 0.0), (4563, 0.0), (4564, 0.0), (4565, 0.0), (4566, 0.0), (4567, 0.0), (4568, 0.0), (4571, 0.0), (4572, 0.0), (4573, 0.0), (4575, 0.0), (4576, 0.0), (4577, 0.0), (4578, 0.0), (4579, 0.0), (4580, 0.0), (4581, 0.0), (4582, 0.0), (4583, 0.0), (4585, 0.0), (4586, 0.0), (4588, 0.0), (4591, 0.0), (4592, 0.0), (4593, 0.0), (4594, 0.0), (4595, 0.0), (4596, 0.0), (4597, 0.0), (4600, 0.0), (4601, 0.0), (4602, 0.0), (4603, 0.0), (4605, 0.0), (4606, 0.0), (4607, 0.0), (4608, 0.0), (4609, 0.0), (4610, 0.0), (4612, 0.0), (4613, 0.0), (4614, 0.0), (4615, 0.0), (4616, 0.0), (4617, 0.0), (4618, 0.0), (4619, 0.0), (4620, 0.0), (4622, 0.0), (4623, 0.0), (4624, 0.0), (4625, 0.0), (4626, 0.0), (4627, 0.0), (4628, 0.0), (4629, 0.0), (4631, 0.0), (4632, 0.0), (4633, 0.0), (4634, 0.0), (4635, 0.0), (4636, 0.0), (4637, 0.0), (4640, 0.0), (4641, 0.0), (4642, 0.0), (4644, 0.0), (4645, 0.0), (4646, 0.0), (4648, 0.0), (4649, 0.0), (4651, 0.0), (4652, 0.0), (4653, 0.0), (4654, 0.0), (4655, 0.0), (4656, 0.0), (4657, 0.0), (4660, 0.0), (4661, 0.0), (4664, 0.0), (4665, 0.0), (4667, 0.0), (4668, 0.0), (4669, 0.0), (4670, 0.0), (4671, 0.0), (4672, 0.0), (4673, 0.0), (4674, 0.0), (4676, 0.0), (4677, 0.0), (4678, 0.0), (4680, 0.0), (4681, 0.0), (4682, 0.0), (4683, 0.0), (4685, 0.0), (4686, 0.0), (4687, 0.0), (4689, 0.0), (4690, 0.0), (4691, 0.0), (4692, 0.0), (4693, 0.0), (4694, 0.0), (4695, 0.0), (4696, 0.0), (4697, 0.0), (4698, 0.0), (4701, 0.0), (4702, 0.0), (4703, 0.0), (4706, 0.0), (4707, 0.0), (4709, 0.0), (4710, 0.0), (4712, 0.0), (4713, 0.0), (4714, 0.0), (4715, 0.0), (4716, 0.0), (4717, 0.0), (4720, 0.0), (4721, 0.0), (4722, 0.0), (4723, 0.0), (4724, 0.0), (4726, 0.0), (4727, 0.0), (4728, 0.0), (4729, 0.0), (4731, 0.0), (4732, 0.0), (4733, 0.0), (4734, 0.0), (4735, 0.0), (4736, 0.0), (4738, 0.0), (4741, 0.0), (4743, 0.0), (4744, 0.0), (4745, 0.0), (4746, 0.0), (4747, 0.0), (4748, 0.0), (4749, 0.0), (4750, 0.0), (4751, 0.0), (4755, 0.0), (4759, 0.0)]\n"
     ]
    }
   ],
   "source": [
    "Sorted_Similar_Movies = sorted(Recommendation_Score, key = lambda x:x[1], reverse = True)\n",
    "print(Sorted_Similar_Movies)"
   ]
  },
  {
   "cell_type": "markdown",
   "id": "7d107fb9",
   "metadata": {},
   "source": [
    "## PRINT THE NAME OF SIMILAR MOVIES BASED ON THE INDEX"
   ]
  },
  {
   "cell_type": "code",
   "execution_count": 108,
   "id": "87825c03",
   "metadata": {},
   "outputs": [
    {
     "name": "stdout",
     "output_type": "stream",
     "text": [
      "Top 30Movies Suggested For You : \n",
      "\n",
      "1 . Doogal\n",
      "2 . Cats & Dogs\n",
      "3 . The Color Purple\n",
      "4 . Fever Pitch\n",
      "5 . Elf\n",
      "6 . Superbabies: Baby Geniuses 2\n",
      "7 . The Rugrats Movie\n",
      "8 . An Alan Smithee Film: Burn, Hollywood, Burn\n",
      "9 . Shorts\n",
      "10 . How Stella Got Her Groove Back\n",
      "11 . Brooklyn Rules\n",
      "12 . In the Bedroom\n",
      "13 . Bogus\n",
      "14 . Factory Girl\n",
      "15 . Magnolia\n",
      "16 . In the Land of Women\n",
      "17 . Ghost\n",
      "18 . Freaky Friday\n",
      "19 . The Benchwarmers\n",
      "20 . Running Forever\n",
      "21 . Madea Goes to Jail\n",
      "22 . Ghosts of Mississippi\n",
      "23 . A Walk Among the Tombstones\n",
      "24 . Rat Race\n",
      "25 . Zookeeper\n",
      "26 . Death to Smoochy\n",
      "27 . The Deep End of the Ocean\n",
      "28 . Farce of the Penguins\n",
      "29 . Trucker\n",
      "30 . The Guard\n"
     ]
    }
   ],
   "source": [
    "print('Top 30Movies Suggested For You : \\n')\n",
    "i= 1\n",
    "for movie in Sorted_Similar_Movies : \n",
    "    index = movie[0]\n",
    "    title_from_index = df[df.index==index]['Movie_Title'].values[0]\n",
    "    if (i<31):\n",
    "        print(i, '.',title_from_index)\n",
    "        i+=1"
   ]
  },
  {
   "cell_type": "markdown",
   "id": "f56b21d2",
   "metadata": {},
   "source": [
    "# TOP 10 MOVIE RECOMMENDATION  SYSTEM"
   ]
  },
  {
   "cell_type": "code",
   "execution_count": 114,
   "id": "a791d310",
   "metadata": {},
   "outputs": [
    {
     "name": "stdout",
     "output_type": "stream",
     "text": [
      "Enter Your Favorite Movie Name : avatar\n",
      "Top 10 Movies Suggested For You : \n",
      "\n",
      "1 . ['Avatar']\n",
      "2 . ['Donnie Darko']\n",
      "3 . ['The Girl on the Train']\n",
      "4 . ['Freaky Friday']\n",
      "5 . ['Repo! The Genetic Opera']\n",
      "6 . ['The Godfather']\n",
      "7 . ['New Nightmare']\n",
      "8 . ['Rollerball']\n",
      "9 . ['A Prairie Home Companion']\n",
      "10 . ['The Merchant of Venice']\n"
     ]
    }
   ],
   "source": [
    "Movie_Name = input('Enter Your Favorite Movie Name : ')\n",
    "list_of_all_titles = df['Movie_Title'].tolist()\n",
    "Find_Close_Match = difflib.get_close_matches(Movie_Name, list_of_all_titles)\n",
    "Close_Match = Find_Close_Match[0]\n",
    "Index_of_Movie = df[df.Movie_Title == Close_Match]['Movie_ID'].values[0]\n",
    "Recommendation_Score = list(enumerate(Similarity_Score[Index_of_Movie]))\n",
    "sorted_similar_movies = sorted(Recommendation_Score, key = lambda x:x[1], reverse = True)\n",
    "print('Top 10 Movies Suggested For You : \\n')\n",
    "i = 1\n",
    "for movie in sorted_similar_movies:\n",
    "    index = movie[0]\n",
    "    title_from_index = df[df.Movie_ID==index]['Movie_Title'].values\n",
    "    if (i<11):\n",
    "        print(i, '.',title_from_index)\n",
    "        i+=1"
   ]
  },
  {
   "cell_type": "code",
   "execution_count": null,
   "id": "cd52c881",
   "metadata": {},
   "outputs": [],
   "source": []
  }
 ],
 "metadata": {
  "kernelspec": {
   "display_name": "Python 3 (ipykernel)",
   "language": "python",
   "name": "python3"
  },
  "language_info": {
   "codemirror_mode": {
    "name": "ipython",
    "version": 3
   },
   "file_extension": ".py",
   "mimetype": "text/x-python",
   "name": "python",
   "nbconvert_exporter": "python",
   "pygments_lexer": "ipython3",
   "version": "3.9.13"
  }
 },
 "nbformat": 4,
 "nbformat_minor": 5
}
